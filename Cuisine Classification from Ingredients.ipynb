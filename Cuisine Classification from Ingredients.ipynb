{
 "cells": [
  {
   "cell_type": "markdown",
   "metadata": {},
   "source": [
    "# Cuisine Classification from Ingredients\n",
    "\n",
    "### **Description:** The main purpose of this project is to classify cuisines based on Ingredients of the Reciepe.\n",
    "\n",
    "\n",
    "The steps followed are as follows:\n",
    "* Step-1: Download dataset from [https://www.kaggle.com/c/whats-cooking/data](https://www.kaggle.com/c/whats-cooking/data), store it in dictionary and convert it to dataframe.\n",
    "* Step-2: Feature Selection:\n",
    "  * Removal of punctuation, digits, content inside parenthesis using Regex Expression\n",
    "  * Remove brand names using Regex Expression\n",
    "  * Convert to lower case and Remove stop words using Regex Expression\n",
    "  * Use Porter Stemmer Algorithm\n",
    "* Step-3: Encoded Cuisine column using Label Encoder of sklearn.\n",
    "* Step-4: Convert the ingredients column after feature selection into TFIDF Matrix\n",
    "* Step-5: Split the data(X-TFIDF Matrix, Y-Label Encoded value of Cuisine into training and test data(80:20).\n",
    "* Step-6: Use Different Machine Learning Algorithm to get best accuracy. \n"
   ]
  },
  {
   "cell_type": "code",
   "execution_count": 91,
   "metadata": {},
   "outputs": [
    {
     "name": "stdout",
     "output_type": "stream",
     "text": [
      "{'id': 10259, 'cuisine': 'greek', 'ingredients': ['romaine lettuce', 'black olives', 'grape tomatoes', 'garlic', 'pepper', 'purple onion', 'seasoning', 'garbanzo beans', 'feta cheese crumbles']}\n"
     ]
    }
   ],
   "source": [
    "import json\n",
    "from nltk.corpus import stopwords\n",
    "from nltk.tokenize import word_tokenize\n",
    "from nltk.stem import PorterStemmer\n",
    "from nltk.tokenize import sent_tokenize, word_tokenize\n",
    "\n",
    "ps = PorterStemmer()\n",
    "file = r'/train.json'\n",
    "with open(file) as train_file:\n",
    "    dict_train = json.load(train_file)\n",
    "\n",
    "print(dict_train[0])"
   ]
  },
  {
   "cell_type": "code",
   "execution_count": 92,
   "metadata": {},
   "outputs": [
    {
     "data": {
      "text/plain": [
       "39774"
      ]
     },
     "execution_count": 92,
     "metadata": {},
     "output_type": "execute_result"
    }
   ],
   "source": [
    "len(dict_train)"
   ]
  },
  {
   "cell_type": "code",
   "execution_count": 93,
   "metadata": {},
   "outputs": [
    {
     "data": {
      "text/plain": [
       "['romaine lettuce',\n",
       " 'black olives',\n",
       " 'grape tomatoes',\n",
       " 'garlic',\n",
       " 'pepper',\n",
       " 'purple onion',\n",
       " 'seasoning',\n",
       " 'garbanzo beans',\n",
       " 'feta cheese crumbles']"
      ]
     },
     "execution_count": 93,
     "metadata": {},
     "output_type": "execute_result"
    }
   ],
   "source": [
    "dict_train[0]['ingredients']"
   ]
  },
  {
   "cell_type": "code",
   "execution_count": 94,
   "metadata": {
    "collapsed": true
   },
   "outputs": [],
   "source": [
    "id_ = []\n",
    "cuisine = []\n",
    "ingredients = []\n",
    "for i in range(len(dict_train)):\n",
    "    id_.append(dict_train[i]['id'])\n",
    "    cuisine.append(dict_train[i]['cuisine'])\n",
    "    ingredients.append(dict_train[i]['ingredients'])\n",
    "    \n",
    "    \n",
    "    "
   ]
  },
  {
   "cell_type": "code",
   "execution_count": 95,
   "metadata": {},
   "outputs": [
    {
     "name": "stdout",
     "output_type": "stream",
     "text": [
      "       cuisine     id                                        ingredients\n",
      "0        greek  10259  [romaine lettuce, black olives, grape tomatoes...\n",
      "1  southern_us  25693  [plain flour, ground pepper, salt, tomatoes, g...\n",
      "2     filipino  20130  [eggs, pepper, salt, mayonaise, cooking oil, g...\n",
      "3       indian  22213                [water, vegetable oil, wheat, salt]\n",
      "4       indian  13162  [black pepper, shallots, cornflour, cayenne pe...\n"
     ]
    }
   ],
   "source": [
    "import pandas as pd\n",
    "df = pd.DataFrame({'id':id_, \n",
    "                   'cuisine':cuisine, \n",
    "                   'ingredients':ingredients})\n",
    "print(df.head(5))"
   ]
  },
  {
   "cell_type": "code",
   "execution_count": 96,
   "metadata": {},
   "outputs": [
    {
     "data": {
      "text/plain": [
       "italian         7838\n",
       "mexican         6438\n",
       "southern_us     4320\n",
       "indian          3003\n",
       "chinese         2673\n",
       "french          2646\n",
       "cajun_creole    1546\n",
       "thai            1539\n",
       "japanese        1423\n",
       "greek           1175\n",
       "spanish          989\n",
       "korean           830\n",
       "vietnamese       825\n",
       "moroccan         821\n",
       "british          804\n",
       "filipino         755\n",
       "irish            667\n",
       "jamaican         526\n",
       "russian          489\n",
       "brazilian        467\n",
       "Name: cuisine, dtype: int64"
      ]
     },
     "execution_count": 96,
     "metadata": {},
     "output_type": "execute_result"
    }
   ],
   "source": [
    "df['cuisine'].value_counts()"
   ]
  },
  {
   "cell_type": "code",
   "execution_count": 97,
   "metadata": {
    "collapsed": true
   },
   "outputs": [],
   "source": [
    "new = []\n",
    "for s in df['ingredients']:\n",
    "    s = ' '.join(s)\n",
    "    new.append(s)\n",
    "    "
   ]
  },
  {
   "cell_type": "code",
   "execution_count": 98,
   "metadata": {
    "collapsed": true
   },
   "outputs": [],
   "source": [
    "df['ing'] = new"
   ]
  },
  {
   "cell_type": "code",
   "execution_count": 99,
   "metadata": {},
   "outputs": [
    {
     "name": "stdout",
     "output_type": "stream",
     "text": [
      "       cuisine     id                                        ingredients  \\\n",
      "0        greek  10259  [romaine lettuce, black olives, grape tomatoes...   \n",
      "1  southern_us  25693  [plain flour, ground pepper, salt, tomatoes, g...   \n",
      "2     filipino  20130  [eggs, pepper, salt, mayonaise, cooking oil, g...   \n",
      "3       indian  22213                [water, vegetable oil, wheat, salt]   \n",
      "4       indian  13162  [black pepper, shallots, cornflour, cayenne pe...   \n",
      "5     jamaican   6602  [plain flour, sugar, butter, eggs, fresh ginge...   \n",
      "6      spanish  42779  [olive oil, salt, medium shrimp, pepper, garli...   \n",
      "7      italian   3735  [sugar, pistachio nuts, white almond bark, flo...   \n",
      "8      mexican  16903  [olive oil, purple onion, fresh pineapple, por...   \n",
      "9      italian  12734  [chopped tomatoes, fresh basil, garlic, extra-...   \n",
      "\n",
      "                                                 ing  \\\n",
      "0  romaine lettuce black olives grape tomatoes ga...   \n",
      "1  plain flour ground pepper salt tomatoes ground...   \n",
      "2  eggs pepper salt mayonaise cooking oil green c...   \n",
      "3                     water vegetable oil wheat salt   \n",
      "4  black pepper shallots cornflour cayenne pepper...   \n",
      "5  plain flour sugar butter eggs fresh ginger roo...   \n",
      "6  olive oil salt medium shrimp pepper garlic cho...   \n",
      "7  sugar pistachio nuts white almond bark flour v...   \n",
      "8  olive oil purple onion fresh pineapple pork po...   \n",
      "9  chopped tomatoes fresh basil garlic extra-virg...   \n",
      "\n",
      "                                             ing_mod  \n",
      "0  romain lettuc black oliv grape tomato garlic p...  \n",
      "1  plain flour ground pepper salt tomato ground b...  \n",
      "2  egg pepper salt mayonais cook oil green chili ...  \n",
      "3                         water veget oil wheat salt  \n",
      "4  black pepper shallot cornflour cayenn pepper o...  \n",
      "5  plain flour sugar butter egg fresh ginger root...  \n",
      "6  oliv oil salt medium shrimp pepper garlic chop...  \n",
      "7  sugar pistachio nut white almond bark flour va...  \n",
      "8  oliv oil purpl onion fresh pineappl pork pobla...  \n",
      "9  chop tomato fresh basil garlic extravirgin oli...  \n"
     ]
    }
   ],
   "source": [
    "import re\n",
    "l=[]\n",
    "for s in df['ing']:\n",
    "    \n",
    "    #Remove punctuations\n",
    "    s=re.sub(r'[^\\w\\s]','',s)\n",
    "    \n",
    "    #Remove Digits\n",
    "    s=re.sub(r\"(\\d)\", \"\", s)\n",
    "    \n",
    "    #Remove content inside paranthesis\n",
    "    s=re.sub(r'\\([^)]*\\)', '', s)\n",
    "    \n",
    "    #Remove Brand Name\n",
    "    s=re.sub(u'\\w*\\u2122', '', s)\n",
    "    \n",
    "    #Convert to lowercase\n",
    "    s=s.lower()\n",
    "    \n",
    "    #Remove Stop Words\n",
    "    stop_words = set(stopwords.words('english'))\n",
    "    word_tokens = word_tokenize(s)\n",
    "    filtered_sentence = [w for w in word_tokens if not w in stop_words]\n",
    "    filtered_sentence = []\n",
    "    for w in word_tokens:\n",
    "        if w not in stop_words:\n",
    "            filtered_sentence.append(w)\n",
    "    s=' '.join(filtered_sentence)\n",
    "    \n",
    "    #Remove low-content adjectives\n",
    "    \n",
    "    \n",
    "    #Porter Stemmer Algorithm\n",
    "    words = word_tokenize(s)\n",
    "    word_ps=[]\n",
    "    for w in words:\n",
    "       word_ps.append(ps.stem(w))\n",
    "    s=' '.join(word_ps)\n",
    "    \n",
    "    l.append(s)\n",
    "df['ing_mod']=l\n",
    "print(df.head(10))"
   ]
  },
  {
   "cell_type": "code",
   "execution_count": 101,
   "metadata": {},
   "outputs": [
    {
     "name": "stdout",
     "output_type": "stream",
     "text": [
      "  (0, 2066)\t0.358742368305\n",
      "  (0, 1368)\t0.279113558822\n",
      "  (0, 211)\t0.1474807692\n",
      "  (0, 1696)\t0.140383928524\n",
      "  (0, 1040)\t0.358370896832\n",
      "  (0, 2487)\t0.149020782233\n",
      "  (0, 965)\t0.110423617226\n",
      "  (0, 1811)\t0.104595496092\n",
      "  (0, 1961)\t0.250742183159\n",
      "  (0, 1699)\t0.112545141153\n",
      "  (0, 2158)\t0.235344428308\n",
      "  (0, 960)\t0.406987699414\n",
      "  (0, 152)\t0.209263619966\n",
      "  (0, 849)\t0.318797276253\n",
      "  (0, 464)\t0.152756710941\n",
      "  (0, 653)\t0.335930359104\n",
      "  (1, 211)\t0.170560662478\n",
      "  (1, 2487)\t0.34468335741\n",
      "  (1, 1811)\t0.241928180905\n",
      "  (1, 1877)\t0.345327620662\n",
      "  (1, 894)\t0.184355427894\n",
      "  (1, 1067)\t0.302640570155\n",
      "  (1, 2116)\t0.108657345321\n",
      "  (1, 2471)\t0.273543336047\n",
      "  (1, 787)\t0.184685524469\n",
      "  :\t:\n",
      "  (39772, 2357)\t0.268411022775\n",
      "  (39772, 253)\t0.268411022775\n",
      "  (39772, 2340)\t0.248396991662\n",
      "  (39772, 2611)\t0.249620356348\n",
      "  (39773, 211)\t0.159683476941\n",
      "  (39773, 2487)\t0.161350912208\n",
      "  (39773, 965)\t0.119560178799\n",
      "  (39773, 1811)\t0.226499666077\n",
      "  (39773, 1699)\t0.121857239759\n",
      "  (39773, 1067)\t0.141670118432\n",
      "  (39773, 2116)\t0.101727927436\n",
      "  (39773, 1057)\t0.34856567689\n",
      "  (39773, 488)\t0.192776351135\n",
      "  (39773, 2382)\t0.152913225058\n",
      "  (39773, 923)\t0.141675238562\n",
      "  (39773, 508)\t0.184479001519\n",
      "  (39773, 526)\t0.197743953925\n",
      "  (39773, 1210)\t0.276327943271\n",
      "  (39773, 2637)\t0.182890387769\n",
      "  (39773, 758)\t0.186864396905\n",
      "  (39773, 1704)\t0.247751202267\n",
      "  (39773, 485)\t0.24989653471\n",
      "  (39773, 170)\t0.228303960479\n",
      "  (39773, 2065)\t0.413868266263\n",
      "  (39773, 433)\t0.265309245224\n"
     ]
    }
   ],
   "source": [
    "from sklearn.feature_extraction.text import TfidfVectorizer\n",
    "vectorizer = TfidfVectorizer()\n",
    "X = vectorizer.fit_transform(df['ing_mod'])\n",
    "\n",
    "print(X)\n",
    "#print(vectorizer.get_feature_names())"
   ]
  },
  {
   "cell_type": "code",
   "execution_count": 102,
   "metadata": {},
   "outputs": [
    {
     "data": {
      "text/plain": [
       "39774"
      ]
     },
     "execution_count": 102,
     "metadata": {},
     "output_type": "execute_result"
    }
   ],
   "source": [
    "len(new)"
   ]
  },
  {
   "cell_type": "code",
   "execution_count": 103,
   "metadata": {},
   "outputs": [
    {
     "data": {
      "text/plain": [
       "str"
      ]
     },
     "execution_count": 103,
     "metadata": {},
     "output_type": "execute_result"
    }
   ],
   "source": [
    "type(df['ing'][0])"
   ]
  },
  {
   "cell_type": "code",
   "execution_count": 104,
   "metadata": {},
   "outputs": [
    {
     "name": "stdout",
     "output_type": "stream",
     "text": [
      " cool col coo\n"
     ]
    }
   ],
   "source": [
    "s='1 1cool co1l coo1'\n",
    "s=re.sub(r\"(\\d)\", \"\", s)\n",
    "print(s)"
   ]
  },
  {
   "cell_type": "code",
   "execution_count": 105,
   "metadata": {},
   "outputs": [
    {
     "name": "stdout",
     "output_type": "stream",
     "text": [
      "hi 1\n"
     ]
    }
   ],
   "source": [
    "s='hi 1(bye)'\n",
    "s=re.sub(r'\\([^)]*\\)', '', s)\n",
    "print(s)"
   ]
  },
  {
   "cell_type": "code",
   "execution_count": 106,
   "metadata": {},
   "outputs": [
    {
     "name": "stdout",
     "output_type": "stream",
     "text": [
      "hi 1  hi\n"
     ]
    }
   ],
   "source": [
    "s='hi 1 Marvel™ hi'\n",
    "s=re.sub(u'\\w*\\u2122', '', s)\n",
    "print(s)"
   ]
  },
  {
   "cell_type": "code",
   "execution_count": 107,
   "metadata": {},
   "outputs": [
    {
     "name": "stdout",
     "output_type": "stream",
     "text": [
      "I love phone, super fast 'much new cool things jelly bean....recently I'seen bugs.\n"
     ]
    }
   ],
   "source": [
    "import re\n",
    "from nltk.corpus import stopwords\n",
    "s=\"I love this phone, its super fast and there's so much new and cool things with jelly bean....but of recently I've seen some bugs.\"\n",
    "pattern = re.compile(r'\\b(' + r'|'.join(stopwords.words('english')) + r')\\b\\s*')\n",
    "s = pattern.sub('', s)\n",
    "print(s)"
   ]
  },
  {
   "cell_type": "code",
   "execution_count": 108,
   "metadata": {},
   "outputs": [
    {
     "name": "stdout",
     "output_type": "stream",
     "text": [
      "[nltk_data] Error loading word_tokenize: Package 'word_tokenize' not\n",
      "[nltk_data]     found in index\n"
     ]
    },
    {
     "data": {
      "text/plain": [
       "False"
      ]
     },
     "execution_count": 108,
     "metadata": {},
     "output_type": "execute_result"
    }
   ],
   "source": [
    "#\"love phone, super fast much cool jelly bean....but recently bugs.\"\n",
    "import nltk\n",
    "nltk.download('word_tokenize')"
   ]
  },
  {
   "cell_type": "code",
   "execution_count": 109,
   "metadata": {},
   "outputs": [
    {
     "name": "stdout",
     "output_type": "stream",
     "text": [
      "['This', 'is', 'a', 'sample', 'sentence', ',', 'showing', 'off', 'the', 'stop', 'words', 'filtration', '.']\n",
      "['This', 'sample', 'sentence', ',', 'showing', 'stop', 'words', 'filtration', '.']\n"
     ]
    }
   ],
   "source": [
    "from nltk.corpus import stopwords\n",
    "from nltk.tokenize import word_tokenize\n",
    "\n",
    "example_sent = \"This is a sample sentence, showing off the stop words filtration.\"\n",
    "\n",
    "stop_words = set(stopwords.words('english'))\n",
    "\n",
    "word_tokens = word_tokenize(example_sent)\n",
    "\n",
    "filtered_sentence = [w for w in word_tokens if not w in stop_words]\n",
    "\n",
    "filtered_sentence = []\n",
    "\n",
    "for w in word_tokens:\n",
    "    if w not in stop_words:\n",
    "        filtered_sentence.append(w)\n",
    "\n",
    "print(word_tokens)\n",
    "print(filtered_sentence)"
   ]
  },
  {
   "cell_type": "code",
   "execution_count": 110,
   "metadata": {},
   "outputs": [
    {
     "data": {
      "text/plain": [
       "'love phone, super fast much cool jelly bean....but recently bugs.'"
      ]
     },
     "execution_count": 110,
     "metadata": {},
     "output_type": "execute_result"
    }
   ],
   "source": [
    "\"love phone, super fast much cool jelly bean....but recently bugs.\""
   ]
  },
  {
   "cell_type": "code",
   "execution_count": 111,
   "metadata": {},
   "outputs": [
    {
     "name": "stdout",
     "output_type": "stream",
     "text": [
      "[nltk_data] Error loading word_tokenize: Package 'word_tokenize' not\n",
      "[nltk_data]     found in index\n"
     ]
    },
    {
     "data": {
      "text/plain": [
       "False"
      ]
     },
     "execution_count": 111,
     "metadata": {},
     "output_type": "execute_result"
    }
   ],
   "source": [
    "import nltk\n",
    "nltk.download('word_tokenize')"
   ]
  },
  {
   "cell_type": "code",
   "execution_count": 112,
   "metadata": {},
   "outputs": [
    {
     "name": "stdout",
     "output_type": "stream",
     "text": [
      "[nltk_data] Downloading package punkt to\n",
      "[nltk_data]     C:\\Users\\RAHUL\\AppData\\Roaming\\nltk_data...\n",
      "[nltk_data]   Package punkt is already up-to-date!\n"
     ]
    },
    {
     "data": {
      "text/plain": [
       "True"
      ]
     },
     "execution_count": 112,
     "metadata": {},
     "output_type": "execute_result"
    }
   ],
   "source": [
    "nltk.download('punkt')"
   ]
  },
  {
   "cell_type": "code",
   "execution_count": 113,
   "metadata": {},
   "outputs": [
    {
     "name": "stdout",
     "output_type": "stream",
     "text": [
      "['This', 'is', 'a', 'sample', 'sentence', ',', 'showing', 'off', 'the', 'stop', 'words', 'filtration', '.']\n",
      "['This', 'sample', 'sentence', ',', 'showing', 'stop', 'words', 'filtration', '.']\n"
     ]
    }
   ],
   "source": [
    "from nltk.corpus import stopwords\n",
    "from nltk.tokenize import word_tokenize\n",
    "\n",
    "s = \"This is a sample sentence, showing off the stop words filtration.\"\n",
    "\n",
    "stop_words = set(stopwords.words('english'))\n",
    "\n",
    "word_tokens = word_tokenize(example_sent)\n",
    "\n",
    "filtered_sentence = [w for w in word_tokens if not w in stop_words]\n",
    "\n",
    "filtered_sentence = []\n",
    "\n",
    "for w in word_tokens:\n",
    "    if w not in stop_words:\n",
    "        filtered_sentence.append(w)\n",
    "\n",
    "print(word_tokens)\n",
    "print(filtered_sentence)"
   ]
  },
  {
   "cell_type": "code",
   "execution_count": 114,
   "metadata": {
    "collapsed": true
   },
   "outputs": [],
   "source": [
    "from nltk.stem import PorterStemmer\n",
    "from nltk.tokenize import sent_tokenize, word_tokenize\n",
    "\n",
    "ps = PorterStemmer()"
   ]
  },
  {
   "cell_type": "code",
   "execution_count": 115,
   "metadata": {},
   "outputs": [
    {
     "name": "stdout",
     "output_type": "stream",
     "text": [
      "This is a sample sentence, showing off the stop words filtration.\n"
     ]
    }
   ],
   "source": [
    "new_text = \"It is important to by very pythonly while you are pythoning with python. All pythoners have pythoned poorly at least once.\"\n",
    "\n",
    "print(s)"
   ]
  },
  {
   "cell_type": "code",
   "execution_count": 116,
   "metadata": {
    "collapsed": true
   },
   "outputs": [],
   "source": [
    "from sklearn import preprocessing\n",
    "le = preprocessing.LabelEncoder()\n",
    "le.fit(df['cuisine'])\n",
    "df['cuisine']=le.transform(df['cuisine']) "
   ]
  },
  {
   "cell_type": "code",
   "execution_count": 117,
   "metadata": {},
   "outputs": [
    {
     "data": {
      "text/plain": [
       "9     7838\n",
       "13    6438\n",
       "16    4320\n",
       "7     3003\n",
       "3     2673\n",
       "5     2646\n",
       "2     1546\n",
       "18    1539\n",
       "11    1423\n",
       "6     1175\n",
       "17     989\n",
       "12     830\n",
       "19     825\n",
       "14     821\n",
       "1      804\n",
       "4      755\n",
       "8      667\n",
       "10     526\n",
       "15     489\n",
       "0      467\n",
       "Name: cuisine, dtype: int64"
      ]
     },
     "execution_count": 117,
     "metadata": {},
     "output_type": "execute_result"
    }
   ],
   "source": [
    "df['cuisine'].value_counts()"
   ]
  },
  {
   "cell_type": "code",
   "execution_count": 118,
   "metadata": {},
   "outputs": [],
   "source": [
    "cuisine_map={'0':'brazilian', '1':'british', '2':'cajun_creole', '3':'chinese', '4':'filipino', '5':'french', '6':'greek', '7':'indian', '8':'irish', '9':'italian', '10':'jamaican', '11':'japanese', '12':'korean', '13':'mexican', '14':'moroccan', '15':'russian', '16':'southern_us', '17':'spanish', '18':'thai', '19':'vietnamese'}"
   ]
  },
  {
   "cell_type": "code",
   "execution_count": 119,
   "metadata": {
    "collapsed": true
   },
   "outputs": [],
   "source": [
    "Y=[]\n",
    "Y = df['cuisine']\n"
   ]
  },
  {
   "cell_type": "code",
   "execution_count": 120,
   "metadata": {},
   "outputs": [],
   "source": [
    "import numpy as np\n",
    "from sklearn.preprocessing import Imputer\n",
    "from sklearn.cross_validation import train_test_split\n",
    "from sklearn.neighbors import KNeighborsClassifier\n",
    "from sklearn.metrics import accuracy_score"
   ]
  },
  {
   "cell_type": "code",
   "execution_count": 151,
   "metadata": {},
   "outputs": [],
   "source": [
    "X_train, X_test, y_train, y_test = train_test_split(X, Y, test_size = 0.2, random_state = 100)"
   ]
  },
  {
   "cell_type": "code",
   "execution_count": 143,
   "metadata": {},
   "outputs": [
    {
     "data": {
      "text/plain": [
       "0    thi sampl sentenc , show stop word filtrat .\n",
       "1    thi sampl sentenc , show stop word filtrat .\n",
       "2    thi sampl sentenc , show stop word filtrat .\n",
       "3    thi sampl sentenc , show stop word filtrat .\n",
       "4    thi sampl sentenc , show stop word filtrat .\n",
       "Name: ing_mod, dtype: object"
      ]
     },
     "execution_count": 143,
     "metadata": {},
     "output_type": "execute_result"
    }
   ],
   "source": [
    "df5['ing_mod'].head()"
   ]
  },
  {
   "cell_type": "code",
   "execution_count": 140,
   "metadata": {},
   "outputs": [],
   "source": [
    "X_test = vectorizer.fit(df['ing_mod'])\n",
    "X_test = X_test.transform(df5['ing_mod'])\n",
    "y_test = df5['cuisine']"
   ]
  },
  {
   "cell_type": "code",
   "execution_count": 142,
   "metadata": {},
   "outputs": [
    {
     "name": "stdout",
     "output_type": "stream",
     "text": [
      "\n"
     ]
    }
   ],
   "source": [
    "print(X_test)"
   ]
  },
  {
   "cell_type": "code",
   "execution_count": null,
   "metadata": {},
   "outputs": [],
   "source": [
    "for K in range(25):\n",
    " K_value = K+1\n",
    " neigh = KNeighborsClassifier(n_neighbors = K_value, weights='uniform', algorithm='auto')\n",
    " neigh.fit(X_train, y_train) \n",
    " y_pred = neigh.predict(X_test)\n",
    " print(\"Accuracy is \", accuracy_score(y_test,y_pred)*100,\"% for K-Value:\",K_value)\n"
   ]
  },
  {
   "cell_type": "code",
   "execution_count": 153,
   "metadata": {},
   "outputs": [
    {
     "name": "stdout",
     "output_type": "stream",
     "text": [
      "Accuracy is  74.8082966688 % for K-Value:11\n"
     ]
    }
   ],
   "source": [
    "#Implement KNN(So we take K value to be 11)\n",
    "neigh = KNeighborsClassifier(n_neighbors = 11, weights='uniform', algorithm='auto')\n",
    "neigh.fit(X_train,y_train) \n",
    "y_pred = neigh.predict(X_test)\n",
    "print(\"Accuracy is \", accuracy_score(y_test,y_pred)*100,\"% for K-Value:11\")"
   ]
  },
  {
   "cell_type": "code",
   "execution_count": 79,
   "metadata": {},
   "outputs": [
    {
     "name": "stdout",
     "output_type": "stream",
     "text": [
      "Best score for data1: 0.776234325403061\n",
      "Best C: 1\n",
      "Best Kernel: linear\n",
      "Best Gamma: auto\n"
     ]
    }
   ],
   "source": [
    "#Implement Grid Serch for best Gamma, C and Selection between rbf and linear kernel\n",
    "from sklearn import svm, datasets\n",
    "from sklearn.cross_validation import StratifiedKFold\n",
    "from sklearn.grid_search import GridSearchCV\n",
    "from sklearn.svm import SVC\n",
    "parameter_candidates = [\n",
    "  {'C': [1, 10, 100, 1000], 'kernel': ['linear']},\n",
    "  {'C': [1, 10, 100, 1000], 'gamma': [0.001, 0.0001], 'kernel': ['rbf']},\n",
    "]\n",
    "clf = GridSearchCV(estimator=svm.SVC(), param_grid=parameter_candidates, n_jobs=-1)\n",
    "clf.fit(X_train, y_train)   \n",
    "print('Best score for data1:', clf.best_score_) \n",
    "print('Best C:',clf.best_estimator_.C) \n",
    "print('Best Kernel:',clf.best_estimator_.kernel)\n",
    "print('Best Gamma:',clf.best_estimator_.gamma)"
   ]
  },
  {
   "cell_type": "code",
   "execution_count": 73,
   "metadata": {},
   "outputs": [
    {
     "name": "stdout",
     "output_type": "stream",
     "text": [
      "78.8812067882\n"
     ]
    }
   ],
   "source": [
    "#OVA SVM(Grid Search Results: Kernel - Linear, C - 1, Gamma - Auto)\n",
    "from sklearn import svm\n",
    "lin_clf = svm.LinearSVC(C=1)\n",
    "lin_clf.fit(X_train, y_train)\n",
    "y_pred=lin_clf.predict(X_test)\n",
    "print(accuracy_score(y_test,y_pred)*100)"
   ]
  },
  {
   "cell_type": "code",
   "execution_count": 78,
   "metadata": {},
   "outputs": [
    {
     "name": "stdout",
     "output_type": "stream",
     "text": [
      "78.8434946574\n"
     ]
    }
   ],
   "source": [
    "#SVM by Crammer(Grid Search Results: Gamma - , C - )\n",
    "lin_clf = svm.LinearSVC(C=1.0, multi_class='crammer_singer')\n",
    "lin_clf.fit(X_train, y_train)\n",
    "y_pred=lin_clf.predict(X_test)\n",
    "print(accuracy_score(y_test,y_pred)*100)"
   ]
  },
  {
   "cell_type": "code",
   "execution_count": 33,
   "metadata": {},
   "outputs": [
    {
     "name": "stdout",
     "output_type": "stream",
     "text": [
      "66.7127592709\n"
     ]
    }
   ],
   "source": [
    "#Implementing OVA Naive Bayes\n",
    "from sklearn.naive_bayes import MultinomialNB\n",
    "clf = MultinomialNB().fit(X_train, y_train)\n",
    "y_pred = clf.predict(X_test)\n",
    "print(accuracy_score(y_test,y_pred)*100)"
   ]
  },
  {
   "cell_type": "code",
   "execution_count": 152,
   "metadata": {},
   "outputs": [
    {
     "name": "stdout",
     "output_type": "stream",
     "text": [
      "77.7247014456\n"
     ]
    }
   ],
   "source": [
    "#Implementing OVA Logistic Regerssion\n",
    "from sklearn.linear_model import LogisticRegression\n",
    "logisticRegr = LogisticRegression()\n",
    "logisticRegr.fit(X_train, y_train)\n",
    "y_pred = logisticRegr.predict(X_test)\n",
    "print(accuracy_score(y_test,y_pred)*100)"
   ]
  },
  {
   "cell_type": "code",
   "execution_count": 154,
   "metadata": {},
   "outputs": [
    {
     "name": "stdout",
     "output_type": "stream",
     "text": [
      "['mexican', 'southern_us', 'italian', 'mexican', 'japanese', 'mexican', 'italian', 'indian', 'italian', 'moroccan', 'french', 'mexican', 'japanese', 'southern_us', 'italian', 'mexican', 'italian', 'japanese', 'indian', 'japanese', 'mexican', 'chinese', 'mexican', 'spanish', 'italian', 'greek', 'vietnamese', 'italian', 'thai', 'jamaican', 'italian', 'greek', 'cajun_creole', 'french', 'japanese', 'italian', 'cajun_creole', 'french', 'british', 'british', 'italian', 'italian', 'italian', 'irish', 'mexican', 'moroccan', 'indian', 'french', 'mexican', 'mexican', 'mexican', 'southern_us', 'mexican', 'southern_us', 'chinese', 'southern_us', 'mexican', 'japanese', 'greek', 'brazilian', 'southern_us', 'italian', 'indian', 'italian', 'chinese', 'mexican', 'vietnamese', 'french', 'jamaican', 'italian', 'mexican', 'italian', 'chinese', 'filipino', 'italian', 'chinese', 'indian', 'indian', 'italian', 'vietnamese', 'greek', 'greek', 'chinese', 'russian', 'italian', 'indian', 'mexican', 'filipino', 'italian', 'mexican', 'korean', 'italian', 'vietnamese', 'cajun_creole', 'mexican', 'southern_us', 'thai', 'southern_us', 'japanese', 'japanese', 'greek', 'mexican', 'italian', 'spanish', 'southern_us', 'spanish', 'french', 'filipino', 'mexican', 'french', 'chinese', 'mexican', 'korean', 'indian', 'italian', 'southern_us', 'southern_us', 'cajun_creole', 'mexican', 'moroccan', 'vietnamese', 'italian', 'southern_us', 'thai', 'mexican', 'cajun_creole', 'thai', 'southern_us', 'italian', 'indian', 'italian', 'southern_us', 'mexican', 'mexican', 'vietnamese', 'indian', 'greek', 'mexican', 'italian', 'southern_us', 'southern_us', 'brazilian', 'french', 'indian', 'korean', 'chinese', 'greek', 'italian', 'cajun_creole', 'italian', 'cajun_creole', 'mexican', 'italian', 'indian', 'french', 'japanese', 'italian', 'french', 'southern_us', 'cajun_creole', 'moroccan', 'italian', 'brazilian', 'french', 'italian', 'mexican', 'thai', 'british', 'italian', 'italian', 'jamaican', 'moroccan', 'cajun_creole', 'mexican', 'chinese', 'chinese', 'french', 'italian', 'mexican', 'french', 'irish', 'italian', 'cajun_creole', 'cajun_creole', 'italian', 'chinese', 'southern_us', 'vietnamese', 'filipino', 'mexican', 'vietnamese', 'mexican', 'southern_us', 'italian', 'italian', 'thai', 'chinese', 'italian', 'italian', 'jamaican', 'korean', 'brazilian', 'mexican', 'brazilian', 'mexican', 'italian', 'italian', 'spanish', 'greek', 'thai', 'italian', 'chinese', 'french', 'korean', 'japanese', 'french', 'korean', 'indian', 'spanish', 'chinese', 'mexican', 'jamaican', 'mexican', 'thai', 'irish', 'italian', 'french', 'italian', 'mexican', 'mexican', 'mexican', 'mexican', 'cajun_creole', 'southern_us', 'greek', 'cajun_creole', 'british', 'mexican', 'vietnamese', 'indian', 'jamaican', 'italian', 'southern_us', 'southern_us', 'vietnamese', 'italian', 'thai', 'mexican', 'japanese', 'southern_us', 'italian', 'greek', 'italian', 'japanese', 'italian', 'korean', 'italian', 'southern_us', 'mexican', 'southern_us', 'mexican', 'french', 'mexican', 'mexican', 'chinese', 'mexican', 'chinese', 'filipino', 'japanese', 'irish', 'italian', 'indian', 'indian', 'chinese', 'indian', 'italian', 'brazilian', 'italian', 'vietnamese', 'chinese', 'brazilian', 'italian', 'cajun_creole', 'indian', 'mexican', 'vietnamese', 'vietnamese', 'indian', 'indian', 'italian', 'mexican', 'korean', 'italian', 'southern_us', 'french', 'italian', 'southern_us', 'cajun_creole', 'italian', 'southern_us', 'italian', 'chinese', 'indian', 'mexican', 'chinese', 'mexican', 'indian', 'southern_us', 'thai', 'french', 'spanish', 'mexican', 'italian', 'french', 'filipino', 'jamaican', 'italian', 'mexican', 'greek', 'russian', 'southern_us', 'italian', 'japanese', 'italian', 'thai', 'thai', 'chinese', 'chinese', 'thai', 'french', 'italian', 'mexican', 'filipino', 'chinese', 'chinese', 'italian', 'mexican', 'mexican', 'vietnamese', 'mexican', 'brazilian', 'mexican', 'moroccan', 'brazilian', 'chinese', 'southern_us', 'italian', 'cajun_creole', 'chinese', 'mexican', 'chinese', 'mexican', 'british', 'korean', 'indian', 'moroccan', 'southern_us', 'southern_us', 'indian', 'southern_us', 'mexican', 'southern_us', 'mexican', 'southern_us', 'southern_us', 'italian', 'chinese', 'cajun_creole', 'mexican', 'thai', 'mexican', 'chinese', 'jamaican', 'thai', 'vietnamese', 'indian', 'cajun_creole', 'italian', 'southern_us', 'mexican', 'italian', 'southern_us', 'french', 'mexican', 'jamaican', 'chinese', 'southern_us', 'greek', 'chinese', 'chinese', 'filipino', 'brazilian', 'mexican', 'mexican', 'mexican', 'mexican', 'moroccan', 'italian', 'french', 'indian', 'mexican', 'indian', 'cajun_creole', 'chinese', 'indian', 'spanish', 'chinese', 'spanish', 'southern_us', 'japanese', 'italian', 'greek', 'italian', 'mexican', 'irish', 'mexican', 'indian', 'mexican', 'french', 'indian', 'italian', 'russian', 'indian', 'mexican', 'thai', 'indian', 'southern_us', 'chinese', 'italian', 'mexican', 'italian', 'mexican', 'italian', 'italian', 'filipino', 'japanese', 'filipino', 'italian', 'british', 'italian', 'italian', 'southern_us', 'british', 'thai', 'british', 'chinese', 'indian', 'mexican', 'italian', 'indian', 'mexican', 'french', 'french', 'southern_us', 'thai', 'indian', 'italian', 'chinese', 'italian', 'mexican', 'british', 'italian', 'italian', 'mexican', 'mexican', 'cajun_creole', 'mexican', 'indian', 'chinese', 'mexican', 'mexican', 'cajun_creole', 'japanese', 'mexican', 'italian', 'chinese', 'southern_us', 'mexican', 'indian', 'italian', 'italian', 'thai', 'southern_us', 'italian', 'mexican', 'italian', 'italian', 'chinese', 'southern_us', 'chinese', 'italian', 'mexican', 'southern_us', 'greek', 'jamaican', 'thai', 'southern_us', 'mexican', 'italian', 'vietnamese', 'japanese', 'italian', 'japanese', 'french', 'irish', 'mexican', 'italian', 'italian', 'thai', 'mexican', 'spanish', 'italian', 'korean', 'mexican', 'chinese', 'cajun_creole', 'chinese', 'mexican', 'indian', 'mexican', 'french', 'mexican', 'southern_us', 'italian', 'italian', 'mexican', 'french', 'mexican', 'southern_us', 'vietnamese', 'filipino', 'cajun_creole', 'chinese', 'mexican', 'indian', 'greek', 'moroccan', 'japanese', 'chinese', 'korean', 'thai', 'italian', 'irish', 'italian', 'chinese', 'korean', 'chinese', 'spanish', 'cajun_creole', 'french', 'greek', 'mexican', 'greek', 'mexican', 'greek', 'indian', 'mexican', 'mexican', 'indian', 'italian', 'british', 'italian', 'mexican', 'southern_us', 'italian', 'japanese', 'chinese', 'jamaican', 'french', 'italian', 'mexican', 'cajun_creole', 'italian', 'italian', 'korean', 'italian', 'filipino', 'japanese', 'moroccan', 'greek', 'southern_us', 'russian', 'italian', 'chinese', 'indian', 'southern_us', 'french', 'spanish', 'filipino', 'mexican', 'korean', 'indian', 'british', 'italian', 'chinese', 'mexican', 'mexican', 'french', 'southern_us', 'italian', 'thai', 'spanish', 'chinese', 'moroccan', 'italian', 'thai', 'chinese', 'cajun_creole', 'southern_us', 'italian', 'french', 'japanese', 'french', 'italian', 'mexican', 'jamaican', 'irish', 'spanish', 'spanish', 'southern_us', 'italian', 'korean', 'italian', 'italian', 'italian', 'italian', 'mexican', 'southern_us', 'southern_us', 'italian', 'british', 'southern_us', 'mexican', 'spanish', 'italian', 'mexican', 'spanish', 'southern_us', 'chinese', 'moroccan', 'italian', 'brazilian', 'mexican', 'irish', 'italian', 'filipino', 'mexican', 'indian', 'southern_us', 'thai', 'italian', 'chinese', 'indian', 'mexican', 'spanish', 'chinese', 'mexican', 'spanish', 'southern_us', 'southern_us', 'french', 'korean', 'japanese', 'mexican', 'indian', 'indian', 'indian', 'korean', 'indian', 'french', 'french', 'italian', 'italian', 'french', 'italian', 'southern_us', 'italian', 'chinese', 'mexican', 'italian', 'mexican', 'french', 'french', 'southern_us', 'mexican', 'italian', 'italian', 'thai', 'italian', 'moroccan', 'italian', 'vietnamese', 'chinese', 'thai', 'indian', 'indian', 'southern_us', 'mexican', 'mexican', 'vietnamese', 'italian', 'jamaican', 'indian', 'italian', 'southern_us', 'irish', 'french', 'italian', 'italian', 'french', 'spanish', 'italian', 'mexican', 'italian', 'mexican', 'italian', 'italian', 'indian', 'thai', 'cajun_creole', 'jamaican', 'italian', 'jamaican', 'mexican', 'french', 'mexican', 'mexican', 'italian', 'cajun_creole', 'italian', 'italian', 'chinese', 'mexican', 'french', 'moroccan', 'southern_us', 'mexican', 'italian', 'thai', 'italian', 'italian', 'italian', 'italian', 'mexican', 'vietnamese', 'italian', 'italian', 'thai', 'greek', 'indian', 'spanish', 'indian', 'jamaican', 'french', 'cajun_creole', 'irish', 'thai', 'chinese', 'japanese', 'italian', 'mexican', 'korean', 'italian', 'russian', 'moroccan', 'filipino', 'southern_us', 'southern_us', 'mexican', 'italian', 'southern_us', 'mexican', 'mexican', 'chinese', 'southern_us', 'indian', 'vietnamese', 'mexican', 'jamaican', 'irish', 'japanese', 'southern_us', 'mexican', 'chinese', 'vietnamese', 'mexican', 'italian', 'italian', 'southern_us', 'moroccan', 'indian', 'mexican', 'italian', 'italian', 'southern_us', 'italian', 'spanish', 'cajun_creole', 'southern_us', 'korean', 'indian', 'french', 'italian', 'mexican', 'french', 'italian', 'moroccan', 'french', 'italian', 'mexican', 'italian', 'filipino', 'italian', 'southern_us', 'french', 'indian', 'french', 'french', 'italian', 'mexican', 'italian', 'mexican', 'indian', 'french', 'mexican', 'chinese', 'italian', 'french', 'chinese', 'mexican', 'southern_us', 'indian', 'moroccan', 'southern_us', 'chinese', 'southern_us', 'cajun_creole', 'russian', 'french', 'irish', 'chinese', 'british', 'chinese', 'southern_us', 'italian', 'mexican', 'thai', 'italian', 'southern_us', 'southern_us', 'italian', 'southern_us', 'italian', 'jamaican', 'italian', 'chinese', 'mexican', 'japanese', 'chinese', 'italian', 'southern_us', 'japanese', 'italian', 'italian', 'southern_us', 'spanish', 'italian', 'thai', 'thai', 'southern_us', 'cajun_creole', 'french', 'southern_us', 'mexican', 'indian', 'french', 'indian', 'southern_us', 'irish', 'korean', 'southern_us', 'chinese', 'southern_us', 'southern_us', 'italian', 'italian', 'mexican', 'southern_us', 'chinese', 'french', 'mexican', 'italian', 'british', 'italian', 'irish', 'southern_us', 'indian', 'southern_us', 'indian', 'southern_us', 'french', 'italian', 'italian', 'mexican', 'indian', 'italian', 'moroccan', 'italian', 'italian', 'cajun_creole', 'southern_us', 'thai', 'french', 'moroccan', 'thai', 'thai', 'chinese', 'indian', 'cajun_creole', 'italian', 'chinese', 'mexican', 'mexican', 'moroccan', 'irish', 'chinese', 'italian', 'mexican', 'southern_us', 'indian', 'southern_us', 'thai', 'russian', 'thai', 'indian', 'spanish', 'vietnamese', 'italian', 'filipino', 'mexican', 'british', 'italian', 'italian', 'italian', 'italian', 'southern_us', 'irish', 'irish', 'spanish', 'vietnamese', 'southern_us', 'mexican', 'italian', 'greek', 'thai', 'mexican', 'french', 'cajun_creole', 'vietnamese', 'italian', 'british', 'southern_us', 'chinese', 'italian', 'filipino', 'french', 'indian', 'moroccan', 'italian', 'french', 'chinese', 'southern_us', 'french', 'cajun_creole', 'vietnamese', 'chinese', 'irish', 'thai', 'jamaican', 'italian', 'southern_us', 'italian', 'italian', 'southern_us', 'southern_us', 'southern_us', 'vietnamese', 'british', 'italian', 'jamaican', 'cajun_creole', 'mexican', 'cajun_creole', 'italian', 'spanish', 'chinese', 'french', 'spanish', 'southern_us', 'mexican', 'french', 'mexican', 'vietnamese', 'italian', 'italian', 'korean', 'indian', 'thai', 'southern_us', 'french', 'italian', 'russian', 'mexican', 'british', 'mexican', 'italian', 'mexican', 'southern_us', 'irish', 'irish', 'southern_us', 'mexican', 'mexican', 'thai', 'vietnamese', 'italian', 'southern_us', 'italian', 'mexican', 'indian', 'french', 'mexican', 'chinese', 'italian', 'vietnamese', 'chinese', 'jamaican', 'southern_us', 'indian', 'southern_us', 'greek', 'southern_us', 'indian', 'mexican', 'mexican', 'french', 'french', 'italian', 'korean', 'italian', 'british', 'southern_us', 'italian', 'mexican', 'french', 'mexican', 'indian', 'italian', 'chinese', 'greek', 'mexican', 'brazilian', 'italian', 'french', 'southern_us', 'french', 'italian', 'italian', 'spanish', 'mexican', 'cajun_creole', 'chinese', 'indian', 'italian', 'chinese', 'southern_us', 'jamaican', 'filipino', 'southern_us', 'mexican', 'italian', 'indian', 'chinese', 'french', 'cajun_creole', 'italian', 'japanese', 'vietnamese', 'french', 'indian', 'italian', 'korean', 'greek', 'southern_us', 'british', 'chinese', 'japanese', 'chinese', 'chinese', 'southern_us', 'indian', 'korean', 'chinese', 'french', 'mexican', 'mexican', 'french', 'mexican', 'korean', 'indian', 'indian', 'indian', 'mexican', 'french', 'cajun_creole', 'indian', 'chinese', 'mexican', 'italian', 'indian', 'southern_us', 'french', 'indian', 'italian', 'indian', 'mexican', 'italian', 'cajun_creole', 'mexican', 'italian', 'italian', 'moroccan', 'japanese', 'indian', 'mexican', 'chinese', 'italian', 'french', 'southern_us', 'mexican', 'italian', 'mexican', 'greek', 'indian', 'french', 'spanish', 'chinese', 'irish', 'french', 'mexican', 'irish', 'french', 'mexican', 'vietnamese', 'southern_us', 'jamaican', 'vietnamese', 'chinese', 'mexican', 'italian', 'mexican', 'chinese', 'italian', 'southern_us', 'italian', 'italian', 'italian', 'japanese', 'british', 'mexican', 'korean', 'russian', 'indian', 'italian', 'irish', 'mexican', 'italian', 'southern_us', 'korean', 'japanese', 'thai', 'indian', 'french', 'french', 'jamaican', 'indian', 'indian', 'italian', 'italian', 'mexican', 'indian', 'japanese', 'mexican', 'cajun_creole', 'mexican', 'chinese', 'southern_us', 'cajun_creole', 'indian', 'spanish', 'indian', 'italian', 'italian', 'greek', 'japanese', 'southern_us', 'mexican', 'mexican', 'moroccan', 'thai', 'thai', 'british', 'spanish', 'greek', 'thai', 'southern_us', 'indian', 'mexican', 'moroccan', 'thai', 'moroccan', 'chinese', 'french', 'mexican', 'italian', 'korean', 'filipino', 'chinese', 'spanish', 'southern_us', 'italian', 'mexican', 'french', 'indian', 'french', 'indian', 'chinese', 'russian', 'southern_us', 'italian', 'thai', 'thai', 'thai', 'french', 'mexican', 'japanese', 'spanish', 'mexican', 'british', 'mexican', 'mexican', 'indian', 'italian', 'mexican', 'southern_us', 'italian', 'french', 'spanish', 'italian', 'mexican', 'moroccan', 'mexican', 'french', 'mexican', 'southern_us', 'mexican', 'irish', 'vietnamese', 'italian', 'cajun_creole', 'greek', 'greek', 'french', 'italian', 'italian', 'southern_us', 'chinese', 'thai', 'italian', 'italian', 'cajun_creole', 'indian', 'greek', 'french', 'irish', 'filipino', 'mexican', 'chinese', 'italian', 'mexican', 'russian', 'italian', 'italian', 'mexican', 'moroccan', 'french', 'mexican', 'filipino', 'italian', 'french', 'spanish', 'french', 'mexican', 'southern_us', 'french', 'italian', 'mexican', 'mexican', 'moroccan', 'greek', 'mexican', 'italian', 'indian', 'spanish', 'mexican', 'chinese', 'southern_us', 'greek', 'southern_us', 'italian', 'thai', 'thai', 'indian', 'chinese', 'thai', 'indian', 'italian', 'japanese', 'irish', 'moroccan', 'italian', 'italian', 'japanese', 'chinese', 'southern_us', 'italian', 'italian', 'italian', 'italian', 'indian', 'moroccan', 'southern_us', 'southern_us', 'italian', 'british', 'southern_us', 'indian', 'italian', 'chinese', 'indian', 'southern_us', 'mexican', 'mexican', 'italian', 'southern_us', 'italian', 'mexican', 'indian', 'chinese', 'moroccan', 'indian', 'greek', 'italian', 'french', 'italian', 'italian', 'chinese', 'mexican', 'moroccan', 'mexican', 'italian', 'indian', 'italian', 'filipino', 'cajun_creole', 'southern_us', 'southern_us', 'irish', 'greek', 'russian', 'indian', 'japanese', 'spanish', 'chinese', 'indian', 'mexican', 'italian', 'vietnamese', 'southern_us', 'italian', 'indian', 'italian', 'italian', 'italian', 'mexican', 'mexican', 'indian', 'jamaican', 'spanish', 'french', 'russian', 'filipino', 'italian', 'jamaican', 'italian', 'mexican', 'mexican', 'mexican', 'indian', 'italian', 'mexican', 'chinese', 'mexican', 'italian', 'italian', 'french', 'indian', 'italian', 'mexican', 'indian', 'southern_us', 'irish', 'french', 'italian', 'mexican', 'mexican', 'indian', 'greek', 'italian', 'thai', 'korean', 'korean', 'indian', 'southern_us', 'french', 'chinese', 'japanese', 'indian', 'greek', 'mexican', 'indian', 'southern_us', 'japanese', 'italian', 'southern_us', 'mexican', 'thai', 'italian', 'greek', 'southern_us', 'indian', 'southern_us', 'italian', 'british', 'indian', 'mexican', 'indian', 'spanish', 'irish', 'indian', 'cajun_creole', 'irish', 'mexican', 'french', 'thai', 'japanese', 'mexican', 'british', 'russian', 'indian', 'cajun_creole', 'chinese', 'japanese', 'french', 'mexican', 'thai', 'british', 'indian', 'filipino', 'italian', 'southern_us', 'moroccan', 'italian', 'greek', 'brazilian', 'spanish', 'japanese', 'moroccan', 'indian', 'russian', 'italian', 'italian', 'italian', 'japanese', 'chinese', 'mexican', 'french', 'italian', 'thai', 'italian', 'filipino', 'italian', 'thai', 'indian', 'indian', 'jamaican', 'mexican', 'southern_us', 'indian', 'chinese', 'spanish', 'french', 'brazilian', 'thai', 'italian', 'jamaican', 'italian', 'korean', 'japanese', 'italian', 'indian', 'irish', 'korean', 'mexican', 'southern_us', 'mexican', 'indian', 'korean', 'brazilian', 'southern_us', 'french', 'greek', 'british', 'chinese', 'italian', 'italian', 'thai', 'indian', 'thai', 'mexican', 'cajun_creole', 'mexican', 'spanish', 'british', 'thai', 'greek', 'cajun_creole', 'mexican', 'greek', 'cajun_creole', 'italian', 'southern_us', 'chinese', 'thai', 'italian', 'mexican', 'indian', 'french', 'italian', 'french', 'mexican', 'italian', 'italian', 'russian', 'mexican', 'british', 'chinese', 'mexican', 'southern_us', 'mexican', 'greek', 'mexican', 'mexican', 'brazilian', 'mexican', 'italian', 'greek', 'mexican', 'french', 'chinese', 'chinese', 'french', 'moroccan', 'italian', 'italian', 'italian', 'chinese', 'vietnamese', 'french', 'indian', 'italian', 'chinese', 'italian', 'indian', 'mexican', 'italian', 'japanese', 'italian', 'cajun_creole', 'french', 'mexican', 'southern_us', 'french', 'greek', 'korean', 'cajun_creole', 'french', 'french', 'italian', 'mexican', 'vietnamese', 'mexican', 'french', 'russian', 'french', 'italian', 'mexican', 'thai', 'japanese', 'korean', 'korean', 'japanese', 'mexican', 'italian', 'mexican', 'italian', 'chinese', 'chinese', 'italian', 'cajun_creole', 'mexican', 'chinese', 'italian', 'greek', 'italian', 'french', 'mexican', 'italian', 'cajun_creole', 'thai', 'brazilian', 'mexican', 'greek', 'southern_us', 'mexican', 'thai', 'moroccan', 'greek', 'french', 'mexican', 'japanese', 'indian', 'jamaican', 'mexican', 'thai', 'korean', 'southern_us', 'mexican', 'italian', 'greek', 'southern_us', 'moroccan', 'italian', 'greek', 'russian', 'chinese', 'italian', 'british', 'italian', 'italian', 'chinese', 'southern_us', 'mexican', 'french', 'greek', 'mexican', 'italian', 'mexican', 'mexican', 'chinese', 'italian', 'indian', 'brazilian', 'italian', 'korean', 'mexican', 'southern_us', 'italian', 'southern_us', 'chinese', 'french', 'russian', 'chinese', 'southern_us', 'korean', 'italian', 'spanish', 'mexican', 'cajun_creole', 'italian', 'brazilian', 'mexican', 'mexican', 'cajun_creole', 'korean', 'southern_us', 'mexican', 'southern_us', 'mexican', 'italian', 'italian', 'japanese', 'british', 'moroccan', 'mexican', 'mexican', 'italian', 'italian', 'mexican', 'southern_us', 'mexican', 'mexican', 'french', 'italian', 'mexican', 'indian', 'chinese', 'italian', 'southern_us', 'greek', 'mexican', 'mexican', 'thai', 'moroccan', 'mexican', 'mexican', 'brazilian', 'italian', 'indian', 'indian', 'mexican', 'southern_us', 'mexican', 'italian', 'mexican', 'filipino', 'mexican', 'french', 'mexican', 'vietnamese', 'italian', 'southern_us', 'spanish', 'irish', 'italian', 'southern_us', 'french', 'mexican', 'indian', 'southern_us', 'italian', 'southern_us', 'chinese', 'jamaican', 'indian', 'korean', 'vietnamese', 'mexican', 'cajun_creole', 'italian', 'mexican', 'italian', 'indian', 'russian', 'french', 'russian', 'mexican', 'thai', 'southern_us', 'italian', 'russian', 'thai', 'italian', 'mexican', 'mexican', 'cajun_creole', 'japanese', 'vietnamese', 'italian', 'japanese', 'southern_us', 'italian', 'italian', 'mexican', 'french', 'indian', 'french', 'southern_us', 'chinese', 'vietnamese', 'irish', 'thai', 'mexican', 'italian', 'italian', 'spanish', 'italian', 'korean', 'italian', 'spanish', 'chinese', 'italian', 'chinese', 'irish', 'cajun_creole', 'french', 'french', 'irish', 'southern_us', 'southern_us', 'moroccan', 'spanish', 'vietnamese', 'mexican', 'southern_us', 'irish', 'irish', 'british', 'moroccan', 'indian', 'mexican', 'italian', 'italian', 'chinese', 'southern_us', 'mexican', 'italian', 'spanish', 'korean', 'spanish', 'italian', 'thai', 'vietnamese', 'korean', 'italian', 'vietnamese', 'chinese', 'italian', 'italian', 'indian', 'french', 'mexican', 'moroccan', 'italian', 'spanish', 'greek', 'irish', 'filipino', 'moroccan', 'mexican', 'italian', 'british', 'italian', 'russian', 'vietnamese', 'chinese', 'southern_us', 'southern_us', 'mexican', 'thai', 'southern_us', 'indian', 'indian', 'southern_us', 'southern_us', 'italian', 'moroccan', 'mexican', 'italian', 'italian', 'brazilian', 'mexican', 'filipino', 'spanish', 'southern_us', 'chinese', 'chinese', 'brazilian', 'indian', 'cajun_creole', 'russian', 'french', 'indian', 'italian', 'french', 'french', 'southern_us', 'mexican', 'italian', 'greek', 'southern_us', 'indian', 'cajun_creole', 'italian', 'british', 'southern_us', 'indian', 'italian', 'italian', 'moroccan', 'spanish', 'mexican', 'southern_us', 'jamaican', 'southern_us', 'thai', 'italian', 'indian', 'irish', 'italian', 'cajun_creole', 'mexican', 'french', 'french', 'italian', 'moroccan', 'french', 'italian', 'southern_us', 'indian', 'mexican', 'italian', 'italian', 'southern_us', 'italian', 'vietnamese', 'french', 'southern_us', 'indian', 'thai', 'mexican', 'cajun_creole', 'southern_us', 'japanese', 'southern_us', 'italian', 'southern_us', 'mexican', 'indian', 'southern_us', 'mexican', 'british', 'italian', 'mexican', 'mexican', 'korean', 'mexican', 'italian', 'italian', 'chinese', 'italian', 'british', 'greek', 'cajun_creole', 'mexican', 'french', 'filipino', 'vietnamese', 'vietnamese', 'italian', 'chinese', 'french', 'mexican', 'italian', 'cajun_creole', 'italian', 'italian', 'spanish', 'italian', 'french', 'indian', 'moroccan', 'southern_us', 'southern_us', 'french', 'greek', 'thai', 'mexican', 'italian', 'mexican', 'mexican', 'cajun_creole', 'italian', 'southern_us', 'indian', 'british', 'korean', 'italian', 'french', 'thai', 'southern_us', 'indian', 'mexican', 'mexican', 'japanese', 'french', 'mexican', 'indian', 'japanese', 'indian', 'italian', 'mexican', 'italian', 'filipino', 'italian', 'italian', 'moroccan', 'spanish', 'french', 'southern_us', 'italian', 'italian', 'cajun_creole', 'mexican', 'italian', 'russian', 'chinese', 'southern_us', 'mexican', 'indian', 'jamaican', 'southern_us', 'chinese', 'italian', 'italian', 'italian', 'mexican', 'italian', 'chinese', 'spanish', 'korean', 'spanish', 'italian', 'italian', 'mexican', 'southern_us', 'indian', 'filipino', 'indian', 'southern_us', 'chinese', 'southern_us', 'southern_us', 'mexican', 'cajun_creole', 'cajun_creole', 'korean', 'italian', 'italian', 'french', 'mexican', 'italian', 'mexican', 'thai', 'southern_us', 'cajun_creole', 'southern_us', 'mexican', 'mexican', 'indian', 'italian', 'mexican', 'chinese', 'indian', 'british', 'southern_us', 'greek', 'italian', 'irish', 'mexican', 'italian', 'italian', 'italian', 'french', 'chinese', 'japanese', 'indian', 'italian', 'filipino', 'mexican', 'filipino', 'southern_us', 'mexican', 'italian', 'french', 'mexican', 'greek', 'french', 'japanese', 'mexican', 'mexican', 'italian', 'indian', 'indian', 'chinese', 'thai', 'vietnamese', 'greek', 'spanish', 'italian', 'british', 'mexican', 'irish', 'filipino', 'filipino', 'russian', 'mexican', 'italian', 'british', 'irish', 'italian', 'southern_us', 'italian', 'russian', 'southern_us', 'italian', 'chinese', 'thai', 'french', 'mexican', 'spanish', 'southern_us', 'italian', 'mexican', 'irish', 'korean', 'indian', 'korean', 'filipino', 'japanese', 'italian', 'chinese', 'southern_us', 'french', 'british', 'british', 'brazilian', 'japanese', 'chinese', 'thai', 'mexican', 'southern_us', 'vietnamese', 'british', 'indian', 'thai', 'chinese', 'chinese', 'indian', 'italian', 'southern_us', 'vietnamese', 'vietnamese', 'cajun_creole', 'mexican', 'italian', 'chinese', 'greek', 'mexican', 'spanish', 'southern_us', 'mexican', 'italian', 'mexican', 'mexican', 'chinese', 'southern_us', 'mexican', 'chinese', 'spanish', 'mexican', 'italian', 'italian', 'moroccan', 'spanish', 'thai', 'southern_us', 'mexican', 'jamaican', 'mexican', 'italian', 'italian', 'french', 'italian', 'spanish', 'italian', 'japanese', 'mexican', 'cajun_creole', 'italian', 'italian', 'moroccan', 'french', 'southern_us', 'korean', 'moroccan', 'mexican', 'cajun_creole', 'mexican', 'indian', 'italian', 'chinese', 'french', 'japanese', 'greek', 'chinese', 'greek', 'irish', 'cajun_creole', 'indian', 'british', 'mexican', 'mexican', 'italian', 'filipino', 'indian', 'italian', 'italian', 'russian', 'italian', 'southern_us', 'southern_us', 'italian', 'italian', 'italian', 'moroccan', 'cajun_creole', 'moroccan', 'jamaican', 'italian', 'chinese', 'mexican', 'japanese', 'italian', 'mexican', 'chinese', 'southern_us', 'mexican', 'vietnamese', 'thai', 'mexican', 'italian', 'mexican', 'italian', 'italian', 'italian', 'italian', 'mexican', 'french', 'spanish', 'italian', 'filipino', 'italian', 'southern_us', 'southern_us', 'french', 'mexican', 'vietnamese', 'spanish', 'southern_us', 'italian', 'indian', 'filipino', 'mexican', 'mexican', 'southern_us', 'southern_us', 'italian', 'greek', 'southern_us', 'italian', 'italian', 'italian', 'indian', 'southern_us', 'french', 'french', 'chinese', 'mexican', 'spanish', 'italian', 'brazilian', 'italian', 'southern_us', 'chinese', 'mexican', 'italian', 'italian', 'mexican', 'italian', 'mexican', 'thai', 'southern_us', 'french', 'thai', 'brazilian', 'french', 'moroccan', 'indian', 'japanese', 'jamaican', 'french', 'mexican', 'southern_us', 'indian', 'moroccan', 'southern_us', 'thai', 'italian', 'italian', 'filipino', 'vietnamese', 'mexican', 'italian', 'indian', 'italian', 'indian', 'indian', 'southern_us', 'southern_us', 'mexican', 'thai', 'southern_us', 'mexican', 'mexican', 'spanish', 'moroccan', 'indian', 'moroccan', 'chinese', 'chinese', 'italian', 'brazilian', 'mexican', 'french', 'cajun_creole', 'cajun_creole', 'mexican', 'italian', 'moroccan', 'mexican', 'french', 'japanese', 'thai', 'mexican', 'french', 'italian', 'thai', 'mexican', 'mexican', 'french', 'chinese', 'cajun_creole', 'french', 'spanish', 'mexican', 'russian', 'korean', 'mexican', 'italian', 'british', 'mexican', 'southern_us', 'brazilian', 'italian', 'italian', 'mexican', 'mexican', 'thai', 'french', 'italian', 'italian', 'mexican', 'mexican', 'british', 'vietnamese', 'italian', 'mexican', 'thai', 'mexican', 'vietnamese', 'southern_us', 'mexican', 'southern_us', 'mexican', 'mexican', 'italian', 'italian', 'italian', 'filipino', 'southern_us', 'greek', 'mexican', 'southern_us', 'southern_us', 'french', 'french', 'cajun_creole', 'mexican', 'spanish', 'italian', 'mexican', 'italian', 'italian', 'indian', 'italian', 'indian', 'moroccan', 'british', 'indian', 'russian', 'cajun_creole', 'italian', 'indian', 'southern_us', 'italian', 'greek', 'french', 'brazilian', 'mexican', 'chinese', 'italian', 'vietnamese', 'french', 'thai', 'indian', 'spanish', 'chinese', 'southern_us', 'southern_us', 'mexican', 'vietnamese', 'mexican', 'mexican', 'russian', 'mexican', 'italian', 'mexican', 'japanese', 'italian', 'italian', 'cajun_creole', 'indian', 'russian', 'french', 'greek', 'southern_us', 'italian', 'indian', 'korean', 'indian', 'spanish', 'brazilian', 'italian', 'italian', 'spanish', 'chinese', 'mexican', 'italian', 'chinese', 'mexican', 'indian', 'southern_us', 'mexican', 'italian', 'japanese', 'italian', 'mexican', 'korean', 'british', 'french', 'moroccan', 'italian', 'italian', 'italian', 'southern_us', 'southern_us', 'chinese', 'korean', 'french', 'greek', 'spanish', 'italian', 'italian', 'mexican', 'irish', 'indian', 'british', 'mexican', 'korean', 'italian', 'thai', 'french', 'chinese', 'thai', 'greek', 'southern_us', 'mexican', 'italian', 'italian', 'indian', 'mexican', 'italian', 'mexican', 'irish', 'cajun_creole', 'japanese', 'chinese', 'mexican', 'thai', 'japanese', 'brazilian', 'french', 'indian', 'indian', 'mexican', 'mexican', 'southern_us', 'italian', 'italian', 'mexican', 'thai', 'italian', 'brazilian', 'mexican', 'indian', 'southern_us', 'greek', 'thai', 'mexican', 'indian', 'thai', 'chinese', 'italian', 'spanish', 'mexican', 'vietnamese', 'mexican', 'mexican', 'southern_us', 'italian', 'italian', 'cajun_creole', 'mexican', 'chinese', 'italian', 'southern_us', 'korean', 'southern_us', 'italian', 'italian', 'southern_us', 'filipino', 'southern_us', 'british', 'chinese', 'cajun_creole', 'mexican', 'indian', 'korean', 'chinese', 'thai', 'italian', 'cajun_creole', 'italian', 'cajun_creole', 'southern_us', 'french', 'japanese', 'mexican', 'japanese', 'greek', 'italian', 'moroccan', 'italian', 'thai', 'french', 'vietnamese', 'indian', 'chinese', 'indian', 'italian', 'mexican', 'southern_us', 'spanish', 'cajun_creole', 'mexican', 'thai', 'southern_us', 'southern_us', 'italian', 'indian', 'jamaican', 'italian', 'vietnamese', 'indian', 'mexican', 'italian', 'mexican', 'chinese', 'chinese', 'mexican', 'cajun_creole', 'southern_us', 'mexican', 'cajun_creole', 'chinese', 'thai', 'italian', 'chinese', 'moroccan', 'mexican', 'mexican', 'mexican', 'vietnamese', 'greek', 'italian', 'mexican', 'indian', 'irish', 'italian', 'southern_us', 'greek', 'french', 'southern_us', 'vietnamese', 'southern_us', 'italian', 'thai', 'italian', 'japanese', 'indian', 'southern_us', 'greek', 'japanese', 'southern_us', 'italian', 'italian', 'italian', 'vietnamese', 'chinese', 'italian', 'southern_us', 'mexican', 'mexican', 'thai', 'italian', 'french', 'thai', 'southern_us', 'spanish', 'korean', 'french', 'filipino', 'cajun_creole', 'filipino', 'mexican', 'indian', 'cajun_creole', 'indian', 'chinese', 'thai', 'italian', 'cajun_creole', 'indian', 'italian', 'italian', 'japanese', 'italian', 'indian', 'chinese', 'moroccan', 'mexican', 'french', 'mexican', 'mexican', 'greek', 'vietnamese', 'cajun_creole', 'moroccan', 'southern_us', 'mexican', 'french', 'indian', 'mexican', 'southern_us', 'italian', 'indian', 'moroccan', 'southern_us', 'italian', 'indian', 'southern_us', 'brazilian', 'cajun_creole', 'italian', 'japanese', 'moroccan', 'moroccan', 'indian', 'mexican', 'french', 'italian', 'filipino', 'jamaican', 'indian', 'italian', 'russian', 'british', 'brazilian', 'thai', 'italian', 'southern_us', 'southern_us', 'spanish', 'indian', 'southern_us', 'vietnamese', 'southern_us', 'british', 'italian', 'italian', 'filipino', 'chinese', 'indian', 'japanese', 'greek', 'greek', 'southern_us', 'mexican', 'italian', 'mexican', 'french', 'italian', 'southern_us', 'indian', 'italian', 'italian', 'cajun_creole', 'vietnamese', 'chinese', 'mexican', 'italian', 'filipino', 'spanish', 'italian', 'irish', 'french', 'french', 'southern_us', 'indian', 'southern_us', 'italian', 'mexican', 'mexican', 'japanese', 'korean', 'cajun_creole', 'russian', 'indian', 'mexican', 'chinese', 'italian', 'indian', 'cajun_creole', 'korean', 'moroccan', 'thai', 'indian', 'french', 'mexican', 'japanese', 'southern_us', 'chinese', 'cajun_creole', 'italian', 'southern_us', 'jamaican', 'japanese', 'southern_us', 'italian', 'vietnamese', 'french', 'french', 'thai', 'southern_us', 'southern_us', 'mexican', 'italian', 'mexican', 'chinese', 'british', 'italian', 'thai', 'korean', 'italian', 'indian', 'jamaican', 'italian', 'british', 'southern_us', 'italian', 'indian', 'chinese', 'mexican', 'italian', 'italian', 'french', 'french', 'italian', 'italian', 'brazilian', 'italian', 'mexican', 'italian', 'italian', 'italian', 'spanish', 'thai', 'chinese', 'vietnamese', 'greek', 'italian', 'moroccan', 'filipino', 'chinese', 'chinese', 'greek', 'japanese', 'indian', 'thai', 'italian', 'southern_us', 'indian', 'cajun_creole', 'italian', 'mexican', 'vietnamese', 'italian', 'japanese', 'southern_us', 'brazilian', 'southern_us', 'italian', 'mexican', 'indian', 'mexican', 'mexican', 'mexican', 'indian', 'indian', 'italian', 'italian', 'italian', 'mexican', 'indian', 'southern_us', 'mexican', 'mexican', 'greek', 'brazilian', 'french', 'mexican', 'italian', 'mexican', 'cajun_creole', 'italian', 'chinese', 'indian', 'russian', 'french', 'italian', 'moroccan', 'italian', 'thai', 'italian', 'japanese', 'chinese', 'indian', 'southern_us', 'british', 'french', 'greek', 'chinese', 'jamaican', 'korean', 'mexican', 'chinese', 'mexican', 'italian', 'mexican', 'mexican', 'mexican', 'southern_us', 'mexican', 'indian', 'chinese', 'moroccan', 'italian', 'indian', 'russian', 'italian', 'mexican', 'british', 'italian', 'mexican', 'chinese', 'french', 'french', 'southern_us', 'italian', 'italian', 'thai', 'indian', 'japanese', 'italian', 'mexican', 'mexican', 'mexican', 'italian', 'korean', 'chinese', 'italian', 'mexican', 'mexican', 'southern_us', 'french', 'mexican', 'french', 'italian', 'french', 'british', 'mexican', 'italian', 'southern_us', 'southern_us', 'southern_us', 'indian', 'southern_us', 'cajun_creole', 'french', 'italian', 'japanese', 'italian', 'southern_us', 'indian', 'indian', 'mexican', 'cajun_creole', 'indian', 'greek', 'mexican', 'chinese', 'indian', 'southern_us', 'french', 'japanese', 'southern_us', 'chinese', 'spanish', 'mexican', 'mexican', 'mexican', 'mexican', 'indian', 'southern_us', 'irish', 'filipino', 'filipino', 'chinese', 'cajun_creole', 'moroccan', 'italian', 'japanese', 'southern_us', 'japanese', 'southern_us', 'italian', 'mexican', 'southern_us', 'indian', 'brazilian', 'irish', 'moroccan', 'jamaican', 'indian', 'japanese', 'mexican', 'mexican', 'british', 'thai', 'southern_us', 'spanish', 'spanish', 'vietnamese', 'korean', 'mexican', 'japanese', 'jamaican', 'italian', 'cajun_creole', 'cajun_creole', 'indian', 'southern_us', 'moroccan', 'italian', 'mexican', 'vietnamese', 'spanish', 'irish', 'japanese', 'greek', 'filipino', 'irish', 'southern_us', 'southern_us', 'greek', 'indian', 'chinese', 'thai', 'japanese', 'french', 'mexican', 'french', 'mexican', 'brazilian', 'southern_us', 'italian', 'thai', 'italian', 'filipino', 'italian', 'italian', 'spanish', 'chinese', 'mexican', 'italian', 'indian', 'japanese', 'jamaican', 'italian', 'italian', 'korean', 'indian', 'southern_us', 'mexican', 'italian', 'irish', 'indian', 'vietnamese', 'russian', 'indian', 'mexican', 'chinese', 'southern_us', 'mexican', 'french', 'indian', 'chinese', 'southern_us', 'moroccan', 'italian', 'southern_us', 'southern_us', 'filipino', 'italian', 'southern_us', 'korean', 'chinese', 'mexican', 'mexican', 'italian', 'chinese', 'greek', 'greek', 'italian', 'southern_us', 'mexican', 'indian', 'moroccan', 'italian', 'italian', 'mexican', 'italian', 'greek', 'southern_us', 'mexican', 'italian', 'mexican', 'mexican', 'italian', 'southern_us', 'southern_us', 'thai', 'vietnamese', 'jamaican', 'chinese', 'mexican', 'italian', 'southern_us', 'moroccan', 'southern_us', 'filipino', 'greek', 'southern_us', 'italian', 'mexican', 'british', 'southern_us', 'filipino', 'southern_us', 'italian', 'southern_us', 'cajun_creole', 'greek', 'thai', 'southern_us', 'irish', 'italian', 'cajun_creole', 'cajun_creole', 'greek', 'southern_us', 'indian', 'jamaican', 'cajun_creole', 'southern_us', 'southern_us', 'french', 'vietnamese', 'italian', 'thai', 'chinese', 'korean', 'mexican', 'korean', 'irish', 'indian', 'indian', 'southern_us', 'southern_us', 'vietnamese', 'southern_us', 'thai', 'japanese', 'chinese', 'italian', 'indian', 'italian', 'mexican', 'spanish', 'chinese', 'mexican', 'mexican', 'moroccan', 'southern_us', 'italian', 'mexican', 'italian', 'mexican', 'italian', 'korean', 'italian', 'chinese', 'cajun_creole', 'thai', 'mexican', 'italian', 'cajun_creole', 'greek', 'southern_us', 'greek', 'japanese', 'thai', 'jamaican', 'italian', 'british', 'british', 'indian', 'irish', 'british', 'mexican', 'italian', 'irish', 'mexican', 'chinese', 'mexican', 'cajun_creole', 'spanish', 'italian', 'indian', 'thai', 'indian', 'italian', 'thai', 'southern_us', 'chinese', 'italian', 'mexican', 'italian', 'korean', 'indian', 'indian', 'korean', 'mexican', 'mexican', 'greek', 'southern_us', 'italian', 'indian', 'french', 'italian', 'chinese', 'cajun_creole', 'spanish', 'mexican', 'southern_us', 'spanish', 'southern_us', 'greek', 'italian', 'italian', 'mexican', 'mexican', 'british', 'southern_us', 'indian', 'southern_us', 'filipino', 'chinese', 'moroccan', 'cajun_creole', 'thai', 'mexican', 'russian', 'mexican', 'korean', 'french', 'italian', 'italian', 'southern_us', 'french', 'thai', 'spanish', 'korean', 'thai', 'mexican', 'italian', 'korean', 'indian', 'italian', 'french', 'italian', 'irish', 'french', 'indian', 'chinese', 'filipino', 'southern_us', 'mexican', 'mexican', 'indian', 'irish', 'mexican', 'jamaican', 'southern_us', 'russian', 'vietnamese', 'thai', 'chinese', 'indian', 'brazilian', 'indian', 'southern_us', 'indian', 'jamaican', 'indian', 'italian', 'indian', 'chinese', 'brazilian', 'southern_us', 'italian', 'japanese', 'indian', 'spanish', 'vietnamese', 'cajun_creole', 'french', 'french', 'mexican', 'filipino', 'filipino', 'spanish', 'italian', 'indian', 'italian', 'cajun_creole', 'japanese', 'italian', 'chinese', 'thai', 'italian', 'southern_us', 'indian', 'moroccan', 'mexican', 'mexican', 'mexican', 'jamaican', 'greek', 'filipino', 'indian', 'french', 'japanese', 'italian', 'mexican', 'mexican', 'french', 'southern_us', 'indian', 'italian', 'indian', 'chinese', 'mexican', 'thai', 'spanish', 'mexican', 'cajun_creole', 'southern_us', 'southern_us', 'italian', 'thai', 'greek', 'southern_us', 'chinese', 'mexican', 'korean', 'mexican', 'cajun_creole', 'greek', 'italian', 'korean', 'italian', 'italian', 'chinese', 'southern_us', 'irish', 'chinese', 'cajun_creole', 'mexican', 'vietnamese', 'italian', 'mexican', 'moroccan', 'indian', 'chinese', 'italian', 'indian', 'mexican', 'italian', 'mexican', 'chinese', 'thai', 'spanish', 'indian', 'italian', 'indian', 'korean', 'indian', 'moroccan', 'british', 'southern_us', 'thai', 'japanese', 'cajun_creole', 'chinese', 'indian', 'italian', 'chinese', 'italian', 'italian', 'southern_us', 'indian', 'indian', 'french', 'french', 'brazilian', 'british', 'southern_us', 'mexican', 'thai', 'mexican', 'mexican', 'southern_us', 'korean', 'chinese', 'italian', 'british', 'indian', 'indian', 'indian', 'japanese', 'southern_us', 'greek', 'southern_us', 'italian', 'french', 'italian', 'cajun_creole', 'french', 'chinese', 'indian', 'southern_us', 'southern_us', 'italian', 'italian', 'french', 'vietnamese', 'italian', 'indian', 'mexican', 'southern_us', 'southern_us', 'jamaican', 'mexican', 'chinese', 'mexican', 'japanese', 'southern_us', 'japanese', 'japanese', 'french', 'italian', 'italian', 'japanese', 'chinese', 'mexican', 'greek', 'mexican', 'italian', 'french', 'chinese', 'italian', 'southern_us', 'jamaican', 'jamaican', 'mexican', 'indian', 'irish', 'italian', 'southern_us', 'indian', 'southern_us', 'cajun_creole', 'indian', 'italian', 'italian', 'korean', 'italian', 'thai', 'mexican', 'french', 'southern_us', 'italian', 'chinese', 'italian', 'italian', 'italian', 'thai', 'southern_us', 'mexican', 'british', 'british', 'greek', 'indian', 'french', 'italian', 'mexican', 'italian', 'italian', 'french', 'french', 'chinese', 'thai', 'italian', 'mexican', 'italian', 'mexican', 'indian', 'french', 'japanese', 'mexican', 'thai', 'mexican', 'japanese', 'indian', 'japanese', 'greek', 'thai', 'italian', 'thai', 'mexican', 'irish', 'italian', 'indian', 'southern_us', 'mexican', 'mexican', 'southern_us', 'greek', 'italian', 'thai', 'italian', 'brazilian', 'mexican', 'southern_us', 'spanish', 'mexican', 'chinese', 'italian', 'irish', 'mexican', 'southern_us', 'italian', 'mexican', 'chinese', 'korean', 'cajun_creole', 'moroccan', 'spanish', 'italian', 'italian', 'italian', 'southern_us', 'mexican', 'french', 'irish', 'italian', 'mexican', 'thai', 'chinese', 'italian', 'greek', 'chinese', 'thai', 'french', 'italian', 'brazilian', 'southern_us', 'italian', 'brazilian', 'mexican', 'indian', 'cajun_creole', 'spanish', 'italian', 'italian', 'irish', 'french', 'mexican', 'mexican', 'korean', 'southern_us', 'mexican', 'italian', 'italian', 'italian', 'italian', 'chinese', 'british', 'southern_us', 'greek', 'greek', 'mexican', 'korean', 'italian', 'italian', 'french', 'brazilian', 'southern_us', 'mexican', 'indian', 'thai', 'french', 'french', 'french', 'french', 'mexican', 'mexican', 'korean', 'italian', 'italian', 'french', 'indian', 'italian', 'thai', 'mexican', 'italian', 'indian', 'italian', 'filipino', 'mexican', 'italian', 'mexican', 'italian', 'irish', 'mexican', 'italian', 'russian', 'vietnamese', 'british', 'chinese', 'chinese', 'mexican', 'mexican', 'southern_us', 'cajun_creole', 'chinese', 'southern_us', 'mexican', 'indian', 'mexican', 'japanese', 'japanese', 'mexican', 'italian', 'mexican', 'british', 'italian', 'mexican', 'italian', 'indian', 'korean', 'irish', 'greek', 'italian', 'indian', 'french', 'southern_us', 'southern_us', 'southern_us', 'italian', 'mexican', 'indian', 'southern_us', 'italian', 'southern_us', 'mexican', 'mexican', 'irish', 'italian', 'southern_us', 'thai', 'italian', 'cajun_creole', 'chinese', 'mexican', 'french', 'japanese', 'japanese', 'italian', 'jamaican', 'indian', 'italian', 'british', 'mexican', 'korean', 'southern_us', 'mexican', 'southern_us', 'chinese', 'southern_us', 'italian', 'thai', 'french', 'italian', 'italian', 'greek', 'vietnamese', 'japanese', 'italian', 'moroccan', 'moroccan', 'southern_us', 'italian', 'mexican', 'italian', 'italian', 'japanese', 'italian', 'mexican', 'mexican', 'filipino', 'italian', 'greek', 'italian', 'indian', 'greek', 'mexican', 'japanese', 'mexican', 'mexican', 'indian', 'chinese', 'italian', 'italian', 'italian', 'korean', 'indian', 'moroccan', 'southern_us', 'french', 'korean', 'mexican', 'italian', 'chinese', 'mexican', 'indian', 'mexican', 'chinese', 'italian', 'southern_us', 'mexican', 'southern_us', 'chinese', 'chinese', 'southern_us', 'indian', 'italian', 'mexican', 'thai', 'mexican', 'italian', 'southern_us', 'mexican', 'japanese', 'italian', 'italian', 'southern_us', 'british', 'chinese', 'thai', 'italian', 'italian', 'french', 'italian', 'southern_us', 'italian', 'british', 'mexican', 'italian', 'chinese', 'russian', 'mexican', 'filipino', 'southern_us', 'mexican', 'chinese', 'mexican', 'italian', 'japanese', 'southern_us', 'spanish', 'british', 'indian', 'french', 'british', 'southern_us', 'irish', 'italian', 'chinese', 'french', 'korean', 'korean', 'chinese', 'mexican', 'french', 'vietnamese', 'french', 'japanese', 'mexican', 'russian', 'cajun_creole', 'mexican', 'mexican', 'southern_us', 'italian', 'thai', 'irish', 'italian', 'japanese', 'southern_us', 'japanese', 'italian', 'italian', 'spanish', 'british', 'chinese', 'indian', 'french', 'mexican', 'irish', 'thai', 'indian', 'mexican', 'japanese', 'mexican', 'cajun_creole', 'french', 'french', 'mexican', 'italian', 'jamaican', 'mexican', 'thai', 'mexican', 'mexican', 'mexican', 'italian', 'filipino', 'southern_us', 'moroccan', 'mexican', 'italian', 'chinese', 'southern_us', 'italian', 'korean', 'chinese', 'italian', 'mexican', 'french', 'cajun_creole', 'mexican', 'southern_us', 'japanese', 'southern_us', 'southern_us', 'mexican', 'chinese', 'italian', 'moroccan', 'mexican', 'southern_us', 'cajun_creole', 'cajun_creole', 'mexican', 'italian', 'italian', 'irish', 'southern_us', 'vietnamese', 'indian', 'italian', 'thai', 'korean', 'japanese', 'british', 'southern_us', 'cajun_creole', 'mexican', 'cajun_creole', 'vietnamese', 'japanese', 'chinese', 'irish', 'italian', 'british', 'southern_us', 'moroccan', 'french', 'greek', 'british', 'mexican', 'french', 'southern_us', 'mexican', 'chinese', 'italian', 'mexican', 'french', 'thai', 'indian', 'southern_us', 'french', 'italian', 'british', 'italian', 'mexican', 'southern_us', 'british', 'italian', 'spanish', 'cajun_creole', 'french', 'russian', 'mexican', 'italian', 'spanish', 'southern_us', 'mexican', 'mexican', 'indian', 'japanese', 'mexican', 'italian', 'mexican', 'korean', 'indian', 'southern_us', 'spanish', 'southern_us', 'italian', 'thai', 'italian', 'french', 'mexican', 'greek', 'japanese', 'indian', 'italian', 'indian', 'cajun_creole', 'thai', 'french', 'italian', 'british', 'indian', 'moroccan', 'jamaican', 'french', 'chinese', 'italian', 'southern_us', 'italian', 'italian', 'mexican', 'italian', 'italian', 'italian', 'italian', 'indian', 'italian', 'french', 'filipino', 'mexican', 'spanish', 'chinese', 'southern_us', 'french', 'southern_us', 'cajun_creole', 'indian', 'irish', 'british', 'italian', 'japanese', 'spanish', 'french', 'indian', 'indian', 'mexican', 'southern_us', 'italian', 'greek', 'italian', 'mexican', 'british', 'japanese', 'thai', 'southern_us', 'cajun_creole', 'moroccan', 'vietnamese', 'greek', 'french', 'jamaican', 'mexican', 'italian', 'mexican', 'french', 'chinese', 'indian', 'korean', 'chinese', 'mexican', 'southern_us', 'mexican', 'italian', 'southern_us', 'korean', 'mexican', 'southern_us', 'thai', 'british', 'italian', 'french', 'chinese', 'russian', 'italian', 'chinese', 'french', 'italian', 'cajun_creole', 'southern_us', 'jamaican', 'greek', 'chinese', 'filipino', 'italian', 'italian', 'japanese', 'vietnamese', 'southern_us', 'southern_us', 'moroccan', 'french', 'italian', 'thai', 'indian', 'spanish', 'southern_us', 'italian', 'mexican', 'mexican', 'thai', 'japanese', 'french', 'vietnamese', 'thai', 'italian', 'mexican', 'italian', 'indian', 'italian', 'italian', 'spanish', 'southern_us', 'southern_us', 'mexican', 'cajun_creole', 'moroccan', 'french', 'korean', 'vietnamese', 'italian', 'indian', 'brazilian', 'southern_us', 'italian', 'italian', 'brazilian', 'cajun_creole', 'italian', 'mexican', 'chinese', 'italian', 'japanese', 'cajun_creole', 'filipino', 'mexican', 'irish', 'korean', 'italian', 'japanese', 'cajun_creole', 'thai', 'cajun_creole', 'italian', 'southern_us', 'mexican', 'greek', 'italian', 'mexican', 'italian', 'indian', 'spanish', 'chinese', 'cajun_creole', 'southern_us', 'mexican', 'italian', 'italian', 'french', 'mexican', 'southern_us', 'chinese', 'thai', 'chinese', 'russian', 'jamaican', 'mexican', 'italian', 'southern_us', 'moroccan', 'italian', 'italian', 'greek', 'mexican', 'italian', 'cajun_creole', 'southern_us', 'mexican', 'thai', 'thai', 'chinese', 'cajun_creole', 'chinese', 'mexican', 'british', 'mexican', 'mexican', 'british', 'indian', 'chinese', 'jamaican', 'british', 'italian', 'french', 'mexican', 'italian', 'greek', 'italian', 'moroccan', 'cajun_creole', 'moroccan', 'chinese', 'chinese', 'moroccan', 'italian', 'southern_us', 'mexican', 'southern_us', 'mexican', 'italian', 'italian', 'mexican', 'italian', 'italian', 'southern_us', 'italian', 'italian', 'southern_us', 'italian', 'japanese', 'mexican', 'french', 'thai', 'japanese', 'vietnamese', 'spanish', 'indian', 'italian', 'italian', 'indian', 'greek', 'vietnamese', 'indian', 'chinese', 'mexican', 'mexican', 'indian', 'mexican', 'italian', 'mexican', 'mexican', 'vietnamese', 'italian', 'moroccan', 'italian', 'italian', 'mexican', 'british', 'british', 'british', 'french', 'mexican', 'cajun_creole', 'italian', 'british', 'greek', 'chinese', 'thai', 'southern_us', 'irish', 'italian', 'mexican', 'filipino', 'greek', 'italian', 'mexican', 'italian', 'italian', 'mexican', 'mexican', 'greek', 'chinese', 'spanish', 'mexican', 'chinese', 'italian', 'indian', 'italian', 'italian', 'irish', 'italian', 'french', 'vietnamese', 'indian', 'cajun_creole', 'indian', 'italian', 'italian', 'italian', 'korean', 'vietnamese', 'spanish', 'japanese', 'italian', 'french', 'mexican', 'french', 'chinese', 'indian', 'spanish', 'mexican', 'spanish', 'cajun_creole', 'spanish', 'mexican', 'korean', 'italian', 'italian', 'french', 'italian', 'indian', 'indian', 'italian', 'chinese', 'chinese', 'korean', 'southern_us', 'italian', 'italian', 'moroccan', 'italian', 'southern_us', 'french', 'mexican', 'brazilian', 'brazilian', 'cajun_creole', 'chinese', 'indian', 'southern_us', 'korean', 'southern_us', 'southern_us', 'japanese', 'moroccan', 'jamaican', 'japanese', 'japanese', 'mexican', 'italian', 'mexican', 'mexican', 'french', 'japanese', 'thai', 'indian', 'greek', 'italian', 'italian', 'cajun_creole', 'indian', 'italian', 'chinese', 'indian', 'indian', 'mexican', 'mexican', 'southern_us', 'southern_us', 'spanish', 'southern_us', 'mexican', 'southern_us', 'mexican', 'french', 'mexican', 'french', 'korean', 'italian', 'filipino', 'southern_us', 'mexican', 'southern_us', 'mexican', 'thai', 'chinese', 'southern_us', 'italian', 'indian', 'cajun_creole', 'chinese', 'italian', 'cajun_creole', 'mexican', 'mexican', 'italian', 'cajun_creole', 'moroccan', 'italian', 'greek', 'brazilian', 'italian', 'mexican', 'indian', 'italian', 'greek', 'southern_us', 'mexican', 'italian', 'moroccan', 'italian', 'cajun_creole', 'italian', 'mexican', 'italian', 'thai', 'italian', 'mexican', 'chinese', 'british', 'italian', 'russian', 'italian', 'southern_us', 'cajun_creole', 'mexican', 'brazilian', 'cajun_creole', 'southern_us', 'cajun_creole', 'mexican', 'french', 'indian', 'spanish', 'italian', 'chinese', 'italian', 'southern_us', 'mexican', 'cajun_creole', 'italian', 'italian', 'french', 'indian', 'chinese', 'italian', 'indian', 'french', 'french', 'mexican', 'korean', 'italian', 'french', 'french', 'spanish', 'vietnamese', 'brazilian', 'italian', 'southern_us', 'french', 'italian', 'indian', 'filipino', 'italian', 'japanese', 'mexican', 'italian', 'italian', 'southern_us', 'italian', 'mexican', 'italian', 'mexican', 'mexican', 'italian', 'british', 'italian', 'italian', 'southern_us', 'mexican', 'chinese', 'italian', 'chinese', 'southern_us', 'italian', 'thai', 'italian', 'greek', 'indian', 'japanese', 'cajun_creole', 'chinese', 'french', 'italian', 'french', 'japanese', 'irish', 'british', 'french', 'mexican', 'brazilian', 'irish', 'french', 'spanish', 'indian', 'indian', 'british', 'filipino', 'korean', 'indian', 'thai', 'thai', 'korean', 'italian', 'greek', 'japanese', 'mexican', 'italian', 'japanese', 'greek', 'chinese', 'italian', 'japanese', 'chinese', 'greek', 'japanese', 'indian', 'italian', 'mexican', 'french', 'korean', 'italian', 'korean', 'french', 'southern_us', 'chinese', 'italian', 'indian', 'southern_us', 'mexican', 'mexican', 'french', 'italian', 'jamaican', 'french', 'mexican', 'mexican', 'french', 'spanish', 'chinese', 'chinese', 'cajun_creole', 'mexican', 'thai', 'southern_us', 'chinese', 'korean', 'southern_us', 'french', 'spanish', 'irish', 'mexican', 'french', 'italian', 'italian', 'italian', 'italian', 'mexican', 'italian', 'mexican', 'moroccan', 'british', 'italian', 'british', 'spanish', 'italian', 'indian', 'greek', 'mexican', 'southern_us', 'korean', 'chinese', 'french', 'japanese', 'italian', 'cajun_creole', 'italian', 'italian', 'russian', 'italian', 'british', 'indian', 'mexican', 'mexican', 'italian', 'indian', 'italian', 'jamaican', 'brazilian', 'vietnamese', 'southern_us', 'italian', 'mexican', 'italian', 'mexican', 'french', 'southern_us', 'indian', 'italian', 'french', 'greek', 'chinese', 'southern_us', 'thai', 'french', 'japanese', 'thai', 'russian', 'french', 'southern_us', 'italian', 'jamaican', 'chinese', 'chinese', 'spanish', 'southern_us', 'french', 'italian', 'french', 'japanese', 'italian', 'brazilian', 'indian', 'french', 'mexican', 'mexican', 'greek', 'japanese', 'southern_us', 'mexican', 'indian', 'greek', 'vietnamese', 'italian', 'mexican', 'korean', 'indian', 'japanese', 'indian', 'filipino', 'greek', 'southern_us', 'chinese', 'vietnamese', 'thai', 'southern_us', 'mexican', 'italian', 'southern_us', 'mexican', 'indian', 'korean', 'vietnamese', 'italian', 'mexican', 'cajun_creole', 'italian', 'thai', 'russian', 'italian', 'korean', 'korean', 'spanish', 'indian', 'italian', 'southern_us', 'chinese', 'brazilian', 'french', 'mexican', 'irish', 'southern_us', 'italian', 'southern_us', 'southern_us', 'southern_us', 'moroccan', 'mexican', 'filipino', 'mexican', 'southern_us', 'mexican', 'chinese', 'mexican', 'indian', 'italian', 'thai', 'indian', 'italian', 'mexican', 'spanish', 'filipino', 'british', 'mexican', 'greek', 'thai', 'southern_us', 'mexican', 'mexican', 'russian', 'mexican', 'japanese', 'mexican', 'filipino', 'french', 'italian', 'italian', 'italian', 'southern_us', 'cajun_creole', 'southern_us', 'french', 'thai', 'mexican', 'southern_us', 'mexican', 'cajun_creole', 'italian', 'cajun_creole', 'vietnamese', 'greek', 'chinese', 'southern_us', 'mexican', 'southern_us', 'indian', 'italian', 'southern_us', 'southern_us', 'mexican', 'italian', 'southern_us', 'chinese', 'british', 'indian', 'italian', 'indian', 'mexican', 'italian', 'italian', 'mexican', 'mexican', 'mexican', 'jamaican', 'mexican', 'mexican', 'indian', 'mexican', 'korean', 'italian', 'mexican', 'cajun_creole', 'chinese', 'filipino', 'mexican', 'italian', 'italian', 'french', 'japanese', 'italian', 'spanish', 'italian', 'thai', 'mexican', 'mexican', 'southern_us', 'greek', 'indian', 'italian', 'italian', 'indian', 'italian', 'chinese', 'french', 'indian', 'mexican', 'southern_us', 'southern_us', 'greek', 'mexican', 'indian', 'chinese', 'japanese', 'russian', 'southern_us', 'thai', 'french', 'mexican', 'italian', 'southern_us', 'greek', 'southern_us', 'spanish', 'thai', 'italian', 'irish', 'southern_us', 'italian', 'italian', 'korean', 'british', 'mexican', 'mexican', 'italian', 'russian', 'indian', 'chinese', 'mexican', 'italian', 'chinese', 'southern_us', 'italian', 'mexican', 'chinese', 'southern_us', 'filipino', 'cajun_creole', 'french', 'french', 'cajun_creole', 'jamaican', 'mexican', 'chinese', 'italian', 'italian', 'southern_us', 'chinese', 'vietnamese', 'vietnamese', 'italian', 'chinese', 'chinese', 'spanish', 'japanese', 'greek', 'russian', 'italian', 'russian', 'british', 'moroccan', 'thai', 'filipino', 'thai', 'southern_us', 'mexican', 'british', 'southern_us', 'irish', 'italian', 'indian', 'italian', 'chinese', 'mexican', 'spanish', 'cajun_creole', 'southern_us', 'brazilian', 'mexican', 'southern_us', 'southern_us', 'mexican', 'vietnamese', 'indian', 'mexican', 'mexican', 'korean', 'french', 'spanish', 'mexican', 'southern_us', 'korean', 'spanish', 'indian', 'mexican', 'filipino', 'italian', 'mexican', 'korean', 'southern_us', 'greek', 'chinese', 'italian', 'italian', 'spanish', 'italian', 'mexican', 'italian', 'vietnamese', 'italian', 'mexican', 'spanish', 'jamaican', 'mexican', 'chinese', 'moroccan', 'mexican', 'italian', 'mexican', 'indian', 'southern_us', 'mexican', 'southern_us', 'italian', 'mexican', 'indian', 'southern_us', 'indian', 'spanish', 'indian', 'indian', 'italian', 'indian', 'japanese', 'chinese', 'mexican', 'mexican', 'southern_us', 'italian', 'italian', 'italian', 'chinese', 'korean', 'mexican', 'moroccan', 'cajun_creole', 'italian', 'french', 'greek', 'japanese', 'russian', 'french', 'mexican', 'korean', 'italian', 'italian', 'thai', 'cajun_creole', 'chinese', 'thai', 'chinese', 'indian', 'chinese', 'french', 'japanese', 'mexican', 'italian', 'chinese', 'italian', 'jamaican', 'irish', 'cajun_creole', 'italian', 'chinese', 'filipino', 'italian', 'southern_us', 'indian', 'italian', 'cajun_creole', 'southern_us', 'chinese', 'southern_us', 'thai', 'korean', 'indian', 'jamaican', 'jamaican', 'spanish', 'cajun_creole', 'southern_us', 'thai', 'british', 'french', 'korean', 'italian', 'british', 'italian', 'southern_us', 'mexican', 'italian', 'italian', 'mexican', 'mexican', 'greek', 'mexican', 'greek', 'greek', 'thai', 'mexican', 'spanish', 'chinese', 'italian', 'mexican', 'spanish', 'italian', 'italian', 'southern_us', 'italian', 'italian', 'thai', 'italian', 'italian', 'irish', 'mexican', 'cajun_creole', 'mexican', 'southern_us', 'mexican', 'southern_us', 'italian', 'french', 'southern_us', 'japanese', 'italian', 'french', 'mexican', 'italian', 'mexican', 'french', 'southern_us', 'moroccan', 'british', 'brazilian', 'filipino', 'southern_us', 'french', 'chinese', 'french', 'italian', 'mexican', 'jamaican', 'southern_us', 'chinese', 'moroccan', 'greek', 'greek', 'thai', 'indian', 'mexican', 'mexican', 'thai', 'irish', 'british', 'italian', 'greek', 'italian', 'french', 'indian', 'indian', 'southern_us', 'mexican', 'french', 'spanish', 'spanish', 'southern_us', 'spanish', 'italian', 'irish', 'french', 'italian', 'indian', 'korean', 'italian', 'mexican', 'mexican', 'korean', 'indian', 'filipino', 'italian', 'moroccan', 'greek', 'cajun_creole', 'japanese', 'mexican', 'french', 'french', 'japanese', 'chinese', 'chinese', 'cajun_creole', 'mexican', 'mexican', 'italian', 'mexican', 'french', 'mexican', 'chinese', 'italian', 'southern_us', 'indian', 'japanese', 'vietnamese', 'mexican', 'southern_us', 'jamaican', 'mexican', 'cajun_creole', 'mexican', 'japanese', 'chinese', 'mexican', 'italian', 'indian', 'japanese', 'mexican', 'italian', 'vietnamese', 'chinese', 'italian', 'mexican', 'italian', 'chinese', 'spanish', 'mexican', 'japanese', 'southern_us', 'southern_us', 'mexican', 'russian', 'italian', 'greek', 'mexican', 'japanese', 'southern_us', 'thai', 'indian', 'filipino', 'indian', 'southern_us', 'vietnamese', 'greek', 'spanish', 'cajun_creole', 'moroccan', 'mexican', 'indian', 'japanese', 'italian', 'mexican', 'indian', 'mexican', 'mexican', 'chinese', 'italian', 'french', 'southern_us', 'indian', 'irish', 'indian', 'indian', 'italian', 'japanese', 'moroccan', 'italian', 'southern_us', 'italian', 'korean', 'italian', 'thai', 'italian', 'chinese', 'british', 'spanish', 'mexican', 'french', 'southern_us', 'french', 'irish', 'southern_us', 'korean', 'mexican', 'southern_us', 'french', 'southern_us', 'mexican', 'greek', 'korean', 'southern_us', 'italian', 'brazilian', 'chinese', 'thai', 'italian', 'southern_us', 'spanish', 'italian', 'chinese', 'mexican', 'mexican', 'southern_us', 'southern_us', 'cajun_creole', 'brazilian', 'southern_us', 'mexican', 'italian', 'french', 'russian', 'italian', 'mexican', 'thai', 'korean', 'italian', 'greek', 'spanish', 'japanese', 'italian', 'italian', 'italian', 'italian', 'filipino', 'spanish', 'italian', 'mexican', 'italian', 'mexican', 'southern_us', 'vietnamese', 'italian', 'indian', 'indian', 'mexican', 'indian', 'southern_us', 'chinese', 'french', 'vietnamese', 'cajun_creole', 'mexican', 'mexican', 'french', 'mexican', 'jamaican', 'vietnamese', 'italian', 'japanese', 'southern_us', 'british', 'southern_us', 'brazilian', 'indian', 'indian', 'italian', 'chinese', 'indian', 'vietnamese', 'southern_us', 'french', 'mexican', 'southern_us', 'thai', 'mexican', 'indian', 'mexican', 'italian', 'mexican', 'italian', 'italian', 'chinese', 'cajun_creole', 'moroccan', 'southern_us', 'italian', 'indian', 'southern_us', 'mexican', 'thai', 'italian', 'italian', 'french', 'cajun_creole', 'vietnamese', 'mexican', 'irish', 'mexican', 'southern_us', 'japanese', 'italian', 'french', 'mexican', 'southern_us', 'korean', 'vietnamese', 'mexican', 'japanese', 'brazilian', 'italian', 'cajun_creole', 'indian', 'british', 'indian', 'mexican', 'moroccan', 'mexican', 'greek', 'mexican', 'mexican', 'italian', 'korean', 'italian', 'mexican', 'southern_us', 'cajun_creole', 'spanish', 'indian', 'mexican', 'spanish', 'filipino', 'french', 'chinese', 'spanish', 'indian', 'italian', 'mexican', 'irish', 'cajun_creole', 'italian', 'indian', 'mexican', 'chinese', 'southern_us', 'cajun_creole', 'thai', 'french', 'southern_us', 'mexican', 'mexican', 'chinese', 'mexican', 'italian', 'chinese', 'indian', 'southern_us', 'spanish', 'japanese', 'italian', 'french', 'italian', 'chinese', 'italian', 'italian', 'italian', 'french', 'mexican', 'mexican', 'southern_us', 'italian', 'southern_us', 'indian', 'vietnamese', 'chinese', 'korean', 'southern_us', 'italian', 'cajun_creole', 'vietnamese', 'southern_us', 'mexican', 'italian', 'french', 'chinese', 'southern_us', 'korean', 'chinese', 'chinese', 'french', 'indian', 'french', 'vietnamese', 'thai', 'chinese', 'mexican', 'greek', 'french', 'brazilian', 'mexican', 'mexican', 'italian', 'southern_us', 'filipino', 'indian', 'chinese', 'italian', 'vietnamese', 'korean', 'southern_us', 'mexican', 'indian', 'indian', 'italian', 'italian', 'chinese', 'filipino', 'british', 'mexican', 'jamaican', 'mexican', 'italian', 'italian', 'mexican', 'chinese', 'southern_us', 'thai', 'british', 'mexican', 'korean', 'italian', 'irish', 'mexican', 'southern_us', 'indian', 'mexican', 'moroccan', 'southern_us', 'filipino', 'chinese', 'spanish', 'italian', 'southern_us', 'french', 'french', 'british', 'indian', 'chinese', 'italian', 'vietnamese', 'japanese', 'filipino', 'chinese', 'mexican', 'french', 'italian', 'mexican', 'southern_us', 'mexican', 'chinese', 'southern_us', 'italian', 'italian', 'french', 'spanish', 'thai', 'italian', 'vietnamese', 'chinese', 'thai', 'japanese', 'mexican', 'korean', 'italian', 'french', 'greek', 'italian', 'southern_us', 'chinese', 'mexican', 'southern_us', 'mexican', 'korean', 'indian', 'mexican', 'southern_us', 'british', 'indian', 'italian', 'russian', 'japanese', 'spanish', 'greek', 'vietnamese', 'filipino', 'southern_us', 'italian', 'japanese', 'thai', 'italian', 'italian', 'italian', 'jamaican', 'british', 'cajun_creole', 'southern_us', 'french', 'italian', 'italian', 'southern_us', 'french', 'italian', 'southern_us', 'greek', 'jamaican', 'british', 'vietnamese', 'jamaican', 'southern_us', 'italian', 'italian', 'southern_us', 'mexican', 'thai', 'mexican', 'jamaican', 'indian', 'italian', 'indian', 'filipino', 'jamaican', 'southern_us', 'mexican', 'greek', 'italian', 'italian', 'italian', 'french', 'southern_us', 'chinese', 'italian', 'moroccan', 'mexican', 'italian', 'french', 'vietnamese', 'japanese', 'mexican', 'mexican', 'southern_us', 'southern_us', 'french', 'indian', 'korean', 'cajun_creole', 'italian', 'mexican', 'korean', 'irish', 'italian', 'british', 'french', 'mexican', 'korean', 'russian', 'japanese', 'spanish', 'cajun_creole', 'italian', 'mexican', 'southern_us', 'italian', 'greek', 'southern_us', 'french', 'indian', 'indian', 'filipino', 'chinese', 'italian', 'irish', 'mexican', 'southern_us', 'irish', 'chinese', 'thai', 'japanese', 'spanish', 'british', 'italian', 'italian', 'french', 'french', 'french', 'italian', 'indian', 'southern_us', 'indian', 'chinese', 'french', 'mexican', 'italian', 'vietnamese', 'mexican', 'japanese', 'british', 'irish', 'french', 'cajun_creole', 'mexican', 'indian', 'italian', 'italian', 'cajun_creole', 'cajun_creole', 'italian', 'chinese', 'southern_us', 'southern_us', 'southern_us', 'southern_us', 'italian', 'chinese', 'chinese', 'thai', 'southern_us', 'italian', 'italian', 'thai', 'french', 'southern_us', 'chinese', 'british', 'british', 'italian', 'mexican', 'italian', 'italian', 'british', 'korean', 'italian', 'indian', 'mexican', 'southern_us', 'italian', 'irish', 'mexican', 'french', 'british', 'italian', 'japanese', 'korean', 'southern_us', 'cajun_creole', 'cajun_creole', 'italian', 'filipino', 'mexican', 'italian', 'cajun_creole', 'italian', 'moroccan', 'indian', 'cajun_creole', 'spanish', 'chinese', 'southern_us', 'southern_us', 'chinese', 'chinese', 'mexican', 'italian', 'cajun_creole', 'irish', 'french', 'greek', 'british', 'thai', 'mexican', 'italian', 'cajun_creole', 'french', 'chinese', 'russian', 'french', 'mexican', 'british', 'thai', 'indian', 'italian', 'japanese', 'italian', 'mexican', 'japanese', 'greek', 'japanese', 'mexican', 'korean', 'italian', 'southern_us', 'southern_us', 'italian', 'italian', 'korean', 'vietnamese', 'french', 'chinese', 'greek', 'japanese', 'filipino', 'indian', 'indian', 'southern_us', 'moroccan', 'italian', 'italian', 'southern_us', 'mexican', 'french', 'japanese', 'mexican', 'indian', 'southern_us', 'chinese', 'french', 'chinese', 'korean', 'french', 'italian', 'chinese', 'mexican', 'russian', 'italian', 'italian', 'southern_us', 'filipino', 'indian', 'jamaican', 'italian', 'mexican', 'thai', 'mexican', 'moroccan', 'irish', 'italian', 'french', 'spanish', 'mexican', 'indian', 'italian', 'southern_us', 'italian', 'southern_us', 'mexican', 'thai', 'italian', 'french', 'italian', 'indian', 'italian', 'southern_us', 'vietnamese', 'thai', 'french', 'greek', 'spanish', 'japanese', 'french', 'southern_us', 'thai', 'mexican', 'mexican', 'chinese', 'french', 'indian', 'italian', 'italian', 'southern_us', 'moroccan', 'russian', 'mexican', 'japanese', 'southern_us', 'moroccan', 'thai', 'indian', 'british', 'chinese', 'mexican', 'french', 'southern_us', 'indian', 'mexican', 'mexican', 'southern_us', 'southern_us', 'indian', 'indian', 'chinese', 'indian', 'chinese', 'italian', 'southern_us', 'greek', 'mexican', 'japanese', 'moroccan', 'thai', 'italian', 'southern_us', 'japanese', 'filipino', 'moroccan', 'italian', 'irish', 'mexican', 'southern_us', 'chinese', 'indian', 'mexican', 'indian', 'mexican', 'indian', 'southern_us', 'chinese', 'italian', 'italian', 'jamaican', 'jamaican', 'southern_us', 'japanese', 'italian', 'italian', 'vietnamese', 'mexican', 'italian', 'thai', 'mexican', 'irish', 'italian', 'mexican', 'southern_us', 'italian', 'jamaican', 'italian', 'southern_us', 'mexican', 'filipino', 'italian', 'moroccan', 'chinese', 'mexican', 'indian', 'mexican', 'greek', 'spanish', 'japanese', 'italian', 'italian', 'french', 'southern_us', 'chinese', 'southern_us', 'southern_us', 'southern_us', 'italian', 'french', 'mexican', 'mexican', 'irish', 'southern_us', 'mexican', 'moroccan', 'thai', 'cajun_creole', 'chinese', 'mexican', 'french', 'italian', 'japanese', 'southern_us', 'southern_us', 'southern_us', 'mexican', 'southern_us', 'vietnamese', 'italian', 'irish', 'southern_us', 'italian', 'british', 'italian', 'japanese', 'thai', 'chinese', 'italian', 'greek', 'moroccan', 'southern_us', 'italian', 'italian', 'thai', 'italian', 'italian', 'indian', 'mexican', 'italian', 'indian', 'japanese', 'french', 'cajun_creole', 'british', 'italian', 'southern_us', 'italian', 'cajun_creole', 'italian', 'french', 'indian', 'irish', 'italian', 'mexican', 'greek', 'italian', 'mexican', 'french', 'italian', 'spanish', 'irish', 'indian', 'italian', 'chinese', 'italian', 'french', 'italian', 'southern_us', 'italian', 'italian', 'chinese', 'french', 'mexican', 'southern_us', 'mexican', 'indian', 'southern_us', 'irish', 'southern_us', 'french', 'mexican', 'italian', 'french', 'thai', 'southern_us', 'mexican', 'mexican', 'indian', 'cajun_creole', 'thai', 'chinese', 'mexican', 'irish', 'italian', 'brazilian', 'irish', 'spanish', 'mexican', 'italian', 'chinese', 'chinese', 'southern_us', 'italian', 'mexican', 'mexican', 'italian', 'italian', 'mexican', 'cajun_creole', 'mexican', 'russian', 'korean', 'thai', 'italian', 'korean', 'chinese', 'moroccan', 'mexican', 'japanese', 'chinese', 'vietnamese', 'indian', 'indian', 'italian', 'japanese', 'russian', 'indian', 'italian', 'jamaican', 'cajun_creole', 'french', 'korean', 'chinese', 'mexican', 'chinese', 'british', 'italian', 'vietnamese', 'jamaican', 'italian', 'mexican', 'vietnamese', 'mexican', 'italian', 'french', 'mexican', 'korean', 'italian', 'indian', 'mexican', 'chinese', 'italian', 'brazilian', 'italian', 'italian', 'filipino', 'spanish', 'indian', 'southern_us', 'mexican', 'british', 'cajun_creole', 'thai', 'southern_us', 'chinese', 'italian', 'greek', 'thai', 'italian', 'southern_us', 'mexican', 'moroccan', 'mexican', 'mexican', 'italian', 'thai', 'mexican', 'vietnamese', 'mexican', 'chinese', 'moroccan', 'thai', 'french', 'mexican', 'italian', 'indian', 'mexican', 'chinese', 'british', 'french', 'italian', 'italian', 'southern_us', 'jamaican', 'italian', 'mexican', 'brazilian', 'mexican', 'italian', 'italian', 'vietnamese', 'italian', 'french', 'french', 'mexican', 'mexican', 'indian', 'indian', 'italian', 'moroccan', 'italian', 'mexican', 'filipino', 'southern_us', 'southern_us', 'filipino', 'italian', 'mexican', 'cajun_creole', 'southern_us', 'southern_us', 'jamaican', 'southern_us', 'filipino', 'chinese', 'greek', 'jamaican', 'italian', 'french', 'italian', 'irish', 'italian', 'indian', 'japanese', 'korean', 'italian', 'indian', 'chinese', 'moroccan', 'indian', 'mexican', 'southern_us', 'moroccan', 'french', 'irish', 'chinese', 'greek', 'italian', 'mexican', 'chinese', 'indian', 'southern_us', 'italian', 'filipino', 'irish', 'indian', 'mexican', 'italian', 'southern_us', 'mexican', 'mexican', 'french', 'southern_us', 'greek', 'mexican', 'korean', 'french', 'cajun_creole', 'vietnamese', 'italian', 'chinese', 'italian', 'greek', 'thai', 'french', 'cajun_creole', 'italian', 'french', 'southern_us', 'indian', 'french', 'chinese', 'mexican', 'italian', 'mexican', 'chinese', 'mexican', 'chinese', 'chinese', 'indian', 'chinese', 'mexican', 'southern_us', 'italian', 'mexican', 'southern_us', 'korean', 'italian', 'brazilian', 'mexican', 'mexican', 'italian', 'spanish', 'chinese', 'italian', 'japanese', 'southern_us', 'greek', 'vietnamese', 'japanese', 'italian', 'mexican', 'mexican', 'russian', 'italian', 'italian', 'italian', 'italian', 'indian', 'japanese', 'italian', 'japanese', 'mexican', 'italian', 'french', 'mexican', 'greek', 'jamaican', 'japanese', 'thai', 'indian', 'indian', 'mexican', 'indian', 'italian', 'italian', 'mexican', 'greek', 'korean', 'southern_us', 'italian', 'chinese', 'southern_us', 'thai', 'cajun_creole', 'southern_us', 'spanish', 'chinese', 'spanish', 'korean', 'japanese', 'indian', 'cajun_creole', 'japanese', 'italian', 'italian', 'southern_us', 'southern_us', 'vietnamese', 'brazilian', 'chinese', 'mexican', 'indian', 'indian', 'greek', 'mexican', 'mexican', 'thai', 'spanish', 'italian', 'japanese', 'mexican', 'southern_us', 'mexican', 'chinese', 'french', 'greek', 'indian', 'chinese', 'southern_us', 'brazilian', 'russian', 'italian', 'italian', 'mexican', 'chinese', 'japanese', 'cajun_creole', 'french', 'italian', 'italian', 'thai', 'french', 'mexican', 'jamaican', 'french', 'chinese', 'italian', 'spanish', 'cajun_creole', 'indian', 'vietnamese', 'mexican', 'italian', 'indian', 'irish', 'japanese', 'brazilian', 'french', 'jamaican', 'southern_us', 'indian', 'italian', 'french', 'italian', 'southern_us', 'japanese', 'italian', 'spanish', 'british', 'brazilian', 'cajun_creole', 'mexican', 'cajun_creole', 'mexican', 'japanese', 'spanish', 'chinese', 'japanese', 'southern_us', 'italian', 'italian', 'french', 'chinese', 'irish', 'greek', 'russian', 'southern_us', 'british', 'italian', 'italian', 'brazilian', 'italian', 'chinese', 'southern_us', 'southern_us', 'italian', 'southern_us', 'spanish', 'indian', 'mexican', 'southern_us', 'mexican', 'italian', 'indian', 'chinese', 'italian', 'italian', 'mexican', 'mexican', 'vietnamese', 'italian', 'indian', 'indian', 'jamaican', 'mexican', 'southern_us', 'italian', 'southern_us', 'italian', 'japanese', 'mexican', 'southern_us', 'spanish', 'moroccan', 'italian', 'korean', 'southern_us', 'french', 'british', 'southern_us', 'italian', 'cajun_creole', 'mexican', 'mexican', 'filipino', 'italian', 'filipino', 'moroccan', 'brazilian', 'jamaican', 'moroccan', 'french', 'mexican', 'mexican', 'korean', 'chinese', 'italian', 'greek', 'indian', 'southern_us', 'mexican', 'mexican', 'brazilian', 'italian', 'southern_us', 'mexican', 'southern_us', 'chinese', 'french', 'chinese', 'brazilian', 'brazilian', 'southern_us', 'jamaican', 'vietnamese', 'filipino', 'french', 'spanish', 'italian', 'chinese', 'italian', 'korean', 'indian', 'greek', 'indian', 'spanish', 'greek', 'southern_us', 'chinese', 'italian', 'italian', 'mexican', 'southern_us', 'italian', 'japanese', 'mexican', 'japanese', 'mexican', 'mexican', 'mexican', 'italian', 'french', 'irish', 'cajun_creole', 'italian', 'mexican', 'cajun_creole', 'southern_us', 'mexican', 'french', 'mexican', 'french', 'indian', 'italian', 'italian', 'vietnamese', 'thai', 'indian', 'chinese', 'cajun_creole', 'indian', 'spanish', 'southern_us', 'southern_us', 'italian', 'italian', 'italian', 'italian', 'japanese', 'mexican', 'indian', 'mexican', 'italian', 'southern_us', 'mexican', 'russian', 'filipino', 'indian', 'mexican', 'vietnamese', 'italian', 'irish', 'spanish', 'italian', 'mexican', 'cajun_creole', 'mexican', 'italian', 'vietnamese', 'mexican', 'irish', 'mexican', 'italian', 'french', 'italian', 'chinese', 'mexican', 'cajun_creole', 'mexican', 'southern_us', 'french', 'indian', 'southern_us', 'korean', 'indian', 'mexican', 'mexican', 'southern_us', 'filipino', 'indian', 'french', 'southern_us', 'indian', 'mexican', 'mexican', 'chinese', 'southern_us', 'indian', 'french', 'mexican', 'chinese', 'italian', 'japanese', 'french', 'italian', 'italian', 'mexican', 'southern_us', 'italian', 'mexican', 'vietnamese', 'greek', 'mexican', 'southern_us', 'vietnamese', 'cajun_creole', 'thai', 'southern_us', 'italian', 'italian', 'greek', 'mexican', 'italian', 'indian', 'irish', 'southern_us', 'mexican', 'mexican', 'indian', 'mexican', 'jamaican', 'mexican', 'italian', 'french', 'japanese', 'chinese', 'greek', 'cajun_creole', 'thai', 'vietnamese', 'japanese', 'jamaican', 'italian', 'italian', 'italian', 'mexican', 'italian', 'french', 'italian', 'thai', 'mexican', 'brazilian', 'cajun_creole', 'vietnamese', 'italian', 'italian', 'italian', 'chinese', 'moroccan', 'greek', 'mexican', 'italian', 'cajun_creole', 'mexican', 'italian', 'indian', 'italian', 'cajun_creole', 'indian', 'italian', 'greek', 'chinese', 'mexican', 'thai', 'russian', 'indian', 'italian', 'italian', 'italian', 'french', 'moroccan', 'vietnamese', 'filipino', 'thai', 'italian', 'mexican', 'indian', 'italian', 'indian', 'thai', 'mexican', 'indian', 'thai', 'italian', 'french', 'mexican', 'korean', 'southern_us', 'italian', 'thai', 'italian', 'cajun_creole', 'italian', 'japanese', 'italian', 'italian', 'french', 'french', 'italian', 'french', 'italian', 'italian', 'mexican', 'mexican', 'italian', 'indian', 'indian', 'southern_us', 'chinese', 'chinese', 'indian', 'mexican', 'moroccan', 'mexican', 'japanese', 'greek', 'southern_us', 'thai', 'thai', 'thai', 'filipino', 'mexican', 'italian', 'chinese', 'french', 'spanish', 'chinese', 'japanese', 'korean', 'mexican', 'mexican', 'mexican', 'italian', 'moroccan', 'cajun_creole', 'mexican', 'thai', 'southern_us', 'chinese', 'jamaican', 'italian', 'southern_us', 'chinese', 'italian', 'cajun_creole', 'chinese', 'french', 'brazilian', 'italian', 'southern_us', 'southern_us', 'french', 'italian', 'cajun_creole', 'mexican', 'italian', 'chinese', 'mexican', 'southern_us', 'french', 'mexican', 'italian', 'japanese', 'french', 'indian', 'southern_us', 'italian', 'thai', 'mexican', 'italian', 'french', 'brazilian', 'italian', 'mexican', 'italian', 'moroccan', 'indian', 'mexican', 'cajun_creole', 'italian', 'moroccan', 'mexican', 'cajun_creole', 'moroccan', 'southern_us', 'indian', 'russian', 'jamaican', 'cajun_creole', 'greek', 'french', 'indian', 'spanish', 'italian', 'southern_us', 'mexican', 'southern_us', 'british', 'indian', 'southern_us', 'indian', 'mexican', 'greek', 'southern_us', 'british', 'french', 'southern_us', 'southern_us', 'mexican', 'vietnamese', 'filipino', 'thai', 'mexican', 'spanish', 'chinese', 'irish', 'italian', 'italian', 'southern_us', 'japanese', 'cajun_creole', 'vietnamese', 'italian', 'french', 'italian', 'indian', 'italian', 'french', 'italian', 'mexican', 'mexican', 'mexican', 'italian', 'thai', 'cajun_creole', 'mexican', 'cajun_creole', 'vietnamese', 'thai', 'brazilian', 'spanish', 'irish', 'indian', 'indian', 'mexican', 'greek', 'spanish', 'mexican', 'indian', 'italian', 'french', 'mexican', 'french', 'italian', 'mexican', 'indian', 'mexican', 'french', 'british', 'japanese', 'southern_us', 'french', 'french', 'russian', 'mexican', 'cajun_creole', 'mexican', 'italian', 'irish', 'italian', 'mexican', 'italian', 'chinese', 'southern_us', 'filipino', 'italian', 'italian', 'filipino', 'italian', 'french', 'mexican', 'indian', 'thai', 'italian', 'cajun_creole', 'italian', 'mexican', 'british', 'italian', 'mexican', 'french', 'mexican', 'french', 'chinese', 'italian', 'southern_us', 'mexican', 'korean', 'southern_us', 'mexican', 'filipino', 'thai', 'mexican', 'japanese', 'chinese', 'italian', 'southern_us', 'chinese', 'chinese', 'italian', 'italian', 'mexican', 'mexican', 'italian', 'italian', 'greek', 'filipino', 'southern_us', 'french', 'italian', 'russian', 'chinese', 'mexican', 'vietnamese', 'mexican', 'indian', 'filipino', 'mexican', 'thai', 'mexican', 'french', 'chinese', 'southern_us', 'italian', 'jamaican', 'japanese', 'italian', 'thai', 'mexican', 'irish', 'indian', 'italian', 'french', 'filipino', 'chinese', 'indian', 'mexican', 'russian', 'spanish', 'spanish', 'italian', 'italian', 'mexican', 'moroccan', 'french', 'indian', 'french', 'indian', 'southern_us', 'japanese', 'italian', 'mexican', 'mexican', 'spanish', 'british', 'italian', 'mexican', 'indian', 'jamaican', 'french', 'southern_us', 'irish', 'british', 'jamaican', 'french', 'cajun_creole', 'chinese', 'southern_us', 'mexican', 'italian', 'cajun_creole', 'french', 'chinese', 'southern_us', 'italian', 'mexican', 'southern_us', 'spanish', 'japanese', 'italian', 'mexican', 'cajun_creole', 'italian', 'italian', 'japanese', 'mexican', 'italian', 'italian', 'mexican', 'southern_us', 'mexican', 'cajun_creole', 'indian', 'mexican', 'italian', 'french', 'vietnamese', 'indian', 'british', 'thai', 'british', 'italian', 'indian', 'indian', 'mexican', 'vietnamese', 'italian', 'chinese', 'mexican', 'mexican', 'italian', 'mexican', 'mexican', 'italian', 'irish', 'mexican', 'italian', 'moroccan', 'southern_us', 'thai', 'japanese', 'italian', 'southern_us', 'mexican', 'chinese', 'southern_us', 'french', 'cajun_creole', 'cajun_creole', 'thai', 'mexican', 'italian', 'chinese', 'indian', 'southern_us', 'italian', 'mexican', 'mexican', 'french', 'mexican', 'japanese', 'thai', 'french', 'italian', 'southern_us', 'mexican', 'greek', 'southern_us', 'moroccan', 'moroccan', 'thai', 'french', 'southern_us', 'greek', 'mexican', 'moroccan', 'italian', 'mexican', 'mexican', 'vietnamese', 'southern_us', 'chinese', 'french', 'filipino', 'korean', 'mexican', 'southern_us', 'southern_us', 'italian', 'italian', 'vietnamese', 'southern_us', 'italian', 'southern_us', 'southern_us', 'italian', 'mexican', 'cajun_creole', 'chinese', 'mexican', 'vietnamese', 'japanese', 'thai', 'chinese', 'french', 'japanese', 'italian', 'italian', 'indian', 'italian', 'indian', 'british', 'thai', 'thai', 'french', 'italian', 'southern_us', 'mexican', 'greek', 'italian', 'thai', 'mexican', 'korean', 'chinese', 'mexican', 'japanese', 'french', 'french', 'british', 'brazilian', 'mexican', 'chinese', 'italian', 'moroccan', 'italian', 'french', 'french', 'italian', 'southern_us', 'italian', 'italian', 'southern_us', 'british', 'mexican', 'mexican', 'italian', 'italian', 'indian', 'spanish', 'french', 'southern_us', 'thai', 'mexican', 'italian', 'mexican', 'chinese', 'french', 'italian', 'indian', 'indian', 'filipino', 'mexican', 'southern_us', 'mexican', 'moroccan', 'italian', 'italian', 'mexican', 'vietnamese', 'indian', 'greek', 'southern_us', 'italian', 'british', 'british', 'indian', 'cajun_creole', 'mexican', 'mexican', 'indian', 'moroccan', 'chinese', 'french', 'russian', 'indian', 'mexican', 'chinese', 'italian', 'southern_us', 'indian', 'moroccan', 'korean', 'french', 'irish', 'southern_us', 'italian', 'vietnamese', 'brazilian', 'filipino', 'mexican', 'italian', 'thai', 'spanish', 'british', 'russian', 'chinese', 'indian', 'moroccan', 'japanese', 'italian', 'mexican', 'jamaican', 'southern_us', 'southern_us', 'thai', 'italian', 'italian', 'spanish', 'british', 'chinese', 'italian', 'cajun_creole', 'filipino', 'mexican', 'mexican', 'greek', 'spanish', 'italian', 'chinese', 'italian', 'chinese', 'italian', 'indian', 'mexican', 'cajun_creole', 'italian', 'french', 'mexican', 'southern_us', 'mexican', 'southern_us', 'mexican', 'cajun_creole', 'mexican', 'southern_us', 'mexican', 'italian', 'thai', 'southern_us', 'mexican', 'italian', 'italian', 'southern_us', 'irish', 'filipino', 'indian', 'italian', 'japanese', 'moroccan', 'thai', 'mexican', 'italian', 'mexican', 'french', 'vietnamese', 'indian', 'southern_us', 'mexican', 'italian', 'french', 'southern_us', 'italian', 'mexican', 'italian', 'brazilian', 'japanese', 'cajun_creole', 'italian', 'italian', 'japanese', 'mexican', 'british', 'korean', 'italian', 'chinese', 'filipino', 'mexican', 'filipino', 'mexican', 'mexican', 'greek', 'chinese', 'italian', 'southern_us', 'japanese', 'vietnamese', 'cajun_creole', 'southern_us', 'japanese', 'italian', 'indian', 'thai', 'cajun_creole', 'italian', 'italian', 'moroccan', 'cajun_creole', 'mexican', 'filipino', 'thai', 'southern_us', 'vietnamese', 'southern_us', 'mexican', 'french', 'southern_us', 'chinese', 'mexican', 'italian', 'thai', 'southern_us', 'japanese', 'mexican', 'italian', 'mexican', 'italian', 'italian', 'indian', 'french', 'southern_us', 'italian', 'chinese', 'french', 'chinese', 'southern_us', 'korean', 'thai', 'mexican', 'greek', 'cajun_creole', 'southern_us', 'french', 'southern_us', 'thai', 'mexican', 'mexican', 'chinese', 'brazilian', 'chinese', 'korean', 'chinese', 'french', 'mexican', 'greek', 'cajun_creole', 'mexican', 'mexican', 'southern_us', 'southern_us', 'chinese', 'french', 'jamaican', 'filipino', 'italian', 'italian', 'mexican', 'italian', 'korean', 'greek', 'french', 'italian', 'italian', 'chinese', 'thai', 'italian', 'chinese', 'italian', 'southern_us', 'korean', 'mexican', 'spanish', 'southern_us', 'filipino', 'indian', 'italian', 'indian', 'spanish', 'southern_us', 'italian', 'indian', 'mexican', 'french', 'indian', 'greek', 'cajun_creole', 'italian', 'southern_us', 'french', 'southern_us', 'indian', 'thai', 'french', 'mexican', 'southern_us', 'mexican', 'irish', 'italian', 'mexican', 'southern_us', 'japanese', 'italian', 'mexican', 'russian', 'thai', 'mexican', 'mexican', 'indian', 'mexican', 'italian', 'italian', 'mexican', 'italian', 'mexican', 'italian', 'southern_us', 'mexican', 'japanese', 'italian', 'indian', 'thai', 'mexican', 'french', 'thai', 'mexican', 'moroccan', 'italian', 'southern_us', 'vietnamese', 'mexican', 'southern_us', 'thai', 'italian', 'filipino', 'mexican', 'cajun_creole', 'greek', 'italian', 'british', 'russian', 'french', 'indian', 'vietnamese', 'thai', 'italian', 'southern_us', 'filipino', 'french', 'japanese', 'moroccan', 'italian', 'italian', 'japanese', 'southern_us', 'italian', 'spanish', 'cajun_creole', 'italian', 'french', 'cajun_creole', 'indian', 'french', 'southern_us', 'mexican', 'moroccan', 'mexican', 'italian', 'southern_us', 'mexican', 'mexican', 'southern_us', 'mexican', 'southern_us', 'moroccan', 'italian', 'italian', 'chinese', 'jamaican', 'thai', 'italian', 'southern_us', 'italian', 'mexican', 'italian', 'french', 'vietnamese', 'chinese', 'italian', 'southern_us', 'cajun_creole', 'chinese', 'french', 'southern_us', 'filipino', 'spanish', 'thai', 'italian', 'southern_us', 'jamaican', 'italian', 'brazilian', 'indian', 'italian', 'japanese', 'mexican', 'italian', 'thai', 'italian', 'french', 'indian', 'italian', 'italian', 'mexican', 'indian', 'southern_us', 'italian', 'southern_us', 'mexican', 'mexican', 'thai', 'mexican', 'mexican', 'italian', 'vietnamese', 'mexican', 'indian', 'indian', 'thai', 'thai', 'cajun_creole', 'greek', 'mexican', 'greek', 'indian', 'greek', 'chinese', 'korean', 'indian', 'moroccan', 'korean', 'french', 'thai', 'jamaican', 'italian', 'indian', 'indian', 'filipino', 'cajun_creole', 'italian', 'thai', 'cajun_creole', 'mexican', 'indian', 'italian', 'mexican', 'spanish', 'french', 'southern_us', 'italian', 'italian', 'italian', 'italian', 'greek', 'mexican', 'chinese', 'japanese', 'french', 'mexican', 'indian', 'cajun_creole', 'southern_us', 'french', 'mexican', 'italian', 'greek', 'chinese', 'mexican', 'italian', 'southern_us', 'korean', 'italian', 'mexican', 'italian', 'mexican', 'mexican', 'mexican', 'italian', 'indian', 'southern_us', 'italian', 'french', 'spanish', 'mexican', 'spanish', 'mexican', 'russian', 'vietnamese', 'japanese', 'mexican', 'italian', 'greek', 'southern_us', 'british', 'greek', 'italian', 'mexican', 'chinese', 'italian', 'italian', 'italian', 'japanese', 'italian', 'mexican', 'japanese', 'chinese', 'mexican', 'italian', 'italian', 'jamaican', 'italian', 'french', 'spanish', 'chinese', 'japanese', 'italian', 'italian', 'moroccan', 'japanese', 'vietnamese', 'italian', 'southern_us', 'italian', 'greek', 'japanese', 'french', 'chinese', 'mexican', 'cajun_creole', 'southern_us', 'mexican', 'chinese', 'mexican', 'jamaican', 'italian', 'greek', 'italian', 'italian', 'british', 'korean', 'mexican', 'mexican', 'indian', 'italian', 'southern_us', 'indian', 'italian', 'southern_us', 'mexican', 'southern_us', 'italian', 'chinese', 'southern_us', 'mexican', 'italian', 'chinese', 'italian', 'italian', 'italian', 'jamaican', 'southern_us', 'thai', 'mexican', 'southern_us', 'southern_us', 'cajun_creole', 'mexican', 'indian', 'southern_us', 'french', 'mexican', 'southern_us', 'italian', 'southern_us', 'mexican', 'greek', 'italian', 'filipino', 'thai', 'japanese', 'mexican', 'chinese', 'chinese', 'cajun_creole', 'moroccan', 'italian', 'indian', 'indian', 'southern_us', 'russian', 'thai', 'mexican', 'southern_us', 'french', 'indian', 'italian', 'mexican', 'british', 'japanese', 'thai', 'mexican', 'mexican', 'jamaican', 'japanese', 'italian', 'vietnamese', 'spanish', 'vietnamese', 'french', 'italian', 'filipino', 'italian', 'southern_us', 'mexican', 'japanese', 'italian', 'jamaican', 'mexican', 'italian', 'thai', 'indian', 'mexican', 'mexican', 'italian', 'thai', 'french', 'mexican', 'mexican', 'italian', 'southern_us', 'moroccan', 'italian', 'southern_us', 'jamaican', 'vietnamese', 'filipino', 'jamaican', 'indian', 'italian', 'french', 'japanese', 'mexican', 'mexican', 'moroccan', 'mexican', 'japanese', 'cajun_creole', 'southern_us', 'italian', 'mexican', 'chinese', 'irish', 'mexican', 'indian', 'italian', 'jamaican', 'italian', 'indian', 'french', 'vietnamese', 'french', 'indian', 'moroccan', 'vietnamese', 'chinese', 'mexican', 'greek', 'italian', 'italian', 'southern_us', 'italian', 'italian', 'italian', 'southern_us', 'italian', 'moroccan', 'vietnamese', 'southern_us', 'indian', 'japanese', 'mexican', 'japanese', 'indian', 'french', 'mexican', 'irish', 'french', 'french', 'mexican', 'mexican', 'british', 'mexican', 'korean', 'japanese', 'italian', 'spanish', 'irish', 'italian', 'vietnamese', 'russian', 'cajun_creole', 'italian', 'southern_us', 'thai', 'chinese', 'french', 'mexican', 'french', 'italian', 'italian', 'italian', 'italian', 'thai', 'southern_us', 'mexican', 'mexican', 'italian', 'french', 'italian', 'jamaican', 'indian', 'italian', 'southern_us', 'indian', 'thai', 'indian', 'southern_us', 'french', 'southern_us', 'mexican', 'southern_us', 'russian', 'korean', 'british', 'russian', 'italian', 'moroccan', 'italian', 'irish', 'italian', 'spanish', 'greek', 'italian', 'mexican', 'italian', 'southern_us', 'thai', 'french', 'indian', 'southern_us', 'southern_us', 'indian', 'southern_us', 'southern_us', 'mexican', 'southern_us', 'cajun_creole', 'japanese', 'italian', 'italian', 'italian', 'mexican', 'italian', 'italian', 'italian', 'indian', 'mexican', 'southern_us', 'mexican', 'indian', 'brazilian', 'british', 'korean', 'italian', 'chinese', 'southern_us', 'italian', 'italian', 'spanish', 'korean', 'indian', 'italian', 'mexican', 'british', 'mexican', 'italian', 'spanish', 'mexican', 'italian', 'mexican', 'mexican', 'italian', 'chinese', 'italian', 'indian', 'vietnamese', 'italian', 'french', 'irish', 'british', 'southern_us', 'british', 'vietnamese', 'mexican', 'mexican', 'cajun_creole', 'thai', 'mexican', 'southern_us', 'japanese', 'italian', 'french', 'british', 'moroccan', 'mexican', 'mexican', 'greek', 'mexican', 'korean', 'mexican', 'mexican', 'moroccan', 'japanese', 'southern_us', 'italian', 'korean', 'french', 'greek', 'chinese', 'french', 'italian', 'italian', 'italian', 'vietnamese', 'korean', 'italian', 'moroccan', 'french', 'indian', 'mexican', 'british', 'italian', 'italian', 'indian', 'southern_us', 'thai', 'southern_us', 'cajun_creole', 'mexican', 'italian', 'mexican', 'korean', 'moroccan', 'italian', 'french', 'mexican', 'italian', 'southern_us', 'mexican', 'italian', 'russian', 'italian', 'mexican', 'chinese', 'mexican', 'italian', 'indian', 'greek', 'mexican', 'italian', 'southern_us', 'korean', 'chinese', 'mexican', 'french', 'indian', 'thai', 'greek', 'japanese', 'filipino', 'southern_us', 'chinese', 'filipino', 'filipino', 'indian', 'greek', 'french', 'mexican', 'cajun_creole', 'french', 'italian', 'mexican', 'italian', 'southern_us', 'cajun_creole', 'mexican', 'mexican', 'vietnamese', 'indian', 'cajun_creole', 'italian', 'italian', 'italian', 'chinese', 'italian', 'mexican', 'chinese', 'chinese', 'french', 'japanese', 'italian', 'italian', 'italian', 'spanish', 'filipino', 'vietnamese', 'french', 'southern_us', 'italian', 'greek', 'indian', 'southern_us', 'mexican', 'italian', 'thai', 'french', 'italian', 'moroccan', 'italian', 'italian', 'chinese', 'british', 'italian', 'southern_us', 'french', 'mexican', 'mexican', 'mexican', 'southern_us', 'cajun_creole', 'cajun_creole', 'italian', 'mexican', 'irish', 'mexican', 'korean', 'southern_us', 'southern_us', 'british', 'mexican', 'italian', 'japanese', 'italian', 'italian', 'french', 'irish', 'italian', 'cajun_creole', 'french', 'greek', 'japanese', 'filipino', 'italian', 'greek', 'chinese', 'chinese', 'thai', 'italian', 'filipino', 'greek', 'mexican', 'mexican', 'italian', 'japanese', 'british', 'greek', 'vietnamese', 'chinese', 'indian', 'filipino', 'cajun_creole', 'filipino', 'chinese', 'italian', 'southern_us', 'italian', 'japanese', 'greek', 'indian', 'southern_us', 'mexican', 'french', 'cajun_creole', 'irish', 'cajun_creole', 'greek', 'moroccan', 'italian', 'greek', 'russian', 'cajun_creole', 'cajun_creole', 'italian', 'french', 'italian', 'southern_us', 'indian', 'southern_us', 'mexican', 'french', 'italian', 'southern_us', 'southern_us', 'italian', 'indian', 'southern_us', 'italian', 'italian', 'thai', 'chinese', 'vietnamese', 'mexican', 'brazilian', 'indian', 'vietnamese', 'italian', 'vietnamese', 'mexican', 'southern_us', 'mexican', 'italian', 'italian', 'indian', 'jamaican', 'mexican', 'japanese']\n"
     ]
    }
   ],
   "source": [
    "#df3=pd.DataFrame({'id':y_test.index, 'cuisine':y_test.values})\n",
    "y_test2=[]\n",
    "y_test1=df5['cuisine'].tolist()\n",
    "for i in range(len(df3['cuisine'])):\n",
    "    y_test2.append(cuisine_map[str(df3['cuisine'][i])])\n",
    "print(y_test2)"
   ]
  },
  {
   "cell_type": "code",
   "execution_count": 155,
   "metadata": {},
   "outputs": [
    {
     "name": "stdout",
     "output_type": "stream",
     "text": [
      "['mexican', 'southern_us', 'italian', 'mexican', 'japanese', 'mexican', 'italian', 'indian', 'italian', 'moroccan', 'french', 'mexican', 'japanese', 'southern_us', 'italian', 'mexican', 'italian', 'japanese', 'indian', 'japanese', 'mexican', 'chinese', 'mexican', 'spanish', 'italian', 'greek', 'vietnamese', 'italian', 'thai', 'jamaican', 'italian', 'greek', 'cajun_creole', 'french', 'japanese', 'italian', 'cajun_creole', 'french', 'british', 'british', 'italian', 'italian', 'italian', 'irish', 'mexican', 'moroccan', 'indian', 'french', 'mexican', 'mexican', 'mexican', 'southern_us', 'mexican', 'southern_us', 'chinese', 'southern_us', 'mexican', 'japanese', 'greek', 'brazilian', 'southern_us', 'italian', 'indian', 'italian', 'chinese', 'mexican', 'vietnamese', 'french', 'jamaican', 'italian', 'mexican', 'italian', 'chinese', 'filipino', 'italian', 'chinese', 'indian', 'indian', 'italian', 'vietnamese', 'greek', 'greek', 'chinese', 'russian', 'italian', 'indian', 'mexican', 'filipino', 'italian', 'mexican', 'korean', 'italian', 'vietnamese', 'cajun_creole', 'mexican', 'southern_us', 'thai', 'southern_us', 'japanese', 'japanese', 'greek', 'mexican', 'italian', 'spanish', 'southern_us', 'spanish', 'french', 'filipino', 'mexican', 'french', 'chinese', 'mexican', 'korean', 'indian', 'italian', 'southern_us', 'southern_us', 'cajun_creole', 'mexican', 'moroccan', 'vietnamese', 'italian', 'southern_us', 'thai', 'mexican', 'cajun_creole', 'thai', 'southern_us', 'italian', 'indian', 'italian', 'southern_us', 'mexican', 'mexican', 'vietnamese', 'indian', 'greek', 'mexican', 'italian', 'southern_us', 'southern_us', 'brazilian', 'french', 'indian', 'korean', 'chinese', 'greek', 'italian', 'cajun_creole', 'italian', 'cajun_creole', 'mexican', 'italian', 'indian', 'french', 'japanese', 'italian', 'french', 'southern_us', 'cajun_creole', 'moroccan', 'italian', 'brazilian', 'french', 'italian', 'mexican', 'thai', 'british', 'italian', 'italian', 'jamaican', 'moroccan', 'cajun_creole', 'mexican', 'chinese', 'chinese', 'french', 'italian', 'mexican', 'french', 'irish', 'italian', 'cajun_creole', 'cajun_creole', 'italian', 'chinese', 'southern_us', 'vietnamese', 'filipino', 'mexican', 'vietnamese', 'mexican', 'southern_us', 'italian', 'italian', 'thai', 'chinese', 'italian', 'italian', 'jamaican', 'korean', 'brazilian', 'mexican', 'brazilian', 'mexican', 'italian', 'italian', 'spanish', 'greek', 'thai', 'italian', 'chinese', 'french', 'korean', 'japanese', 'french', 'korean', 'indian', 'spanish', 'chinese', 'mexican', 'jamaican', 'mexican', 'thai', 'irish', 'italian', 'french', 'italian', 'mexican', 'mexican', 'mexican', 'mexican', 'cajun_creole', 'southern_us', 'greek', 'cajun_creole', 'british', 'mexican', 'vietnamese', 'indian', 'jamaican', 'italian', 'southern_us', 'southern_us', 'vietnamese', 'italian', 'thai', 'mexican', 'japanese', 'southern_us', 'italian', 'greek', 'italian', 'japanese', 'italian', 'korean', 'italian', 'southern_us', 'mexican', 'southern_us', 'mexican', 'french', 'mexican', 'mexican', 'chinese', 'mexican', 'chinese', 'filipino', 'japanese', 'irish', 'italian', 'indian', 'indian', 'chinese', 'indian', 'italian', 'brazilian', 'italian', 'vietnamese', 'chinese', 'brazilian', 'italian', 'cajun_creole', 'indian', 'mexican', 'vietnamese', 'vietnamese', 'indian', 'indian', 'italian', 'mexican', 'korean', 'italian', 'southern_us', 'french', 'italian', 'southern_us', 'cajun_creole', 'italian', 'southern_us', 'italian', 'chinese', 'indian', 'mexican', 'chinese', 'mexican', 'indian', 'southern_us', 'thai', 'french', 'spanish', 'mexican', 'italian', 'french', 'filipino', 'jamaican', 'italian', 'mexican', 'greek', 'russian', 'southern_us', 'italian', 'japanese', 'italian', 'thai', 'thai', 'chinese', 'chinese', 'thai', 'french', 'italian', 'mexican', 'filipino', 'chinese', 'chinese', 'italian', 'mexican', 'mexican', 'vietnamese', 'mexican', 'brazilian', 'mexican', 'moroccan', 'brazilian', 'chinese', 'southern_us', 'italian', 'cajun_creole', 'chinese', 'mexican', 'chinese', 'mexican', 'british', 'korean', 'indian', 'moroccan', 'southern_us', 'southern_us', 'indian', 'southern_us', 'mexican', 'southern_us', 'mexican', 'southern_us', 'southern_us', 'italian', 'chinese', 'cajun_creole', 'mexican', 'thai', 'mexican', 'chinese', 'jamaican', 'thai', 'vietnamese', 'indian', 'cajun_creole', 'italian', 'southern_us', 'mexican', 'italian', 'southern_us', 'french', 'mexican', 'jamaican', 'chinese', 'southern_us', 'greek', 'chinese', 'chinese', 'filipino', 'brazilian', 'mexican', 'mexican', 'mexican', 'mexican', 'moroccan', 'italian', 'french', 'indian', 'mexican', 'indian', 'cajun_creole', 'chinese', 'indian', 'spanish', 'chinese', 'spanish', 'southern_us', 'japanese', 'italian', 'greek', 'italian', 'mexican', 'irish', 'mexican', 'indian', 'mexican', 'french', 'indian', 'italian', 'russian', 'indian', 'mexican', 'thai', 'indian', 'southern_us', 'chinese', 'italian', 'mexican', 'italian', 'mexican', 'italian', 'italian', 'filipino', 'japanese', 'filipino', 'italian', 'british', 'italian', 'italian', 'southern_us', 'british', 'thai', 'british', 'chinese', 'indian', 'mexican', 'italian', 'indian', 'mexican', 'french', 'french', 'southern_us', 'thai', 'indian', 'italian', 'chinese', 'italian', 'mexican', 'british', 'italian', 'italian', 'mexican', 'mexican', 'cajun_creole', 'mexican', 'indian', 'chinese', 'mexican', 'mexican', 'cajun_creole', 'japanese', 'mexican', 'italian', 'chinese', 'southern_us', 'mexican', 'indian', 'italian', 'italian', 'thai', 'southern_us', 'italian', 'mexican', 'italian', 'italian', 'chinese', 'southern_us', 'chinese', 'italian', 'mexican', 'southern_us', 'greek', 'jamaican', 'thai', 'southern_us', 'mexican', 'italian', 'vietnamese', 'japanese', 'italian', 'japanese', 'french', 'irish', 'mexican', 'italian', 'italian', 'thai', 'mexican', 'spanish', 'italian', 'korean', 'mexican', 'chinese', 'cajun_creole', 'chinese', 'mexican', 'indian', 'mexican', 'french', 'mexican', 'southern_us', 'italian', 'italian', 'mexican', 'french', 'mexican', 'southern_us', 'vietnamese', 'filipino', 'cajun_creole', 'chinese', 'mexican', 'indian', 'greek', 'moroccan', 'japanese', 'chinese', 'korean', 'thai', 'italian', 'irish', 'italian', 'chinese', 'korean', 'chinese', 'spanish', 'cajun_creole', 'french', 'greek', 'mexican', 'greek', 'mexican', 'greek', 'indian', 'mexican', 'mexican', 'indian', 'italian', 'british', 'italian', 'mexican', 'southern_us', 'italian', 'japanese', 'chinese', 'jamaican', 'french', 'italian', 'mexican', 'cajun_creole', 'italian', 'italian', 'korean', 'italian', 'filipino', 'japanese', 'moroccan', 'greek', 'southern_us', 'russian', 'italian', 'chinese', 'indian', 'southern_us', 'french', 'spanish', 'filipino', 'mexican', 'korean', 'indian', 'british', 'italian', 'chinese', 'mexican', 'mexican', 'french', 'southern_us', 'italian', 'thai', 'spanish', 'chinese', 'moroccan', 'italian', 'thai', 'chinese', 'cajun_creole', 'southern_us', 'italian', 'french', 'japanese', 'french', 'italian', 'mexican', 'jamaican', 'irish', 'spanish', 'spanish', 'southern_us', 'italian', 'korean', 'italian', 'italian', 'italian', 'italian', 'mexican', 'southern_us', 'southern_us', 'italian', 'british', 'southern_us', 'mexican', 'spanish', 'italian', 'mexican', 'spanish', 'southern_us', 'chinese', 'moroccan', 'italian', 'brazilian', 'mexican', 'irish', 'italian', 'filipino', 'mexican', 'indian', 'southern_us', 'thai', 'italian', 'chinese', 'indian', 'mexican', 'spanish', 'chinese', 'mexican', 'spanish', 'southern_us', 'southern_us', 'french', 'korean', 'japanese', 'mexican', 'indian', 'indian', 'indian', 'korean', 'indian', 'french', 'french', 'italian', 'italian', 'french', 'italian', 'southern_us', 'italian', 'chinese', 'mexican', 'italian', 'mexican', 'french', 'french', 'southern_us', 'mexican', 'italian', 'italian', 'thai', 'italian', 'moroccan', 'italian', 'vietnamese', 'chinese', 'thai', 'indian', 'indian', 'southern_us', 'mexican', 'mexican', 'vietnamese', 'italian', 'jamaican', 'indian', 'italian', 'southern_us', 'irish', 'french', 'italian', 'italian', 'french', 'spanish', 'italian', 'mexican', 'italian', 'mexican', 'italian', 'italian', 'indian', 'thai', 'cajun_creole', 'jamaican', 'italian', 'jamaican', 'mexican', 'french', 'mexican', 'mexican', 'italian', 'cajun_creole', 'italian', 'italian', 'chinese', 'mexican', 'french', 'moroccan', 'southern_us', 'mexican', 'italian', 'thai', 'italian', 'italian', 'italian', 'italian', 'mexican', 'vietnamese', 'italian', 'italian', 'thai', 'greek', 'indian', 'spanish', 'indian', 'jamaican', 'french', 'cajun_creole', 'irish', 'thai', 'chinese', 'japanese', 'italian', 'mexican', 'korean', 'italian', 'russian', 'moroccan', 'filipino', 'southern_us', 'southern_us', 'mexican', 'italian', 'southern_us', 'mexican', 'mexican', 'chinese', 'southern_us', 'indian', 'vietnamese', 'mexican', 'jamaican', 'irish', 'japanese', 'southern_us', 'mexican', 'chinese', 'vietnamese', 'mexican', 'italian', 'italian', 'southern_us', 'moroccan', 'indian', 'mexican', 'italian', 'italian', 'southern_us', 'italian', 'spanish', 'cajun_creole', 'southern_us', 'korean', 'indian', 'french', 'italian', 'mexican', 'french', 'italian', 'moroccan', 'french', 'italian', 'mexican', 'italian', 'filipino', 'italian', 'southern_us', 'french', 'indian', 'french', 'french', 'italian', 'mexican', 'italian', 'mexican', 'indian', 'french', 'mexican', 'chinese', 'italian', 'french', 'chinese', 'mexican', 'southern_us', 'indian', 'moroccan', 'southern_us', 'chinese', 'southern_us', 'cajun_creole', 'russian', 'french', 'irish', 'chinese', 'british', 'chinese', 'southern_us', 'italian', 'mexican', 'thai', 'italian', 'southern_us', 'southern_us', 'italian', 'southern_us', 'italian', 'jamaican', 'italian', 'chinese', 'mexican', 'japanese', 'chinese', 'italian', 'southern_us', 'japanese', 'italian', 'italian', 'southern_us', 'spanish', 'italian', 'thai', 'thai', 'southern_us', 'cajun_creole', 'french', 'southern_us', 'mexican', 'indian', 'french', 'indian', 'southern_us', 'irish', 'korean', 'southern_us', 'chinese', 'southern_us', 'southern_us', 'italian', 'italian', 'mexican', 'southern_us', 'chinese', 'french', 'mexican', 'italian', 'british', 'italian', 'irish', 'southern_us', 'indian', 'southern_us', 'indian', 'southern_us', 'french', 'italian', 'italian', 'mexican', 'indian', 'italian', 'moroccan', 'italian', 'italian', 'cajun_creole', 'southern_us', 'thai', 'french', 'moroccan', 'thai', 'thai', 'chinese', 'indian', 'cajun_creole', 'italian', 'chinese', 'mexican', 'mexican', 'moroccan', 'irish', 'chinese', 'italian', 'mexican', 'southern_us', 'indian', 'southern_us', 'thai', 'russian', 'thai', 'indian', 'spanish', 'vietnamese', 'italian', 'filipino', 'mexican', 'british', 'italian', 'italian', 'italian', 'italian', 'southern_us', 'irish', 'irish', 'spanish', 'vietnamese', 'southern_us', 'mexican', 'italian', 'greek', 'thai', 'mexican', 'french', 'cajun_creole', 'vietnamese', 'italian', 'british', 'southern_us', 'chinese', 'italian', 'filipino', 'french', 'indian', 'moroccan', 'italian', 'french', 'chinese', 'southern_us', 'french', 'cajun_creole', 'vietnamese', 'chinese', 'irish', 'thai', 'jamaican', 'italian', 'southern_us', 'italian', 'italian', 'southern_us', 'southern_us', 'southern_us', 'vietnamese', 'british', 'italian', 'jamaican', 'cajun_creole', 'mexican', 'cajun_creole', 'italian', 'spanish', 'chinese', 'french', 'spanish', 'southern_us', 'mexican', 'french', 'mexican', 'vietnamese', 'italian', 'italian', 'korean', 'indian', 'thai', 'southern_us', 'french', 'italian', 'russian', 'mexican', 'british', 'mexican', 'italian', 'mexican', 'southern_us', 'irish', 'irish', 'southern_us', 'mexican', 'mexican', 'thai', 'vietnamese', 'italian', 'southern_us', 'italian', 'mexican', 'indian', 'french', 'mexican', 'chinese', 'italian', 'vietnamese', 'chinese', 'jamaican', 'southern_us', 'indian', 'southern_us', 'greek', 'southern_us', 'indian', 'mexican', 'mexican', 'french', 'french', 'italian', 'korean', 'italian', 'british', 'southern_us', 'italian', 'mexican', 'french', 'mexican', 'indian', 'italian', 'chinese', 'greek', 'mexican', 'brazilian', 'italian', 'french', 'southern_us', 'french', 'italian', 'italian', 'spanish', 'mexican', 'cajun_creole', 'chinese', 'indian', 'italian', 'chinese', 'southern_us', 'jamaican', 'filipino', 'southern_us', 'mexican', 'italian', 'indian', 'chinese', 'french', 'cajun_creole', 'italian', 'japanese', 'vietnamese', 'french', 'indian', 'italian', 'korean', 'greek', 'southern_us', 'british', 'chinese', 'japanese', 'chinese', 'chinese', 'southern_us', 'indian', 'korean', 'chinese', 'french', 'mexican', 'mexican', 'french', 'mexican', 'korean', 'indian', 'indian', 'indian', 'mexican', 'french', 'cajun_creole', 'indian', 'chinese', 'mexican', 'italian', 'indian', 'southern_us', 'french', 'indian', 'italian', 'indian', 'mexican', 'italian', 'cajun_creole', 'mexican', 'italian', 'italian', 'moroccan', 'japanese', 'indian', 'mexican', 'chinese', 'italian', 'french', 'southern_us', 'mexican', 'italian', 'mexican', 'greek', 'indian', 'french', 'spanish', 'chinese', 'irish', 'french', 'mexican', 'irish', 'french', 'mexican', 'vietnamese', 'southern_us', 'jamaican', 'vietnamese', 'chinese', 'mexican', 'italian', 'mexican', 'chinese', 'italian', 'southern_us', 'italian', 'italian', 'italian', 'japanese', 'british', 'mexican', 'korean', 'russian', 'indian', 'italian', 'irish', 'mexican', 'italian', 'southern_us', 'korean', 'japanese', 'thai', 'indian', 'french', 'french', 'jamaican', 'indian', 'indian', 'italian', 'italian', 'mexican', 'indian', 'japanese', 'mexican', 'cajun_creole', 'mexican', 'chinese', 'southern_us', 'cajun_creole', 'indian', 'spanish', 'indian', 'italian', 'italian', 'greek', 'japanese', 'southern_us', 'mexican', 'mexican', 'moroccan', 'thai', 'thai', 'british', 'spanish', 'greek', 'thai', 'southern_us', 'indian', 'mexican', 'moroccan', 'thai', 'moroccan', 'chinese', 'french', 'mexican', 'italian', 'korean', 'filipino', 'chinese', 'spanish', 'southern_us', 'italian', 'mexican', 'french', 'indian', 'french', 'indian', 'chinese', 'russian', 'southern_us', 'italian', 'thai', 'thai', 'thai', 'french', 'mexican', 'japanese', 'spanish', 'mexican', 'british', 'mexican', 'mexican', 'indian', 'italian', 'mexican', 'southern_us', 'italian', 'french', 'spanish', 'italian', 'mexican', 'moroccan', 'mexican', 'french', 'mexican', 'southern_us', 'mexican', 'irish', 'vietnamese', 'italian', 'cajun_creole', 'greek', 'greek', 'french', 'italian', 'italian', 'southern_us', 'chinese', 'thai', 'italian', 'italian', 'cajun_creole', 'indian', 'greek', 'french', 'irish', 'filipino', 'mexican', 'chinese', 'italian', 'mexican', 'russian', 'italian', 'italian', 'mexican', 'moroccan', 'french', 'mexican', 'filipino', 'italian', 'french', 'spanish', 'french', 'mexican', 'southern_us', 'french', 'italian', 'mexican', 'mexican', 'moroccan', 'greek', 'mexican', 'italian', 'indian', 'spanish', 'mexican', 'chinese', 'southern_us', 'greek', 'southern_us', 'italian', 'thai', 'thai', 'indian', 'chinese', 'thai', 'indian', 'italian', 'japanese', 'irish', 'moroccan', 'italian', 'italian', 'japanese', 'chinese', 'southern_us', 'italian', 'italian', 'italian', 'italian', 'indian', 'moroccan', 'southern_us', 'southern_us', 'italian', 'british', 'southern_us', 'indian', 'italian', 'chinese', 'indian', 'southern_us', 'mexican', 'mexican', 'italian', 'southern_us', 'italian', 'mexican', 'indian', 'chinese', 'moroccan', 'indian', 'greek', 'italian', 'french', 'italian', 'italian', 'chinese', 'mexican', 'moroccan', 'mexican', 'italian', 'indian', 'italian', 'filipino', 'cajun_creole', 'southern_us', 'southern_us', 'irish', 'greek', 'russian', 'indian', 'japanese', 'spanish', 'chinese', 'indian', 'mexican', 'italian', 'vietnamese', 'southern_us', 'italian', 'indian', 'italian', 'italian', 'italian', 'mexican', 'mexican', 'indian', 'jamaican', 'spanish', 'french', 'russian', 'filipino', 'italian', 'jamaican', 'italian', 'mexican', 'mexican', 'mexican', 'indian', 'italian', 'mexican', 'chinese', 'mexican', 'italian', 'italian', 'french', 'indian', 'italian', 'mexican', 'indian', 'southern_us', 'irish', 'french', 'italian', 'mexican', 'mexican', 'indian', 'greek', 'italian', 'thai', 'korean', 'korean', 'indian', 'southern_us', 'french', 'chinese', 'japanese', 'indian', 'greek', 'mexican', 'indian', 'southern_us', 'japanese', 'italian', 'southern_us', 'mexican', 'thai', 'italian', 'greek', 'southern_us', 'indian', 'southern_us', 'italian', 'british', 'indian', 'mexican', 'indian', 'spanish', 'irish', 'indian', 'cajun_creole', 'irish', 'mexican', 'french', 'thai', 'japanese', 'mexican', 'british', 'russian', 'indian', 'cajun_creole', 'chinese', 'japanese', 'french', 'mexican', 'thai', 'british', 'indian', 'filipino', 'italian', 'southern_us', 'moroccan', 'italian', 'greek', 'brazilian', 'spanish', 'japanese', 'moroccan', 'indian', 'russian', 'italian', 'italian', 'italian', 'japanese', 'chinese', 'mexican', 'french', 'italian', 'thai', 'italian', 'filipino', 'italian', 'thai', 'indian', 'indian', 'jamaican', 'mexican', 'southern_us', 'indian', 'chinese', 'spanish', 'french', 'brazilian', 'thai', 'italian', 'jamaican', 'italian', 'korean', 'japanese', 'italian', 'indian', 'irish', 'korean', 'mexican', 'southern_us', 'mexican', 'indian', 'korean', 'brazilian', 'southern_us', 'french', 'greek', 'british', 'chinese', 'italian', 'italian', 'thai', 'indian', 'thai', 'mexican', 'cajun_creole', 'mexican', 'spanish', 'british', 'thai', 'greek', 'cajun_creole', 'mexican', 'greek', 'cajun_creole', 'italian', 'southern_us', 'chinese', 'thai', 'italian', 'mexican', 'indian', 'french', 'italian', 'french', 'mexican', 'italian', 'italian', 'russian', 'mexican', 'british', 'chinese', 'mexican', 'southern_us', 'mexican', 'greek', 'mexican', 'mexican', 'brazilian', 'mexican', 'italian', 'greek', 'mexican', 'french', 'chinese', 'chinese', 'french', 'moroccan', 'italian', 'italian', 'italian', 'chinese', 'vietnamese', 'french', 'indian', 'italian', 'chinese', 'italian', 'indian', 'mexican', 'italian', 'japanese', 'italian', 'cajun_creole', 'french', 'mexican', 'southern_us', 'french', 'greek', 'korean', 'cajun_creole', 'french', 'french', 'italian', 'mexican', 'vietnamese', 'mexican', 'french', 'russian', 'french', 'italian', 'mexican', 'thai', 'japanese', 'korean', 'korean', 'japanese', 'mexican', 'italian', 'mexican', 'italian', 'chinese', 'chinese', 'italian', 'cajun_creole', 'mexican', 'chinese', 'italian', 'greek', 'italian', 'french', 'mexican', 'italian', 'cajun_creole', 'thai', 'brazilian', 'mexican', 'greek', 'southern_us', 'mexican', 'thai', 'moroccan', 'greek', 'french', 'mexican', 'japanese', 'indian', 'jamaican', 'mexican', 'thai', 'korean', 'southern_us', 'mexican', 'italian', 'greek', 'southern_us', 'moroccan', 'italian', 'greek', 'russian', 'chinese', 'italian', 'british', 'italian', 'italian', 'chinese', 'southern_us', 'mexican', 'french', 'greek', 'mexican', 'italian', 'mexican', 'mexican', 'chinese', 'italian', 'indian', 'brazilian', 'italian', 'korean', 'mexican', 'southern_us', 'italian', 'southern_us', 'chinese', 'french', 'russian', 'chinese', 'southern_us', 'korean', 'italian', 'spanish', 'mexican', 'cajun_creole', 'italian', 'brazilian', 'mexican', 'mexican', 'cajun_creole', 'korean', 'southern_us', 'mexican', 'southern_us', 'mexican', 'italian', 'italian', 'japanese', 'british', 'moroccan', 'mexican', 'mexican', 'italian', 'italian', 'mexican', 'southern_us', 'mexican', 'mexican', 'french', 'italian', 'mexican', 'indian', 'chinese', 'italian', 'southern_us', 'greek', 'mexican', 'mexican', 'thai', 'moroccan', 'mexican', 'mexican', 'brazilian', 'italian', 'indian', 'indian', 'mexican', 'southern_us', 'mexican', 'italian', 'mexican', 'filipino', 'mexican', 'french', 'mexican', 'vietnamese', 'italian', 'southern_us', 'spanish', 'irish', 'italian', 'southern_us', 'french', 'mexican', 'indian', 'southern_us', 'italian', 'southern_us', 'chinese', 'jamaican', 'indian', 'korean', 'vietnamese', 'mexican', 'cajun_creole', 'italian', 'mexican', 'italian', 'indian', 'russian', 'french', 'russian', 'mexican', 'thai', 'southern_us', 'italian', 'russian', 'thai', 'italian', 'mexican', 'mexican', 'cajun_creole', 'japanese', 'vietnamese', 'italian', 'japanese', 'southern_us', 'italian', 'italian', 'mexican', 'french', 'indian', 'french', 'southern_us', 'chinese', 'vietnamese', 'irish', 'thai', 'mexican', 'italian', 'italian', 'spanish', 'italian', 'korean', 'italian', 'spanish', 'chinese', 'italian', 'chinese', 'irish', 'cajun_creole', 'french', 'french', 'irish', 'southern_us', 'southern_us', 'moroccan', 'spanish', 'vietnamese', 'mexican', 'southern_us', 'irish', 'irish', 'british', 'moroccan', 'indian', 'mexican', 'italian', 'italian', 'chinese', 'southern_us', 'mexican', 'italian', 'spanish', 'korean', 'spanish', 'italian', 'thai', 'vietnamese', 'korean', 'italian', 'vietnamese', 'chinese', 'italian', 'italian', 'indian', 'french', 'mexican', 'moroccan', 'italian', 'spanish', 'greek', 'irish', 'filipino', 'moroccan', 'mexican', 'italian', 'british', 'italian', 'russian', 'vietnamese', 'chinese', 'southern_us', 'southern_us', 'mexican', 'thai', 'southern_us', 'indian', 'indian', 'southern_us', 'southern_us', 'italian', 'moroccan', 'mexican', 'italian', 'italian', 'brazilian', 'mexican', 'filipino', 'spanish', 'southern_us', 'chinese', 'chinese', 'brazilian', 'indian', 'cajun_creole', 'russian', 'french', 'indian', 'italian', 'french', 'french', 'southern_us', 'mexican', 'italian', 'greek', 'southern_us', 'indian', 'cajun_creole', 'italian', 'british', 'southern_us', 'indian', 'italian', 'italian', 'moroccan', 'spanish', 'mexican', 'southern_us', 'jamaican', 'southern_us', 'thai', 'italian', 'indian', 'irish', 'italian', 'cajun_creole', 'mexican', 'french', 'french', 'italian', 'moroccan', 'french', 'italian', 'southern_us', 'indian', 'mexican', 'italian', 'italian', 'southern_us', 'italian', 'vietnamese', 'french', 'southern_us', 'indian', 'thai', 'mexican', 'cajun_creole', 'southern_us', 'japanese', 'southern_us', 'italian', 'southern_us', 'mexican', 'indian', 'southern_us', 'mexican', 'british', 'italian', 'mexican', 'mexican', 'korean', 'mexican', 'italian', 'italian', 'chinese', 'italian', 'british', 'greek', 'cajun_creole', 'mexican', 'french', 'filipino', 'vietnamese', 'vietnamese', 'italian', 'chinese', 'french', 'mexican', 'italian', 'cajun_creole', 'italian', 'italian', 'spanish', 'italian', 'french', 'indian', 'moroccan', 'southern_us', 'southern_us', 'french', 'greek', 'thai', 'mexican', 'italian', 'mexican', 'mexican', 'cajun_creole', 'italian', 'southern_us', 'indian', 'british', 'korean', 'italian', 'french', 'thai', 'southern_us', 'indian', 'mexican', 'mexican', 'japanese', 'french', 'mexican', 'indian', 'japanese', 'indian', 'italian', 'mexican', 'italian', 'filipino', 'italian', 'italian', 'moroccan', 'spanish', 'french', 'southern_us', 'italian', 'italian', 'cajun_creole', 'mexican', 'italian', 'russian', 'chinese', 'southern_us', 'mexican', 'indian', 'jamaican', 'southern_us', 'chinese', 'italian', 'italian', 'italian', 'mexican', 'italian', 'chinese', 'spanish', 'korean', 'spanish', 'italian', 'italian', 'mexican', 'southern_us', 'indian', 'filipino', 'indian', 'southern_us', 'chinese', 'southern_us', 'southern_us', 'mexican', 'cajun_creole', 'cajun_creole', 'korean', 'italian', 'italian', 'french', 'mexican', 'italian', 'mexican', 'thai', 'southern_us', 'cajun_creole', 'southern_us', 'mexican', 'mexican', 'indian', 'italian', 'mexican', 'chinese', 'indian', 'british', 'southern_us', 'greek', 'italian', 'irish', 'mexican', 'italian', 'italian', 'italian', 'french', 'chinese', 'japanese', 'indian', 'italian', 'filipino', 'mexican', 'filipino', 'southern_us', 'mexican', 'italian', 'french', 'mexican', 'greek', 'french', 'japanese', 'mexican', 'mexican', 'italian', 'indian', 'indian', 'chinese', 'thai', 'vietnamese', 'greek', 'spanish', 'italian', 'british', 'mexican', 'irish', 'filipino', 'filipino', 'russian', 'mexican', 'italian', 'british', 'irish', 'italian', 'southern_us', 'italian', 'russian', 'southern_us', 'italian', 'chinese', 'thai', 'french', 'mexican', 'spanish', 'southern_us', 'italian', 'mexican', 'irish', 'korean', 'indian', 'korean', 'filipino', 'japanese', 'italian', 'chinese', 'southern_us', 'french', 'british', 'british', 'brazilian', 'japanese', 'chinese', 'thai', 'mexican', 'southern_us', 'vietnamese', 'british', 'indian', 'thai', 'chinese', 'chinese', 'indian', 'italian', 'southern_us', 'vietnamese', 'vietnamese', 'cajun_creole', 'mexican', 'italian', 'chinese', 'greek', 'mexican', 'spanish', 'southern_us', 'mexican', 'italian', 'mexican', 'mexican', 'chinese', 'southern_us', 'mexican', 'chinese', 'spanish', 'mexican', 'italian', 'italian', 'moroccan', 'spanish', 'thai', 'southern_us', 'mexican', 'jamaican', 'mexican', 'italian', 'italian', 'french', 'italian', 'spanish', 'italian', 'japanese', 'mexican', 'cajun_creole', 'italian', 'italian', 'moroccan', 'french', 'southern_us', 'korean', 'moroccan', 'mexican', 'cajun_creole', 'mexican', 'indian', 'italian', 'chinese', 'french', 'japanese', 'greek', 'chinese', 'greek', 'irish', 'cajun_creole', 'indian', 'british', 'mexican', 'mexican', 'italian', 'filipino', 'indian', 'italian', 'italian', 'russian', 'italian', 'southern_us', 'southern_us', 'italian', 'italian', 'italian', 'moroccan', 'cajun_creole', 'moroccan', 'jamaican', 'italian', 'chinese', 'mexican', 'japanese', 'italian', 'mexican', 'chinese', 'southern_us', 'mexican', 'vietnamese', 'thai', 'mexican', 'italian', 'mexican', 'italian', 'italian', 'italian', 'italian', 'mexican', 'french', 'spanish', 'italian', 'filipino', 'italian', 'southern_us', 'southern_us', 'french', 'mexican', 'vietnamese', 'spanish', 'southern_us', 'italian', 'indian', 'filipino', 'mexican', 'mexican', 'southern_us', 'southern_us', 'italian', 'greek', 'southern_us', 'italian', 'italian', 'italian', 'indian', 'southern_us', 'french', 'french', 'chinese', 'mexican', 'spanish', 'italian', 'brazilian', 'italian', 'southern_us', 'chinese', 'mexican', 'italian', 'italian', 'mexican', 'italian', 'mexican', 'thai', 'southern_us', 'french', 'thai', 'brazilian', 'french', 'moroccan', 'indian', 'japanese', 'jamaican', 'french', 'mexican', 'southern_us', 'indian', 'moroccan', 'southern_us', 'thai', 'italian', 'italian', 'filipino', 'vietnamese', 'mexican', 'italian', 'indian', 'italian', 'indian', 'indian', 'southern_us', 'southern_us', 'mexican', 'thai', 'southern_us', 'mexican', 'mexican', 'spanish', 'moroccan', 'indian', 'moroccan', 'chinese', 'chinese', 'italian', 'brazilian', 'mexican', 'french', 'cajun_creole', 'cajun_creole', 'mexican', 'italian', 'moroccan', 'mexican', 'french', 'japanese', 'thai', 'mexican', 'french', 'italian', 'thai', 'mexican', 'mexican', 'french', 'chinese', 'cajun_creole', 'french', 'spanish', 'mexican', 'russian', 'korean', 'mexican', 'italian', 'british', 'mexican', 'southern_us', 'brazilian', 'italian', 'italian', 'mexican', 'mexican', 'thai', 'french', 'italian', 'italian', 'mexican', 'mexican', 'british', 'vietnamese', 'italian', 'mexican', 'thai', 'mexican', 'vietnamese', 'southern_us', 'mexican', 'southern_us', 'mexican', 'mexican', 'italian', 'italian', 'italian', 'filipino', 'southern_us', 'greek', 'mexican', 'southern_us', 'southern_us', 'french', 'french', 'cajun_creole', 'mexican', 'spanish', 'italian', 'mexican', 'italian', 'italian', 'indian', 'italian', 'indian', 'moroccan', 'british', 'indian', 'russian', 'cajun_creole', 'italian', 'indian', 'southern_us', 'italian', 'greek', 'french', 'brazilian', 'mexican', 'chinese', 'italian', 'vietnamese', 'french', 'thai', 'indian', 'spanish', 'chinese', 'southern_us', 'southern_us', 'mexican', 'vietnamese', 'mexican', 'mexican', 'russian', 'mexican', 'italian', 'mexican', 'japanese', 'italian', 'italian', 'cajun_creole', 'indian', 'russian', 'french', 'greek', 'southern_us', 'italian', 'indian', 'korean', 'indian', 'spanish', 'brazilian', 'italian', 'italian', 'spanish', 'chinese', 'mexican', 'italian', 'chinese', 'mexican', 'indian', 'southern_us', 'mexican', 'italian', 'japanese', 'italian', 'mexican', 'korean', 'british', 'french', 'moroccan', 'italian', 'italian', 'italian', 'southern_us', 'southern_us', 'chinese', 'korean', 'french', 'greek', 'spanish', 'italian', 'italian', 'mexican', 'irish', 'indian', 'british', 'mexican', 'korean', 'italian', 'thai', 'french', 'chinese', 'thai', 'greek', 'southern_us', 'mexican', 'italian', 'italian', 'indian', 'mexican', 'italian', 'mexican', 'irish', 'cajun_creole', 'japanese', 'chinese', 'mexican', 'thai', 'japanese', 'brazilian', 'french', 'indian', 'indian', 'mexican', 'mexican', 'southern_us', 'italian', 'italian', 'mexican', 'thai', 'italian', 'brazilian', 'mexican', 'indian', 'southern_us', 'greek', 'thai', 'mexican', 'indian', 'thai', 'chinese', 'italian', 'spanish', 'mexican', 'vietnamese', 'mexican', 'mexican', 'southern_us', 'italian', 'italian', 'cajun_creole', 'mexican', 'chinese', 'italian', 'southern_us', 'korean', 'southern_us', 'italian', 'italian', 'southern_us', 'filipino', 'southern_us', 'british', 'chinese', 'cajun_creole', 'mexican', 'indian', 'korean', 'chinese', 'thai', 'italian', 'cajun_creole', 'italian', 'cajun_creole', 'southern_us', 'french', 'japanese', 'mexican', 'japanese', 'greek', 'italian', 'moroccan', 'italian', 'thai', 'french', 'vietnamese', 'indian', 'chinese', 'indian', 'italian', 'mexican', 'southern_us', 'spanish', 'cajun_creole', 'mexican', 'thai', 'southern_us', 'southern_us', 'italian', 'indian', 'jamaican', 'italian', 'vietnamese', 'indian', 'mexican', 'italian', 'mexican', 'chinese', 'chinese', 'mexican', 'cajun_creole', 'southern_us', 'mexican', 'cajun_creole', 'chinese', 'thai', 'italian', 'chinese', 'moroccan', 'mexican', 'mexican', 'mexican', 'vietnamese', 'greek', 'italian', 'mexican', 'indian', 'irish', 'italian', 'southern_us', 'greek', 'french', 'southern_us', 'vietnamese', 'southern_us', 'italian', 'thai', 'italian', 'japanese', 'indian', 'southern_us', 'greek', 'japanese', 'southern_us', 'italian', 'italian', 'italian', 'vietnamese', 'chinese', 'italian', 'southern_us', 'mexican', 'mexican', 'thai', 'italian', 'french', 'thai', 'southern_us', 'spanish', 'korean', 'french', 'filipino', 'cajun_creole', 'filipino', 'mexican', 'indian', 'cajun_creole', 'indian', 'chinese', 'thai', 'italian', 'cajun_creole', 'indian', 'italian', 'italian', 'japanese', 'italian', 'indian', 'chinese', 'moroccan', 'mexican', 'french', 'mexican', 'mexican', 'greek', 'vietnamese', 'cajun_creole', 'moroccan', 'southern_us', 'mexican', 'french', 'indian', 'mexican', 'southern_us', 'italian', 'indian', 'moroccan', 'southern_us', 'italian', 'indian', 'southern_us', 'brazilian', 'cajun_creole', 'italian', 'japanese', 'moroccan', 'moroccan', 'indian', 'mexican', 'french', 'italian', 'filipino', 'jamaican', 'indian', 'italian', 'russian', 'british', 'brazilian', 'thai', 'italian', 'southern_us', 'southern_us', 'spanish', 'indian', 'southern_us', 'vietnamese', 'southern_us', 'british', 'italian', 'italian', 'filipino', 'chinese', 'indian', 'japanese', 'greek', 'greek', 'southern_us', 'mexican', 'italian', 'mexican', 'french', 'italian', 'southern_us', 'indian', 'italian', 'italian', 'cajun_creole', 'vietnamese', 'chinese', 'mexican', 'italian', 'filipino', 'spanish', 'italian', 'irish', 'french', 'french', 'southern_us', 'indian', 'southern_us', 'italian', 'mexican', 'mexican', 'japanese', 'korean', 'cajun_creole', 'russian', 'indian', 'mexican', 'chinese', 'italian', 'indian', 'cajun_creole', 'korean', 'moroccan', 'thai', 'indian', 'french', 'mexican', 'japanese', 'southern_us', 'chinese', 'cajun_creole', 'italian', 'southern_us', 'jamaican', 'japanese', 'southern_us', 'italian', 'vietnamese', 'french', 'french', 'thai', 'southern_us', 'southern_us', 'mexican', 'italian', 'mexican', 'chinese', 'british', 'italian', 'thai', 'korean', 'italian', 'indian', 'jamaican', 'italian', 'british', 'southern_us', 'italian', 'indian', 'chinese', 'mexican', 'italian', 'italian', 'french', 'french', 'italian', 'italian', 'brazilian', 'italian', 'mexican', 'italian', 'italian', 'italian', 'spanish', 'thai', 'chinese', 'vietnamese', 'greek', 'italian', 'moroccan', 'filipino', 'chinese', 'chinese', 'greek', 'japanese', 'indian', 'thai', 'italian', 'southern_us', 'indian', 'cajun_creole', 'italian', 'mexican', 'vietnamese', 'italian', 'japanese', 'southern_us', 'brazilian', 'southern_us', 'italian', 'mexican', 'indian', 'mexican', 'mexican', 'mexican', 'indian', 'indian', 'italian', 'italian', 'italian', 'mexican', 'indian', 'southern_us', 'mexican', 'mexican', 'greek', 'brazilian', 'french', 'mexican', 'italian', 'mexican', 'cajun_creole', 'italian', 'chinese', 'indian', 'russian', 'french', 'italian', 'moroccan', 'italian', 'thai', 'italian', 'japanese', 'chinese', 'indian', 'southern_us', 'british', 'french', 'greek', 'chinese', 'jamaican', 'korean', 'mexican', 'chinese', 'mexican', 'italian', 'mexican', 'mexican', 'mexican', 'southern_us', 'mexican', 'indian', 'chinese', 'moroccan', 'italian', 'indian', 'russian', 'italian', 'mexican', 'british', 'italian', 'mexican', 'chinese', 'french', 'french', 'southern_us', 'italian', 'italian', 'thai', 'indian', 'japanese', 'italian', 'mexican', 'mexican', 'mexican', 'italian', 'korean', 'chinese', 'italian', 'mexican', 'mexican', 'southern_us', 'french', 'mexican', 'french', 'italian', 'french', 'british', 'mexican', 'italian', 'southern_us', 'southern_us', 'southern_us', 'indian', 'southern_us', 'cajun_creole', 'french', 'italian', 'japanese', 'italian', 'southern_us', 'indian', 'indian', 'mexican', 'cajun_creole', 'indian', 'greek', 'mexican', 'chinese', 'indian', 'southern_us', 'french', 'japanese', 'southern_us', 'chinese', 'spanish', 'mexican', 'mexican', 'mexican', 'mexican', 'indian', 'southern_us', 'irish', 'filipino', 'filipino', 'chinese', 'cajun_creole', 'moroccan', 'italian', 'japanese', 'southern_us', 'japanese', 'southern_us', 'italian', 'mexican', 'southern_us', 'indian', 'brazilian', 'irish', 'moroccan', 'jamaican', 'indian', 'japanese', 'mexican', 'mexican', 'british', 'thai', 'southern_us', 'spanish', 'spanish', 'vietnamese', 'korean', 'mexican', 'japanese', 'jamaican', 'italian', 'cajun_creole', 'cajun_creole', 'indian', 'southern_us', 'moroccan', 'italian', 'mexican', 'vietnamese', 'spanish', 'irish', 'japanese', 'greek', 'filipino', 'irish', 'southern_us', 'southern_us', 'greek', 'indian', 'chinese', 'thai', 'japanese', 'french', 'mexican', 'french', 'mexican', 'brazilian', 'southern_us', 'italian', 'thai', 'italian', 'filipino', 'italian', 'italian', 'spanish', 'chinese', 'mexican', 'italian', 'indian', 'japanese', 'jamaican', 'italian', 'italian', 'korean', 'indian', 'southern_us', 'mexican', 'italian', 'irish', 'indian', 'vietnamese', 'russian', 'indian', 'mexican', 'chinese', 'southern_us', 'mexican', 'french', 'indian', 'chinese', 'southern_us', 'moroccan', 'italian', 'southern_us', 'southern_us', 'filipino', 'italian', 'southern_us', 'korean', 'chinese', 'mexican', 'mexican', 'italian', 'chinese', 'greek', 'greek', 'italian', 'southern_us', 'mexican', 'indian', 'moroccan', 'italian', 'italian', 'mexican', 'italian', 'greek', 'southern_us', 'mexican', 'italian', 'mexican', 'mexican', 'italian', 'southern_us', 'southern_us', 'thai', 'vietnamese', 'jamaican', 'chinese', 'mexican', 'italian', 'southern_us', 'moroccan', 'southern_us', 'filipino', 'greek', 'southern_us', 'italian', 'mexican', 'british', 'southern_us', 'filipino', 'southern_us', 'italian', 'southern_us', 'cajun_creole', 'greek', 'thai', 'southern_us', 'irish', 'italian', 'cajun_creole', 'cajun_creole', 'greek', 'southern_us', 'indian', 'jamaican', 'cajun_creole', 'southern_us', 'southern_us', 'french', 'vietnamese', 'italian', 'thai', 'chinese', 'korean', 'mexican', 'korean', 'irish', 'indian', 'indian', 'southern_us', 'southern_us', 'vietnamese', 'southern_us', 'thai', 'japanese', 'chinese', 'italian', 'indian', 'italian', 'mexican', 'spanish', 'chinese', 'mexican', 'mexican', 'moroccan', 'southern_us', 'italian', 'mexican', 'italian', 'mexican', 'italian', 'korean', 'italian', 'chinese', 'cajun_creole', 'thai', 'mexican', 'italian', 'cajun_creole', 'greek', 'southern_us', 'greek', 'japanese', 'thai', 'jamaican', 'italian', 'british', 'british', 'indian', 'irish', 'british', 'mexican', 'italian', 'irish', 'mexican', 'chinese', 'mexican', 'cajun_creole', 'spanish', 'italian', 'indian', 'thai', 'indian', 'italian', 'thai', 'southern_us', 'chinese', 'italian', 'mexican', 'italian', 'korean', 'indian', 'indian', 'korean', 'mexican', 'mexican', 'greek', 'southern_us', 'italian', 'indian', 'french', 'italian', 'chinese', 'cajun_creole', 'spanish', 'mexican', 'southern_us', 'spanish', 'southern_us', 'greek', 'italian', 'italian', 'mexican', 'mexican', 'british', 'southern_us', 'indian', 'southern_us', 'filipino', 'chinese', 'moroccan', 'cajun_creole', 'thai', 'mexican', 'russian', 'mexican', 'korean', 'french', 'italian', 'italian', 'southern_us', 'french', 'thai', 'spanish', 'korean', 'thai', 'mexican', 'italian', 'korean', 'indian', 'italian', 'french', 'italian', 'irish', 'french', 'indian', 'chinese', 'filipino', 'southern_us', 'mexican', 'mexican', 'indian', 'irish', 'mexican', 'jamaican', 'southern_us', 'russian', 'vietnamese', 'thai', 'chinese', 'indian', 'brazilian', 'indian', 'southern_us', 'indian', 'jamaican', 'indian', 'italian', 'indian', 'chinese', 'brazilian', 'southern_us', 'italian', 'japanese', 'indian', 'spanish', 'vietnamese', 'cajun_creole', 'french', 'french', 'mexican', 'filipino', 'filipino', 'spanish', 'italian', 'indian', 'italian', 'cajun_creole', 'japanese', 'italian', 'chinese', 'thai', 'italian', 'southern_us', 'indian', 'moroccan', 'mexican', 'mexican', 'mexican', 'jamaican', 'greek', 'filipino', 'indian', 'french', 'japanese', 'italian', 'mexican', 'mexican', 'french', 'southern_us', 'indian', 'italian', 'indian', 'chinese', 'mexican', 'thai', 'spanish', 'mexican', 'cajun_creole', 'southern_us', 'southern_us', 'italian', 'thai', 'greek', 'southern_us', 'chinese', 'mexican', 'korean', 'mexican', 'cajun_creole', 'greek', 'italian', 'korean', 'italian', 'italian', 'chinese', 'southern_us', 'irish', 'chinese', 'cajun_creole', 'mexican', 'vietnamese', 'italian', 'mexican', 'moroccan', 'indian', 'chinese', 'italian', 'indian', 'mexican', 'italian', 'mexican', 'chinese', 'thai', 'spanish', 'indian', 'italian', 'indian', 'korean', 'indian', 'moroccan', 'british', 'southern_us', 'thai', 'japanese', 'cajun_creole', 'chinese', 'indian', 'italian', 'chinese', 'italian', 'italian', 'southern_us', 'indian', 'indian', 'french', 'french', 'brazilian', 'british', 'southern_us', 'mexican', 'thai', 'mexican', 'mexican', 'southern_us', 'korean', 'chinese', 'italian', 'british', 'indian', 'indian', 'indian', 'japanese', 'southern_us', 'greek', 'southern_us', 'italian', 'french', 'italian', 'cajun_creole', 'french', 'chinese', 'indian', 'southern_us', 'southern_us', 'italian', 'italian', 'french', 'vietnamese', 'italian', 'indian', 'mexican', 'southern_us', 'southern_us', 'jamaican', 'mexican', 'chinese', 'mexican', 'japanese', 'southern_us', 'japanese', 'japanese', 'french', 'italian', 'italian', 'japanese', 'chinese', 'mexican', 'greek', 'mexican', 'italian', 'french', 'chinese', 'italian', 'southern_us', 'jamaican', 'jamaican', 'mexican', 'indian', 'irish', 'italian', 'southern_us', 'indian', 'southern_us', 'cajun_creole', 'indian', 'italian', 'italian', 'korean', 'italian', 'thai', 'mexican', 'french', 'southern_us', 'italian', 'chinese', 'italian', 'italian', 'italian', 'thai', 'southern_us', 'mexican', 'british', 'british', 'greek', 'indian', 'french', 'italian', 'mexican', 'italian', 'italian', 'french', 'french', 'chinese', 'thai', 'italian', 'mexican', 'italian', 'mexican', 'indian', 'french', 'japanese', 'mexican', 'thai', 'mexican', 'japanese', 'indian', 'japanese', 'greek', 'thai', 'italian', 'thai', 'mexican', 'irish', 'italian', 'indian', 'southern_us', 'mexican', 'mexican', 'southern_us', 'greek', 'italian', 'thai', 'italian', 'brazilian', 'mexican', 'southern_us', 'spanish', 'mexican', 'chinese', 'italian', 'irish', 'mexican', 'southern_us', 'italian', 'mexican', 'chinese', 'korean', 'cajun_creole', 'moroccan', 'spanish', 'italian', 'italian', 'italian', 'southern_us', 'mexican', 'french', 'irish', 'italian', 'mexican', 'thai', 'chinese', 'italian', 'greek', 'chinese', 'thai', 'french', 'italian', 'brazilian', 'southern_us', 'italian', 'brazilian', 'mexican', 'indian', 'cajun_creole', 'spanish', 'italian', 'italian', 'irish', 'french', 'mexican', 'mexican', 'korean', 'southern_us', 'mexican', 'italian', 'italian', 'italian', 'italian', 'chinese', 'british', 'southern_us', 'greek', 'greek', 'mexican', 'korean', 'italian', 'italian', 'french', 'brazilian', 'southern_us', 'mexican', 'indian', 'thai', 'french', 'french', 'french', 'french', 'mexican', 'mexican', 'korean', 'italian', 'italian', 'french', 'indian', 'italian', 'thai', 'mexican', 'italian', 'indian', 'italian', 'filipino', 'mexican', 'italian', 'mexican', 'italian', 'irish', 'mexican', 'italian', 'russian', 'vietnamese', 'british', 'chinese', 'chinese', 'mexican', 'mexican', 'southern_us', 'cajun_creole', 'chinese', 'southern_us', 'mexican', 'indian', 'mexican', 'japanese', 'japanese', 'mexican', 'italian', 'mexican', 'british', 'italian', 'mexican', 'italian', 'indian', 'korean', 'irish', 'greek', 'italian', 'indian', 'french', 'southern_us', 'southern_us', 'southern_us', 'italian', 'mexican', 'indian', 'southern_us', 'italian', 'southern_us', 'mexican', 'mexican', 'irish', 'italian', 'southern_us', 'thai', 'italian', 'cajun_creole', 'chinese', 'mexican', 'french', 'japanese', 'japanese', 'italian', 'jamaican', 'indian', 'italian', 'british', 'mexican', 'korean', 'southern_us', 'mexican', 'southern_us', 'chinese', 'southern_us', 'italian', 'thai', 'french', 'italian', 'italian', 'greek', 'vietnamese', 'japanese', 'italian', 'moroccan', 'moroccan', 'southern_us', 'italian', 'mexican', 'italian', 'italian', 'japanese', 'italian', 'mexican', 'mexican', 'filipino', 'italian', 'greek', 'italian', 'indian', 'greek', 'mexican', 'japanese', 'mexican', 'mexican', 'indian', 'chinese', 'italian', 'italian', 'italian', 'korean', 'indian', 'moroccan', 'southern_us', 'french', 'korean', 'mexican', 'italian', 'chinese', 'mexican', 'indian', 'mexican', 'chinese', 'italian', 'southern_us', 'mexican', 'southern_us', 'chinese', 'chinese', 'southern_us', 'indian', 'italian', 'mexican', 'thai', 'mexican', 'italian', 'southern_us', 'mexican', 'japanese', 'italian', 'italian', 'southern_us', 'british', 'chinese', 'thai', 'italian', 'italian', 'french', 'italian', 'southern_us', 'italian', 'british', 'mexican', 'italian', 'chinese', 'russian', 'mexican', 'filipino', 'southern_us', 'mexican', 'chinese', 'mexican', 'italian', 'japanese', 'southern_us', 'spanish', 'british', 'indian', 'french', 'british', 'southern_us', 'irish', 'italian', 'chinese', 'french', 'korean', 'korean', 'chinese', 'mexican', 'french', 'vietnamese', 'french', 'japanese', 'mexican', 'russian', 'cajun_creole', 'mexican', 'mexican', 'southern_us', 'italian', 'thai', 'irish', 'italian', 'japanese', 'southern_us', 'japanese', 'italian', 'italian', 'spanish', 'british', 'chinese', 'indian', 'french', 'mexican', 'irish', 'thai', 'indian', 'mexican', 'japanese', 'mexican', 'cajun_creole', 'french', 'french', 'mexican', 'italian', 'jamaican', 'mexican', 'thai', 'mexican', 'mexican', 'mexican', 'italian', 'filipino', 'southern_us', 'moroccan', 'mexican', 'italian', 'chinese', 'southern_us', 'italian', 'korean', 'chinese', 'italian', 'mexican', 'french', 'cajun_creole', 'mexican', 'southern_us', 'japanese', 'southern_us', 'southern_us', 'mexican', 'chinese', 'italian', 'moroccan', 'mexican', 'southern_us', 'cajun_creole', 'cajun_creole', 'mexican', 'italian', 'italian', 'irish', 'southern_us', 'vietnamese', 'indian', 'italian', 'thai', 'korean', 'japanese', 'british', 'southern_us', 'cajun_creole', 'mexican', 'cajun_creole', 'vietnamese', 'japanese', 'chinese', 'irish', 'italian', 'british', 'southern_us', 'moroccan', 'french', 'greek', 'british', 'mexican', 'french', 'southern_us', 'mexican', 'chinese', 'italian', 'mexican', 'french', 'thai', 'indian', 'southern_us', 'french', 'italian', 'british', 'italian', 'mexican', 'southern_us', 'british', 'italian', 'spanish', 'cajun_creole', 'french', 'russian', 'mexican', 'italian', 'spanish', 'southern_us', 'mexican', 'mexican', 'indian', 'japanese', 'mexican', 'italian', 'mexican', 'korean', 'indian', 'southern_us', 'spanish', 'southern_us', 'italian', 'thai', 'italian', 'french', 'mexican', 'greek', 'japanese', 'indian', 'italian', 'indian', 'cajun_creole', 'thai', 'french', 'italian', 'british', 'indian', 'moroccan', 'jamaican', 'french', 'chinese', 'italian', 'southern_us', 'italian', 'italian', 'mexican', 'italian', 'italian', 'italian', 'italian', 'indian', 'italian', 'french', 'filipino', 'mexican', 'spanish', 'chinese', 'southern_us', 'french', 'southern_us', 'cajun_creole', 'indian', 'irish', 'british', 'italian', 'japanese', 'spanish', 'french', 'indian', 'indian', 'mexican', 'southern_us', 'italian', 'greek', 'italian', 'mexican', 'british', 'japanese', 'thai', 'southern_us', 'cajun_creole', 'moroccan', 'vietnamese', 'greek', 'french', 'jamaican', 'mexican', 'italian', 'mexican', 'french', 'chinese', 'indian', 'korean', 'chinese', 'mexican', 'southern_us', 'mexican', 'italian', 'southern_us', 'korean', 'mexican', 'southern_us', 'thai', 'british', 'italian', 'french', 'chinese', 'russian', 'italian', 'chinese', 'french', 'italian', 'cajun_creole', 'southern_us', 'jamaican', 'greek', 'chinese', 'filipino', 'italian', 'italian', 'japanese', 'vietnamese', 'southern_us', 'southern_us', 'moroccan', 'french', 'italian', 'thai', 'indian', 'spanish', 'southern_us', 'italian', 'mexican', 'mexican', 'thai', 'japanese', 'french', 'vietnamese', 'thai', 'italian', 'mexican', 'italian', 'indian', 'italian', 'italian', 'spanish', 'southern_us', 'southern_us', 'mexican', 'cajun_creole', 'moroccan', 'french', 'korean', 'vietnamese', 'italian', 'indian', 'brazilian', 'southern_us', 'italian', 'italian', 'brazilian', 'cajun_creole', 'italian', 'mexican', 'chinese', 'italian', 'japanese', 'cajun_creole', 'filipino', 'mexican', 'irish', 'korean', 'italian', 'japanese', 'cajun_creole', 'thai', 'cajun_creole', 'italian', 'southern_us', 'mexican', 'greek', 'italian', 'mexican', 'italian', 'indian', 'spanish', 'chinese', 'cajun_creole', 'southern_us', 'mexican', 'italian', 'italian', 'french', 'mexican', 'southern_us', 'chinese', 'thai', 'chinese', 'russian', 'jamaican', 'mexican', 'italian', 'southern_us', 'moroccan', 'italian', 'italian', 'greek', 'mexican', 'italian', 'cajun_creole', 'southern_us', 'mexican', 'thai', 'thai', 'chinese', 'cajun_creole', 'chinese', 'mexican', 'british', 'mexican', 'mexican', 'british', 'indian', 'chinese', 'jamaican', 'british', 'italian', 'french', 'mexican', 'italian', 'greek', 'italian', 'moroccan', 'cajun_creole', 'moroccan', 'chinese', 'chinese', 'moroccan', 'italian', 'southern_us', 'mexican', 'southern_us', 'mexican', 'italian', 'italian', 'mexican', 'italian', 'italian', 'southern_us', 'italian', 'italian', 'southern_us', 'italian', 'japanese', 'mexican', 'french', 'thai', 'japanese', 'vietnamese', 'spanish', 'indian', 'italian', 'italian', 'indian', 'greek', 'vietnamese', 'indian', 'chinese', 'mexican', 'mexican', 'indian', 'mexican', 'italian', 'mexican', 'mexican', 'vietnamese', 'italian', 'moroccan', 'italian', 'italian', 'mexican', 'british', 'british', 'british', 'french', 'mexican', 'cajun_creole', 'italian', 'british', 'greek', 'chinese', 'thai', 'southern_us', 'irish', 'italian', 'mexican', 'filipino', 'greek', 'italian', 'mexican', 'italian', 'italian', 'mexican', 'mexican', 'greek', 'chinese', 'spanish', 'mexican', 'chinese', 'italian', 'indian', 'italian', 'italian', 'irish', 'italian', 'french', 'vietnamese', 'indian', 'cajun_creole', 'indian', 'italian', 'italian', 'italian', 'korean', 'vietnamese', 'spanish', 'japanese', 'italian', 'french', 'mexican', 'french', 'chinese', 'indian', 'spanish', 'mexican', 'spanish', 'cajun_creole', 'spanish', 'mexican', 'korean', 'italian', 'italian', 'french', 'italian', 'indian', 'indian', 'italian', 'chinese', 'chinese', 'korean', 'southern_us', 'italian', 'italian', 'moroccan', 'italian', 'southern_us', 'french', 'mexican', 'brazilian', 'brazilian', 'cajun_creole', 'chinese', 'indian', 'southern_us', 'korean', 'southern_us', 'southern_us', 'japanese', 'moroccan', 'jamaican', 'japanese', 'japanese', 'mexican', 'italian', 'mexican', 'mexican', 'french', 'japanese', 'thai', 'indian', 'greek', 'italian', 'italian', 'cajun_creole', 'indian', 'italian', 'chinese', 'indian', 'indian', 'mexican', 'mexican', 'southern_us', 'southern_us', 'spanish', 'southern_us', 'mexican', 'southern_us', 'mexican', 'french', 'mexican', 'french', 'korean', 'italian', 'filipino', 'southern_us', 'mexican', 'southern_us', 'mexican', 'thai', 'chinese', 'southern_us', 'italian', 'indian', 'cajun_creole', 'chinese', 'italian', 'cajun_creole', 'mexican', 'mexican', 'italian', 'cajun_creole', 'moroccan', 'italian', 'greek', 'brazilian', 'italian', 'mexican', 'indian', 'italian', 'greek', 'southern_us', 'mexican', 'italian', 'moroccan', 'italian', 'cajun_creole', 'italian', 'mexican', 'italian', 'thai', 'italian', 'mexican', 'chinese', 'british', 'italian', 'russian', 'italian', 'southern_us', 'cajun_creole', 'mexican', 'brazilian', 'cajun_creole', 'southern_us', 'cajun_creole', 'mexican', 'french', 'indian', 'spanish', 'italian', 'chinese', 'italian', 'southern_us', 'mexican', 'cajun_creole', 'italian', 'italian', 'french', 'indian', 'chinese', 'italian', 'indian', 'french', 'french', 'mexican', 'korean', 'italian', 'french', 'french', 'spanish', 'vietnamese', 'brazilian', 'italian', 'southern_us', 'french', 'italian', 'indian', 'filipino', 'italian', 'japanese', 'mexican', 'italian', 'italian', 'southern_us', 'italian', 'mexican', 'italian', 'mexican', 'mexican', 'italian', 'british', 'italian', 'italian', 'southern_us', 'mexican', 'chinese', 'italian', 'chinese', 'southern_us', 'italian', 'thai', 'italian', 'greek', 'indian', 'japanese', 'cajun_creole', 'chinese', 'french', 'italian', 'french', 'japanese', 'irish', 'british', 'french', 'mexican', 'brazilian', 'irish', 'french', 'spanish', 'indian', 'indian', 'british', 'filipino', 'korean', 'indian', 'thai', 'thai', 'korean', 'italian', 'greek', 'japanese', 'mexican', 'italian', 'japanese', 'greek', 'chinese', 'italian', 'japanese', 'chinese', 'greek', 'japanese', 'indian', 'italian', 'mexican', 'french', 'korean', 'italian', 'korean', 'french', 'southern_us', 'chinese', 'italian', 'indian', 'southern_us', 'mexican', 'mexican', 'french', 'italian', 'jamaican', 'french', 'mexican', 'mexican', 'french', 'spanish', 'chinese', 'chinese', 'cajun_creole', 'mexican', 'thai', 'southern_us', 'chinese', 'korean', 'southern_us', 'french', 'spanish', 'irish', 'mexican', 'french', 'italian', 'italian', 'italian', 'italian', 'mexican', 'italian', 'mexican', 'moroccan', 'british', 'italian', 'british', 'spanish', 'italian', 'indian', 'greek', 'mexican', 'southern_us', 'korean', 'chinese', 'french', 'japanese', 'italian', 'cajun_creole', 'italian', 'italian', 'russian', 'italian', 'british', 'indian', 'mexican', 'mexican', 'italian', 'indian', 'italian', 'jamaican', 'brazilian', 'vietnamese', 'southern_us', 'italian', 'mexican', 'italian', 'mexican', 'french', 'southern_us', 'indian', 'italian', 'french', 'greek', 'chinese', 'southern_us', 'thai', 'french', 'japanese', 'thai', 'russian', 'french', 'southern_us', 'italian', 'jamaican', 'chinese', 'chinese', 'spanish', 'southern_us', 'french', 'italian', 'french', 'japanese', 'italian', 'brazilian', 'indian', 'french', 'mexican', 'mexican', 'greek', 'japanese', 'southern_us', 'mexican', 'indian', 'greek', 'vietnamese', 'italian', 'mexican', 'korean', 'indian', 'japanese', 'indian', 'filipino', 'greek', 'southern_us', 'chinese', 'vietnamese', 'thai', 'southern_us', 'mexican', 'italian', 'southern_us', 'mexican', 'indian', 'korean', 'vietnamese', 'italian', 'mexican', 'cajun_creole', 'italian', 'thai', 'russian', 'italian', 'korean', 'korean', 'spanish', 'indian', 'italian', 'southern_us', 'chinese', 'brazilian', 'french', 'mexican', 'irish', 'southern_us', 'italian', 'southern_us', 'southern_us', 'southern_us', 'moroccan', 'mexican', 'filipino', 'mexican', 'southern_us', 'mexican', 'chinese', 'mexican', 'indian', 'italian', 'thai', 'indian', 'italian', 'mexican', 'spanish', 'filipino', 'british', 'mexican', 'greek', 'thai', 'southern_us', 'mexican', 'mexican', 'russian', 'mexican', 'japanese', 'mexican', 'filipino', 'french', 'italian', 'italian', 'italian', 'southern_us', 'cajun_creole', 'southern_us', 'french', 'thai', 'mexican', 'southern_us', 'mexican', 'cajun_creole', 'italian', 'cajun_creole', 'vietnamese', 'greek', 'chinese', 'southern_us', 'mexican', 'southern_us', 'indian', 'italian', 'southern_us', 'southern_us', 'mexican', 'italian', 'southern_us', 'chinese', 'british', 'indian', 'italian', 'indian', 'mexican', 'italian', 'italian', 'mexican', 'mexican', 'mexican', 'jamaican', 'mexican', 'mexican', 'indian', 'mexican', 'korean', 'italian', 'mexican', 'cajun_creole', 'chinese', 'filipino', 'mexican', 'italian', 'italian', 'french', 'japanese', 'italian', 'spanish', 'italian', 'thai', 'mexican', 'mexican', 'southern_us', 'greek', 'indian', 'italian', 'italian', 'indian', 'italian', 'chinese', 'french', 'indian', 'mexican', 'southern_us', 'southern_us', 'greek', 'mexican', 'indian', 'chinese', 'japanese', 'russian', 'southern_us', 'thai', 'french', 'mexican', 'italian', 'southern_us', 'greek', 'southern_us', 'spanish', 'thai', 'italian', 'irish', 'southern_us', 'italian', 'italian', 'korean', 'british', 'mexican', 'mexican', 'italian', 'russian', 'indian', 'chinese', 'mexican', 'italian', 'chinese', 'southern_us', 'italian', 'mexican', 'chinese', 'southern_us', 'filipino', 'cajun_creole', 'french', 'french', 'cajun_creole', 'jamaican', 'mexican', 'chinese', 'italian', 'italian', 'southern_us', 'chinese', 'vietnamese', 'vietnamese', 'italian', 'chinese', 'chinese', 'spanish', 'japanese', 'greek', 'russian', 'italian', 'russian', 'british', 'moroccan', 'thai', 'filipino', 'thai', 'southern_us', 'mexican', 'british', 'southern_us', 'irish', 'italian', 'indian', 'italian', 'chinese', 'mexican', 'spanish', 'cajun_creole', 'southern_us', 'brazilian', 'mexican', 'southern_us', 'southern_us', 'mexican', 'vietnamese', 'indian', 'mexican', 'mexican', 'korean', 'french', 'spanish', 'mexican', 'southern_us', 'korean', 'spanish', 'indian', 'mexican', 'filipino', 'italian', 'mexican', 'korean', 'southern_us', 'greek', 'chinese', 'italian', 'italian', 'spanish', 'italian', 'mexican', 'italian', 'vietnamese', 'italian', 'mexican', 'spanish', 'jamaican', 'mexican', 'chinese', 'moroccan', 'mexican', 'italian', 'mexican', 'indian', 'southern_us', 'mexican', 'southern_us', 'italian', 'mexican', 'indian', 'southern_us', 'indian', 'spanish', 'indian', 'indian', 'italian', 'indian', 'japanese', 'chinese', 'mexican', 'mexican', 'southern_us', 'italian', 'italian', 'italian', 'chinese', 'korean', 'mexican', 'moroccan', 'cajun_creole', 'italian', 'french', 'greek', 'japanese', 'russian', 'french', 'mexican', 'korean', 'italian', 'italian', 'thai', 'cajun_creole', 'chinese', 'thai', 'chinese', 'indian', 'chinese', 'french', 'japanese', 'mexican', 'italian', 'chinese', 'italian', 'jamaican', 'irish', 'cajun_creole', 'italian', 'chinese', 'filipino', 'italian', 'southern_us', 'indian', 'italian', 'cajun_creole', 'southern_us', 'chinese', 'southern_us', 'thai', 'korean', 'indian', 'jamaican', 'jamaican', 'spanish', 'cajun_creole', 'southern_us', 'thai', 'british', 'french', 'korean', 'italian', 'british', 'italian', 'southern_us', 'mexican', 'italian', 'italian', 'mexican', 'mexican', 'greek', 'mexican', 'greek', 'greek', 'thai', 'mexican', 'spanish', 'chinese', 'italian', 'mexican', 'spanish', 'italian', 'italian', 'southern_us', 'italian', 'italian', 'thai', 'italian', 'italian', 'irish', 'mexican', 'cajun_creole', 'mexican', 'southern_us', 'mexican', 'southern_us', 'italian', 'french', 'southern_us', 'japanese', 'italian', 'french', 'mexican', 'italian', 'mexican', 'french', 'southern_us', 'moroccan', 'british', 'brazilian', 'filipino', 'southern_us', 'french', 'chinese', 'french', 'italian', 'mexican', 'jamaican', 'southern_us', 'chinese', 'moroccan', 'greek', 'greek', 'thai', 'indian', 'mexican', 'mexican', 'thai', 'irish', 'british', 'italian', 'greek', 'italian', 'french', 'indian', 'indian', 'southern_us', 'mexican', 'french', 'spanish', 'spanish', 'southern_us', 'spanish', 'italian', 'irish', 'french', 'italian', 'indian', 'korean', 'italian', 'mexican', 'mexican', 'korean', 'indian', 'filipino', 'italian', 'moroccan', 'greek', 'cajun_creole', 'japanese', 'mexican', 'french', 'french', 'japanese', 'chinese', 'chinese', 'cajun_creole', 'mexican', 'mexican', 'italian', 'mexican', 'french', 'mexican', 'chinese', 'italian', 'southern_us', 'indian', 'japanese', 'vietnamese', 'mexican', 'southern_us', 'jamaican', 'mexican', 'cajun_creole', 'mexican', 'japanese', 'chinese', 'mexican', 'italian', 'indian', 'japanese', 'mexican', 'italian', 'vietnamese', 'chinese', 'italian', 'mexican', 'italian', 'chinese', 'spanish', 'mexican', 'japanese', 'southern_us', 'southern_us', 'mexican', 'russian', 'italian', 'greek', 'mexican', 'japanese', 'southern_us', 'thai', 'indian', 'filipino', 'indian', 'southern_us', 'vietnamese', 'greek', 'spanish', 'cajun_creole', 'moroccan', 'mexican', 'indian', 'japanese', 'italian', 'mexican', 'indian', 'mexican', 'mexican', 'chinese', 'italian', 'french', 'southern_us', 'indian', 'irish', 'indian', 'indian', 'italian', 'japanese', 'moroccan', 'italian', 'southern_us', 'italian', 'korean', 'italian', 'thai', 'italian', 'chinese', 'british', 'spanish', 'mexican', 'french', 'southern_us', 'french', 'irish', 'southern_us', 'korean', 'mexican', 'southern_us', 'french', 'southern_us', 'mexican', 'greek', 'korean', 'southern_us', 'italian', 'brazilian', 'chinese', 'thai', 'italian', 'southern_us', 'spanish', 'italian', 'chinese', 'mexican', 'mexican', 'southern_us', 'southern_us', 'cajun_creole', 'brazilian', 'southern_us', 'mexican', 'italian', 'french', 'russian', 'italian', 'mexican', 'thai', 'korean', 'italian', 'greek', 'spanish', 'japanese', 'italian', 'italian', 'italian', 'italian', 'filipino', 'spanish', 'italian', 'mexican', 'italian', 'mexican', 'southern_us', 'vietnamese', 'italian', 'indian', 'indian', 'mexican', 'indian', 'southern_us', 'chinese', 'french', 'vietnamese', 'cajun_creole', 'mexican', 'mexican', 'french', 'mexican', 'jamaican', 'vietnamese', 'italian', 'japanese', 'southern_us', 'british', 'southern_us', 'brazilian', 'indian', 'indian', 'italian', 'chinese', 'indian', 'vietnamese', 'southern_us', 'french', 'mexican', 'southern_us', 'thai', 'mexican', 'indian', 'mexican', 'italian', 'mexican', 'italian', 'italian', 'chinese', 'cajun_creole', 'moroccan', 'southern_us', 'italian', 'indian', 'southern_us', 'mexican', 'thai', 'italian', 'italian', 'french', 'cajun_creole', 'vietnamese', 'mexican', 'irish', 'mexican', 'southern_us', 'japanese', 'italian', 'french', 'mexican', 'southern_us', 'korean', 'vietnamese', 'mexican', 'japanese', 'brazilian', 'italian', 'cajun_creole', 'indian', 'british', 'indian', 'mexican', 'moroccan', 'mexican', 'greek', 'mexican', 'mexican', 'italian', 'korean', 'italian', 'mexican', 'southern_us', 'cajun_creole', 'spanish', 'indian', 'mexican', 'spanish', 'filipino', 'french', 'chinese', 'spanish', 'indian', 'italian', 'mexican', 'irish', 'cajun_creole', 'italian', 'indian', 'mexican', 'chinese', 'southern_us', 'cajun_creole', 'thai', 'french', 'southern_us', 'mexican', 'mexican', 'chinese', 'mexican', 'italian', 'chinese', 'indian', 'southern_us', 'spanish', 'japanese', 'italian', 'french', 'italian', 'chinese', 'italian', 'italian', 'italian', 'french', 'mexican', 'mexican', 'southern_us', 'italian', 'southern_us', 'indian', 'vietnamese', 'chinese', 'korean', 'southern_us', 'italian', 'cajun_creole', 'vietnamese', 'southern_us', 'mexican', 'italian', 'french', 'chinese', 'southern_us', 'korean', 'chinese', 'chinese', 'french', 'indian', 'french', 'vietnamese', 'thai', 'chinese', 'mexican', 'greek', 'french', 'brazilian', 'mexican', 'mexican', 'italian', 'southern_us', 'filipino', 'indian', 'chinese', 'italian', 'vietnamese', 'korean', 'southern_us', 'mexican', 'indian', 'indian', 'italian', 'italian', 'chinese', 'filipino', 'british', 'mexican', 'jamaican', 'mexican', 'italian', 'italian', 'mexican', 'chinese', 'southern_us', 'thai', 'british', 'mexican', 'korean', 'italian', 'irish', 'mexican', 'southern_us', 'indian', 'mexican', 'moroccan', 'southern_us', 'filipino', 'chinese', 'spanish', 'italian', 'southern_us', 'french', 'french', 'british', 'indian', 'chinese', 'italian', 'vietnamese', 'japanese', 'filipino', 'chinese', 'mexican', 'french', 'italian', 'mexican', 'southern_us', 'mexican', 'chinese', 'southern_us', 'italian', 'italian', 'french', 'spanish', 'thai', 'italian', 'vietnamese', 'chinese', 'thai', 'japanese', 'mexican', 'korean', 'italian', 'french', 'greek', 'italian', 'southern_us', 'chinese', 'mexican', 'southern_us', 'mexican', 'korean', 'indian', 'mexican', 'southern_us', 'british', 'indian', 'italian', 'russian', 'japanese', 'spanish', 'greek', 'vietnamese', 'filipino', 'southern_us', 'italian', 'japanese', 'thai', 'italian', 'italian', 'italian', 'jamaican', 'british', 'cajun_creole', 'southern_us', 'french', 'italian', 'italian', 'southern_us', 'french', 'italian', 'southern_us', 'greek', 'jamaican', 'british', 'vietnamese', 'jamaican', 'southern_us', 'italian', 'italian', 'southern_us', 'mexican', 'thai', 'mexican', 'jamaican', 'indian', 'italian', 'indian', 'filipino', 'jamaican', 'southern_us', 'mexican', 'greek', 'italian', 'italian', 'italian', 'french', 'southern_us', 'chinese', 'italian', 'moroccan', 'mexican', 'italian', 'french', 'vietnamese', 'japanese', 'mexican', 'mexican', 'southern_us', 'southern_us', 'french', 'indian', 'korean', 'cajun_creole', 'italian', 'mexican', 'korean', 'irish', 'italian', 'british', 'french', 'mexican', 'korean', 'russian', 'japanese', 'spanish', 'cajun_creole', 'italian', 'mexican', 'southern_us', 'italian', 'greek', 'southern_us', 'french', 'indian', 'indian', 'filipino', 'chinese', 'italian', 'irish', 'mexican', 'southern_us', 'irish', 'chinese', 'thai', 'japanese', 'spanish', 'british', 'italian', 'italian', 'french', 'french', 'french', 'italian', 'indian', 'southern_us', 'indian', 'chinese', 'french', 'mexican', 'italian', 'vietnamese', 'mexican', 'japanese', 'british', 'irish', 'french', 'cajun_creole', 'mexican', 'indian', 'italian', 'italian', 'cajun_creole', 'cajun_creole', 'italian', 'chinese', 'southern_us', 'southern_us', 'southern_us', 'southern_us', 'italian', 'chinese', 'chinese', 'thai', 'southern_us', 'italian', 'italian', 'thai', 'french', 'southern_us', 'chinese', 'british', 'british', 'italian', 'mexican', 'italian', 'italian', 'british', 'korean', 'italian', 'indian', 'mexican', 'southern_us', 'italian', 'irish', 'mexican', 'french', 'british', 'italian', 'japanese', 'korean', 'southern_us', 'cajun_creole', 'cajun_creole', 'italian', 'filipino', 'mexican', 'italian', 'cajun_creole', 'italian', 'moroccan', 'indian', 'cajun_creole', 'spanish', 'chinese', 'southern_us', 'southern_us', 'chinese', 'chinese', 'mexican', 'italian', 'cajun_creole', 'irish', 'french', 'greek', 'british', 'thai', 'mexican', 'italian', 'cajun_creole', 'french', 'chinese', 'russian', 'french', 'mexican', 'british', 'thai', 'indian', 'italian', 'japanese', 'italian', 'mexican', 'japanese', 'greek', 'japanese', 'mexican', 'korean', 'italian', 'southern_us', 'southern_us', 'italian', 'italian', 'korean', 'vietnamese', 'french', 'chinese', 'greek', 'japanese', 'filipino', 'indian', 'indian', 'southern_us', 'moroccan', 'italian', 'italian', 'southern_us', 'mexican', 'french', 'japanese', 'mexican', 'indian', 'southern_us', 'chinese', 'french', 'chinese', 'korean', 'french', 'italian', 'chinese', 'mexican', 'russian', 'italian', 'italian', 'southern_us', 'filipino', 'indian', 'jamaican', 'italian', 'mexican', 'thai', 'mexican', 'moroccan', 'irish', 'italian', 'french', 'spanish', 'mexican', 'indian', 'italian', 'southern_us', 'italian', 'southern_us', 'mexican', 'thai', 'italian', 'french', 'italian', 'indian', 'italian', 'southern_us', 'vietnamese', 'thai', 'french', 'greek', 'spanish', 'japanese', 'french', 'southern_us', 'thai', 'mexican', 'mexican', 'chinese', 'french', 'indian', 'italian', 'italian', 'southern_us', 'moroccan', 'russian', 'mexican', 'japanese', 'southern_us', 'moroccan', 'thai', 'indian', 'british', 'chinese', 'mexican', 'french', 'southern_us', 'indian', 'mexican', 'mexican', 'southern_us', 'southern_us', 'indian', 'indian', 'chinese', 'indian', 'chinese', 'italian', 'southern_us', 'greek', 'mexican', 'japanese', 'moroccan', 'thai', 'italian', 'southern_us', 'japanese', 'filipino', 'moroccan', 'italian', 'irish', 'mexican', 'southern_us', 'chinese', 'indian', 'mexican', 'indian', 'mexican', 'indian', 'southern_us', 'chinese', 'italian', 'italian', 'jamaican', 'jamaican', 'southern_us', 'japanese', 'italian', 'italian', 'vietnamese', 'mexican', 'italian', 'thai', 'mexican', 'irish', 'italian', 'mexican', 'southern_us', 'italian', 'jamaican', 'italian', 'southern_us', 'mexican', 'filipino', 'italian', 'moroccan', 'chinese', 'mexican', 'indian', 'mexican', 'greek', 'spanish', 'japanese', 'italian', 'italian', 'french', 'southern_us', 'chinese', 'southern_us', 'southern_us', 'southern_us', 'italian', 'french', 'mexican', 'mexican', 'irish', 'southern_us', 'mexican', 'moroccan', 'thai', 'cajun_creole', 'chinese', 'mexican', 'french', 'italian', 'japanese', 'southern_us', 'southern_us', 'southern_us', 'mexican', 'southern_us', 'vietnamese', 'italian', 'irish', 'southern_us', 'italian', 'british', 'italian', 'japanese', 'thai', 'chinese', 'italian', 'greek', 'moroccan', 'southern_us', 'italian', 'italian', 'thai', 'italian', 'italian', 'indian', 'mexican', 'italian', 'indian', 'japanese', 'french', 'cajun_creole', 'british', 'italian', 'southern_us', 'italian', 'cajun_creole', 'italian', 'french', 'indian', 'irish', 'italian', 'mexican', 'greek', 'italian', 'mexican', 'french', 'italian', 'spanish', 'irish', 'indian', 'italian', 'chinese', 'italian', 'french', 'italian', 'southern_us', 'italian', 'italian', 'chinese', 'french', 'mexican', 'southern_us', 'mexican', 'indian', 'southern_us', 'irish', 'southern_us', 'french', 'mexican', 'italian', 'french', 'thai', 'southern_us', 'mexican', 'mexican', 'indian', 'cajun_creole', 'thai', 'chinese', 'mexican', 'irish', 'italian', 'brazilian', 'irish', 'spanish', 'mexican', 'italian', 'chinese', 'chinese', 'southern_us', 'italian', 'mexican', 'mexican', 'italian', 'italian', 'mexican', 'cajun_creole', 'mexican', 'russian', 'korean', 'thai', 'italian', 'korean', 'chinese', 'moroccan', 'mexican', 'japanese', 'chinese', 'vietnamese', 'indian', 'indian', 'italian', 'japanese', 'russian', 'indian', 'italian', 'jamaican', 'cajun_creole', 'french', 'korean', 'chinese', 'mexican', 'chinese', 'british', 'italian', 'vietnamese', 'jamaican', 'italian', 'mexican', 'vietnamese', 'mexican', 'italian', 'french', 'mexican', 'korean', 'italian', 'indian', 'mexican', 'chinese', 'italian', 'brazilian', 'italian', 'italian', 'filipino', 'spanish', 'indian', 'southern_us', 'mexican', 'british', 'cajun_creole', 'thai', 'southern_us', 'chinese', 'italian', 'greek', 'thai', 'italian', 'southern_us', 'mexican', 'moroccan', 'mexican', 'mexican', 'italian', 'thai', 'mexican', 'vietnamese', 'mexican', 'chinese', 'moroccan', 'thai', 'french', 'mexican', 'italian', 'indian', 'mexican', 'chinese', 'british', 'french', 'italian', 'italian', 'southern_us', 'jamaican', 'italian', 'mexican', 'brazilian', 'mexican', 'italian', 'italian', 'vietnamese', 'italian', 'french', 'french', 'mexican', 'mexican', 'indian', 'indian', 'italian', 'moroccan', 'italian', 'mexican', 'filipino', 'southern_us', 'southern_us', 'filipino', 'italian', 'mexican', 'cajun_creole', 'southern_us', 'southern_us', 'jamaican', 'southern_us', 'filipino', 'chinese', 'greek', 'jamaican', 'italian', 'french', 'italian', 'irish', 'italian', 'indian', 'japanese', 'korean', 'italian', 'indian', 'chinese', 'moroccan', 'indian', 'mexican', 'southern_us', 'moroccan', 'french', 'irish', 'chinese', 'greek', 'italian', 'mexican', 'chinese', 'indian', 'southern_us', 'italian', 'filipino', 'irish', 'indian', 'mexican', 'italian', 'southern_us', 'mexican', 'mexican', 'french', 'southern_us', 'greek', 'mexican', 'korean', 'french', 'cajun_creole', 'vietnamese', 'italian', 'chinese', 'italian', 'greek', 'thai', 'french', 'cajun_creole', 'italian', 'french', 'southern_us', 'indian', 'french', 'chinese', 'mexican', 'italian', 'mexican', 'chinese', 'mexican', 'chinese', 'chinese', 'indian', 'chinese', 'mexican', 'southern_us', 'italian', 'mexican', 'southern_us', 'korean', 'italian', 'brazilian', 'mexican', 'mexican', 'italian', 'spanish', 'chinese', 'italian', 'japanese', 'southern_us', 'greek', 'vietnamese', 'japanese', 'italian', 'mexican', 'mexican', 'russian', 'italian', 'italian', 'italian', 'italian', 'indian', 'japanese', 'italian', 'japanese', 'mexican', 'italian', 'french', 'mexican', 'greek', 'jamaican', 'japanese', 'thai', 'indian', 'indian', 'mexican', 'indian', 'italian', 'italian', 'mexican', 'greek', 'korean', 'southern_us', 'italian', 'chinese', 'southern_us', 'thai', 'cajun_creole', 'southern_us', 'spanish', 'chinese', 'spanish', 'korean', 'japanese', 'indian', 'cajun_creole', 'japanese', 'italian', 'italian', 'southern_us', 'southern_us', 'vietnamese', 'brazilian', 'chinese', 'mexican', 'indian', 'indian', 'greek', 'mexican', 'mexican', 'thai', 'spanish', 'italian', 'japanese', 'mexican', 'southern_us', 'mexican', 'chinese', 'french', 'greek', 'indian', 'chinese', 'southern_us', 'brazilian', 'russian', 'italian', 'italian', 'mexican', 'chinese', 'japanese', 'cajun_creole', 'french', 'italian', 'italian', 'thai', 'french', 'mexican', 'jamaican', 'french', 'chinese', 'italian', 'spanish', 'cajun_creole', 'indian', 'vietnamese', 'mexican', 'italian', 'indian', 'irish', 'japanese', 'brazilian', 'french', 'jamaican', 'southern_us', 'indian', 'italian', 'french', 'italian', 'southern_us', 'japanese', 'italian', 'spanish', 'british', 'brazilian', 'cajun_creole', 'mexican', 'cajun_creole', 'mexican', 'japanese', 'spanish', 'chinese', 'japanese', 'southern_us', 'italian', 'italian', 'french', 'chinese', 'irish', 'greek', 'russian', 'southern_us', 'british', 'italian', 'italian', 'brazilian', 'italian', 'chinese', 'southern_us', 'southern_us', 'italian', 'southern_us', 'spanish', 'indian', 'mexican', 'southern_us', 'mexican', 'italian', 'indian', 'chinese', 'italian', 'italian', 'mexican', 'mexican', 'vietnamese', 'italian', 'indian', 'indian', 'jamaican', 'mexican', 'southern_us', 'italian', 'southern_us', 'italian', 'japanese', 'mexican', 'southern_us', 'spanish', 'moroccan', 'italian', 'korean', 'southern_us', 'french', 'british', 'southern_us', 'italian', 'cajun_creole', 'mexican', 'mexican', 'filipino', 'italian', 'filipino', 'moroccan', 'brazilian', 'jamaican', 'moroccan', 'french', 'mexican', 'mexican', 'korean', 'chinese', 'italian', 'greek', 'indian', 'southern_us', 'mexican', 'mexican', 'brazilian', 'italian', 'southern_us', 'mexican', 'southern_us', 'chinese', 'french', 'chinese', 'brazilian', 'brazilian', 'southern_us', 'jamaican', 'vietnamese', 'filipino', 'french', 'spanish', 'italian', 'chinese', 'italian', 'korean', 'indian', 'greek', 'indian', 'spanish', 'greek', 'southern_us', 'chinese', 'italian', 'italian', 'mexican', 'southern_us', 'italian', 'japanese', 'mexican', 'japanese', 'mexican', 'mexican', 'mexican', 'italian', 'french', 'irish', 'cajun_creole', 'italian', 'mexican', 'cajun_creole', 'southern_us', 'mexican', 'french', 'mexican', 'french', 'indian', 'italian', 'italian', 'vietnamese', 'thai', 'indian', 'chinese', 'cajun_creole', 'indian', 'spanish', 'southern_us', 'southern_us', 'italian', 'italian', 'italian', 'italian', 'japanese', 'mexican', 'indian', 'mexican', 'italian', 'southern_us', 'mexican', 'russian', 'filipino', 'indian', 'mexican', 'vietnamese', 'italian', 'irish', 'spanish', 'italian', 'mexican', 'cajun_creole', 'mexican', 'italian', 'vietnamese', 'mexican', 'irish', 'mexican', 'italian', 'french', 'italian', 'chinese', 'mexican', 'cajun_creole', 'mexican', 'southern_us', 'french', 'indian', 'southern_us', 'korean', 'indian', 'mexican', 'mexican', 'southern_us', 'filipino', 'indian', 'french', 'southern_us', 'indian', 'mexican', 'mexican', 'chinese', 'southern_us', 'indian', 'french', 'mexican', 'chinese', 'italian', 'japanese', 'french', 'italian', 'italian', 'mexican', 'southern_us', 'italian', 'mexican', 'vietnamese', 'greek', 'mexican', 'southern_us', 'vietnamese', 'cajun_creole', 'thai', 'southern_us', 'italian', 'italian', 'greek', 'mexican', 'italian', 'indian', 'irish', 'southern_us', 'mexican', 'mexican', 'indian', 'mexican', 'jamaican', 'mexican', 'italian', 'french', 'japanese', 'chinese', 'greek', 'cajun_creole', 'thai', 'vietnamese', 'japanese', 'jamaican', 'italian', 'italian', 'italian', 'mexican', 'italian', 'french', 'italian', 'thai', 'mexican', 'brazilian', 'cajun_creole', 'vietnamese', 'italian', 'italian', 'italian', 'chinese', 'moroccan', 'greek', 'mexican', 'italian', 'cajun_creole', 'mexican', 'italian', 'indian', 'italian', 'cajun_creole', 'indian', 'italian', 'greek', 'chinese', 'mexican', 'thai', 'russian', 'indian', 'italian', 'italian', 'italian', 'french', 'moroccan', 'vietnamese', 'filipino', 'thai', 'italian', 'mexican', 'indian', 'italian', 'indian', 'thai', 'mexican', 'indian', 'thai', 'italian', 'french', 'mexican', 'korean', 'southern_us', 'italian', 'thai', 'italian', 'cajun_creole', 'italian', 'japanese', 'italian', 'italian', 'french', 'french', 'italian', 'french', 'italian', 'italian', 'mexican', 'mexican', 'italian', 'indian', 'indian', 'southern_us', 'chinese', 'chinese', 'indian', 'mexican', 'moroccan', 'mexican', 'japanese', 'greek', 'southern_us', 'thai', 'thai', 'thai', 'filipino', 'mexican', 'italian', 'chinese', 'french', 'spanish', 'chinese', 'japanese', 'korean', 'mexican', 'mexican', 'mexican', 'italian', 'moroccan', 'cajun_creole', 'mexican', 'thai', 'southern_us', 'chinese', 'jamaican', 'italian', 'southern_us', 'chinese', 'italian', 'cajun_creole', 'chinese', 'french', 'brazilian', 'italian', 'southern_us', 'southern_us', 'french', 'italian', 'cajun_creole', 'mexican', 'italian', 'chinese', 'mexican', 'southern_us', 'french', 'mexican', 'italian', 'japanese', 'french', 'indian', 'southern_us', 'italian', 'thai', 'mexican', 'italian', 'french', 'brazilian', 'italian', 'mexican', 'italian', 'moroccan', 'indian', 'mexican', 'cajun_creole', 'italian', 'moroccan', 'mexican', 'cajun_creole', 'moroccan', 'southern_us', 'indian', 'russian', 'jamaican', 'cajun_creole', 'greek', 'french', 'indian', 'spanish', 'italian', 'southern_us', 'mexican', 'southern_us', 'british', 'indian', 'southern_us', 'indian', 'mexican', 'greek', 'southern_us', 'british', 'french', 'southern_us', 'southern_us', 'mexican', 'vietnamese', 'filipino', 'thai', 'mexican', 'spanish', 'chinese', 'irish', 'italian', 'italian', 'southern_us', 'japanese', 'cajun_creole', 'vietnamese', 'italian', 'french', 'italian', 'indian', 'italian', 'french', 'italian', 'mexican', 'mexican', 'mexican', 'italian', 'thai', 'cajun_creole', 'mexican', 'cajun_creole', 'vietnamese', 'thai', 'brazilian', 'spanish', 'irish', 'indian', 'indian', 'mexican', 'greek', 'spanish', 'mexican', 'indian', 'italian', 'french', 'mexican', 'french', 'italian', 'mexican', 'indian', 'mexican', 'french', 'british', 'japanese', 'southern_us', 'french', 'french', 'russian', 'mexican', 'cajun_creole', 'mexican', 'italian', 'irish', 'italian', 'mexican', 'italian', 'chinese', 'southern_us', 'filipino', 'italian', 'italian', 'filipino', 'italian', 'french', 'mexican', 'indian', 'thai', 'italian', 'cajun_creole', 'italian', 'mexican', 'british', 'italian', 'mexican', 'french', 'mexican', 'french', 'chinese', 'italian', 'southern_us', 'mexican', 'korean', 'southern_us', 'mexican', 'filipino', 'thai', 'mexican', 'japanese', 'chinese', 'italian', 'southern_us', 'chinese', 'chinese', 'italian', 'italian', 'mexican', 'mexican', 'italian', 'italian', 'greek', 'filipino', 'southern_us', 'french', 'italian', 'russian', 'chinese', 'mexican', 'vietnamese', 'mexican', 'indian', 'filipino', 'mexican', 'thai', 'mexican', 'french', 'chinese', 'southern_us', 'italian', 'jamaican', 'japanese', 'italian', 'thai', 'mexican', 'irish', 'indian', 'italian', 'french', 'filipino', 'chinese', 'indian', 'mexican', 'russian', 'spanish', 'spanish', 'italian', 'italian', 'mexican', 'moroccan', 'french', 'indian', 'french', 'indian', 'southern_us', 'japanese', 'italian', 'mexican', 'mexican', 'spanish', 'british', 'italian', 'mexican', 'indian', 'jamaican', 'french', 'southern_us', 'irish', 'british', 'jamaican', 'french', 'cajun_creole', 'chinese', 'southern_us', 'mexican', 'italian', 'cajun_creole', 'french', 'chinese', 'southern_us', 'italian', 'mexican', 'southern_us', 'spanish', 'japanese', 'italian', 'mexican', 'cajun_creole', 'italian', 'italian', 'japanese', 'mexican', 'italian', 'italian', 'mexican', 'southern_us', 'mexican', 'cajun_creole', 'indian', 'mexican', 'italian', 'french', 'vietnamese', 'indian', 'british', 'thai', 'british', 'italian', 'indian', 'indian', 'mexican', 'vietnamese', 'italian', 'chinese', 'mexican', 'mexican', 'italian', 'mexican', 'mexican', 'italian', 'irish', 'mexican', 'italian', 'moroccan', 'southern_us', 'thai', 'japanese', 'italian', 'southern_us', 'mexican', 'chinese', 'southern_us', 'french', 'cajun_creole', 'cajun_creole', 'thai', 'mexican', 'italian', 'chinese', 'indian', 'southern_us', 'italian', 'mexican', 'mexican', 'french', 'mexican', 'japanese', 'thai', 'french', 'italian', 'southern_us', 'mexican', 'greek', 'southern_us', 'moroccan', 'moroccan', 'thai', 'french', 'southern_us', 'greek', 'mexican', 'moroccan', 'italian', 'mexican', 'mexican', 'vietnamese', 'southern_us', 'chinese', 'french', 'filipino', 'korean', 'mexican', 'southern_us', 'southern_us', 'italian', 'italian', 'vietnamese', 'southern_us', 'italian', 'southern_us', 'southern_us', 'italian', 'mexican', 'cajun_creole', 'chinese', 'mexican', 'vietnamese', 'japanese', 'thai', 'chinese', 'french', 'japanese', 'italian', 'italian', 'indian', 'italian', 'indian', 'british', 'thai', 'thai', 'french', 'italian', 'southern_us', 'mexican', 'greek', 'italian', 'thai', 'mexican', 'korean', 'chinese', 'mexican', 'japanese', 'french', 'french', 'british', 'brazilian', 'mexican', 'chinese', 'italian', 'moroccan', 'italian', 'french', 'french', 'italian', 'southern_us', 'italian', 'italian', 'southern_us', 'british', 'mexican', 'mexican', 'italian', 'italian', 'indian', 'spanish', 'french', 'southern_us', 'thai', 'mexican', 'italian', 'mexican', 'chinese', 'french', 'italian', 'indian', 'indian', 'filipino', 'mexican', 'southern_us', 'mexican', 'moroccan', 'italian', 'italian', 'mexican', 'vietnamese', 'indian', 'greek', 'southern_us', 'italian', 'british', 'british', 'indian', 'cajun_creole', 'mexican', 'mexican', 'indian', 'moroccan', 'chinese', 'french', 'russian', 'indian', 'mexican', 'chinese', 'italian', 'southern_us', 'indian', 'moroccan', 'korean', 'french', 'irish', 'southern_us', 'italian', 'vietnamese', 'brazilian', 'filipino', 'mexican', 'italian', 'thai', 'spanish', 'british', 'russian', 'chinese', 'indian', 'moroccan', 'japanese', 'italian', 'mexican', 'jamaican', 'southern_us', 'southern_us', 'thai', 'italian', 'italian', 'spanish', 'british', 'chinese', 'italian', 'cajun_creole', 'filipino', 'mexican', 'mexican', 'greek', 'spanish', 'italian', 'chinese', 'italian', 'chinese', 'italian', 'indian', 'mexican', 'cajun_creole', 'italian', 'french', 'mexican', 'southern_us', 'mexican', 'southern_us', 'mexican', 'cajun_creole', 'mexican', 'southern_us', 'mexican', 'italian', 'thai', 'southern_us', 'mexican', 'italian', 'italian', 'southern_us', 'irish', 'filipino', 'indian', 'italian', 'japanese', 'moroccan', 'thai', 'mexican', 'italian', 'mexican', 'french', 'vietnamese', 'indian', 'southern_us', 'mexican', 'italian', 'french', 'southern_us', 'italian', 'mexican', 'italian', 'brazilian', 'japanese', 'cajun_creole', 'italian', 'italian', 'japanese', 'mexican', 'british', 'korean', 'italian', 'chinese', 'filipino', 'mexican', 'filipino', 'mexican', 'mexican', 'greek', 'chinese', 'italian', 'southern_us', 'japanese', 'vietnamese', 'cajun_creole', 'southern_us', 'japanese', 'italian', 'indian', 'thai', 'cajun_creole', 'italian', 'italian', 'moroccan', 'cajun_creole', 'mexican', 'filipino', 'thai', 'southern_us', 'vietnamese', 'southern_us', 'mexican', 'french', 'southern_us', 'chinese', 'mexican', 'italian', 'thai', 'southern_us', 'japanese', 'mexican', 'italian', 'mexican', 'italian', 'italian', 'indian', 'french', 'southern_us', 'italian', 'chinese', 'french', 'chinese', 'southern_us', 'korean', 'thai', 'mexican', 'greek', 'cajun_creole', 'southern_us', 'french', 'southern_us', 'thai', 'mexican', 'mexican', 'chinese', 'brazilian', 'chinese', 'korean', 'chinese', 'french', 'mexican', 'greek', 'cajun_creole', 'mexican', 'mexican', 'southern_us', 'southern_us', 'chinese', 'french', 'jamaican', 'filipino', 'italian', 'italian', 'mexican', 'italian', 'korean', 'greek', 'french', 'italian', 'italian', 'chinese', 'thai', 'italian', 'chinese', 'italian', 'southern_us', 'korean', 'mexican', 'spanish', 'southern_us', 'filipino', 'indian', 'italian', 'indian', 'spanish', 'southern_us', 'italian', 'indian', 'mexican', 'french', 'indian', 'greek', 'cajun_creole', 'italian', 'southern_us', 'french', 'southern_us', 'indian', 'thai', 'french', 'mexican', 'southern_us', 'mexican', 'irish', 'italian', 'mexican', 'southern_us', 'japanese', 'italian', 'mexican', 'russian', 'thai', 'mexican', 'mexican', 'indian', 'mexican', 'italian', 'italian', 'mexican', 'italian', 'mexican', 'italian', 'southern_us', 'mexican', 'japanese', 'italian', 'indian', 'thai', 'mexican', 'french', 'thai', 'mexican', 'moroccan', 'italian', 'southern_us', 'vietnamese', 'mexican', 'southern_us', 'thai', 'italian', 'filipino', 'mexican', 'cajun_creole', 'greek', 'italian', 'british', 'russian', 'french', 'indian', 'vietnamese', 'thai', 'italian', 'southern_us', 'filipino', 'french', 'japanese', 'moroccan', 'italian', 'italian', 'japanese', 'southern_us', 'italian', 'spanish', 'cajun_creole', 'italian', 'french', 'cajun_creole', 'indian', 'french', 'southern_us', 'mexican', 'moroccan', 'mexican', 'italian', 'southern_us', 'mexican', 'mexican', 'southern_us', 'mexican', 'southern_us', 'moroccan', 'italian', 'italian', 'chinese', 'jamaican', 'thai', 'italian', 'southern_us', 'italian', 'mexican', 'italian', 'french', 'vietnamese', 'chinese', 'italian', 'southern_us', 'cajun_creole', 'chinese', 'french', 'southern_us', 'filipino', 'spanish', 'thai', 'italian', 'southern_us', 'jamaican', 'italian', 'brazilian', 'indian', 'italian', 'japanese', 'mexican', 'italian', 'thai', 'italian', 'french', 'indian', 'italian', 'italian', 'mexican', 'indian', 'southern_us', 'italian', 'southern_us', 'mexican', 'mexican', 'thai', 'mexican', 'mexican', 'italian', 'vietnamese', 'mexican', 'indian', 'indian', 'thai', 'thai', 'cajun_creole', 'greek', 'mexican', 'greek', 'indian', 'greek', 'chinese', 'korean', 'indian', 'moroccan', 'korean', 'french', 'thai', 'jamaican', 'italian', 'indian', 'indian', 'filipino', 'cajun_creole', 'italian', 'thai', 'cajun_creole', 'mexican', 'indian', 'italian', 'mexican', 'spanish', 'french', 'southern_us', 'italian', 'italian', 'italian', 'italian', 'greek', 'mexican', 'chinese', 'japanese', 'french', 'mexican', 'indian', 'cajun_creole', 'southern_us', 'french', 'mexican', 'italian', 'greek', 'chinese', 'mexican', 'italian', 'southern_us', 'korean', 'italian', 'mexican', 'italian', 'mexican', 'mexican', 'mexican', 'italian', 'indian', 'southern_us', 'italian', 'french', 'spanish', 'mexican', 'spanish', 'mexican', 'russian', 'vietnamese', 'japanese', 'mexican', 'italian', 'greek', 'southern_us', 'british', 'greek', 'italian', 'mexican', 'chinese', 'italian', 'italian', 'italian', 'japanese', 'italian', 'mexican', 'japanese', 'chinese', 'mexican', 'italian', 'italian', 'jamaican', 'italian', 'french', 'spanish', 'chinese', 'japanese', 'italian', 'italian', 'moroccan', 'japanese', 'vietnamese', 'italian', 'southern_us', 'italian', 'greek', 'japanese', 'french', 'chinese', 'mexican', 'cajun_creole', 'southern_us', 'mexican', 'chinese', 'mexican', 'jamaican', 'italian', 'greek', 'italian', 'italian', 'british', 'korean', 'mexican', 'mexican', 'indian', 'italian', 'southern_us', 'indian', 'italian', 'southern_us', 'mexican', 'southern_us', 'italian', 'chinese', 'southern_us', 'mexican', 'italian', 'chinese', 'italian', 'italian', 'italian', 'jamaican', 'southern_us', 'thai', 'mexican', 'southern_us', 'southern_us', 'cajun_creole', 'mexican', 'indian', 'southern_us', 'french', 'mexican', 'southern_us', 'italian', 'southern_us', 'mexican', 'greek', 'italian', 'filipino', 'thai', 'japanese', 'mexican', 'chinese', 'chinese', 'cajun_creole', 'moroccan', 'italian', 'indian', 'indian', 'southern_us', 'russian', 'thai', 'mexican', 'southern_us', 'french', 'indian', 'italian', 'mexican', 'british', 'japanese', 'thai', 'mexican', 'mexican', 'jamaican', 'japanese', 'italian', 'vietnamese', 'spanish', 'vietnamese', 'french', 'italian', 'filipino', 'italian', 'southern_us', 'mexican', 'japanese', 'italian', 'jamaican', 'mexican', 'italian', 'thai', 'indian', 'mexican', 'mexican', 'italian', 'thai', 'french', 'mexican', 'mexican', 'italian', 'southern_us', 'moroccan', 'italian', 'southern_us', 'jamaican', 'vietnamese', 'filipino', 'jamaican', 'indian', 'italian', 'french', 'japanese', 'mexican', 'mexican', 'moroccan', 'mexican', 'japanese', 'cajun_creole', 'southern_us', 'italian', 'mexican', 'chinese', 'irish', 'mexican', 'indian', 'italian', 'jamaican', 'italian', 'indian', 'french', 'vietnamese', 'french', 'indian', 'moroccan', 'vietnamese', 'chinese', 'mexican', 'greek', 'italian', 'italian', 'southern_us', 'italian', 'italian', 'italian', 'southern_us', 'italian', 'moroccan', 'vietnamese', 'southern_us', 'indian', 'japanese', 'mexican', 'japanese', 'indian', 'french', 'mexican', 'irish', 'french', 'french', 'mexican', 'mexican', 'british', 'mexican', 'korean', 'japanese', 'italian', 'spanish', 'irish', 'italian', 'vietnamese', 'russian', 'cajun_creole', 'italian', 'southern_us', 'thai', 'chinese', 'french', 'mexican', 'french', 'italian', 'italian', 'italian', 'italian', 'thai', 'southern_us', 'mexican', 'mexican', 'italian', 'french', 'italian', 'jamaican', 'indian', 'italian', 'southern_us', 'indian', 'thai', 'indian', 'southern_us', 'french', 'southern_us', 'mexican', 'southern_us', 'russian', 'korean', 'british', 'russian', 'italian', 'moroccan', 'italian', 'irish', 'italian', 'spanish', 'greek', 'italian', 'mexican', 'italian', 'southern_us', 'thai', 'french', 'indian', 'southern_us', 'southern_us', 'indian', 'southern_us', 'southern_us', 'mexican', 'southern_us', 'cajun_creole', 'japanese', 'italian', 'italian', 'italian', 'mexican', 'italian', 'italian', 'italian', 'indian', 'mexican', 'southern_us', 'mexican', 'indian', 'brazilian', 'british', 'korean', 'italian', 'chinese', 'southern_us', 'italian', 'italian', 'spanish', 'korean', 'indian', 'italian', 'mexican', 'british', 'mexican', 'italian', 'spanish', 'mexican', 'italian', 'mexican', 'mexican', 'italian', 'chinese', 'italian', 'indian', 'vietnamese', 'italian', 'french', 'irish', 'british', 'southern_us', 'british', 'vietnamese', 'mexican', 'mexican', 'cajun_creole', 'thai', 'mexican', 'southern_us', 'japanese', 'italian', 'french', 'british', 'moroccan', 'mexican', 'mexican', 'greek', 'mexican', 'korean', 'mexican', 'mexican', 'moroccan', 'japanese', 'southern_us', 'italian', 'korean', 'french', 'greek', 'chinese', 'french', 'italian', 'italian', 'italian', 'vietnamese', 'korean', 'italian', 'moroccan', 'french', 'indian', 'mexican', 'british', 'italian', 'italian', 'indian', 'southern_us', 'thai', 'southern_us', 'cajun_creole', 'mexican', 'italian', 'mexican', 'korean', 'moroccan', 'italian', 'french', 'mexican', 'italian', 'southern_us', 'mexican', 'italian', 'russian', 'italian', 'mexican', 'chinese', 'mexican', 'italian', 'indian', 'greek', 'mexican', 'italian', 'southern_us', 'korean', 'chinese', 'mexican', 'french', 'indian', 'thai', 'greek', 'japanese', 'filipino', 'southern_us', 'chinese', 'filipino', 'filipino', 'indian', 'greek', 'french', 'mexican', 'cajun_creole', 'french', 'italian', 'mexican', 'italian', 'southern_us', 'cajun_creole', 'mexican', 'mexican', 'vietnamese', 'indian', 'cajun_creole', 'italian', 'italian', 'italian', 'chinese', 'italian', 'mexican', 'chinese', 'chinese', 'french', 'japanese', 'italian', 'italian', 'italian', 'spanish', 'filipino', 'vietnamese', 'french', 'southern_us', 'italian', 'greek', 'indian', 'southern_us', 'mexican', 'italian', 'thai', 'french', 'italian', 'moroccan', 'italian', 'italian', 'chinese', 'british', 'italian', 'southern_us', 'french', 'mexican', 'mexican', 'mexican', 'southern_us', 'cajun_creole', 'cajun_creole', 'italian', 'mexican', 'irish', 'mexican', 'korean', 'southern_us', 'southern_us', 'british', 'mexican', 'italian', 'japanese', 'italian', 'italian', 'french', 'irish', 'italian', 'cajun_creole', 'french', 'greek', 'japanese', 'filipino', 'italian', 'greek', 'chinese', 'chinese', 'thai', 'italian', 'filipino', 'greek', 'mexican', 'mexican', 'italian', 'japanese', 'british', 'greek', 'vietnamese', 'chinese', 'indian', 'filipino', 'cajun_creole', 'filipino', 'chinese', 'italian', 'southern_us', 'italian', 'japanese', 'greek', 'indian', 'southern_us', 'mexican', 'french', 'cajun_creole', 'irish', 'cajun_creole', 'greek', 'moroccan', 'italian', 'greek', 'russian', 'cajun_creole', 'cajun_creole', 'italian', 'french', 'italian', 'southern_us', 'indian', 'southern_us', 'mexican', 'french', 'italian', 'southern_us', 'southern_us', 'italian', 'indian', 'southern_us', 'italian', 'italian', 'thai', 'chinese', 'vietnamese', 'mexican', 'brazilian', 'indian', 'vietnamese', 'italian', 'vietnamese', 'mexican', 'southern_us', 'mexican', 'italian', 'italian', 'indian', 'jamaican', 'mexican', 'japanese']\n"
     ]
    }
   ],
   "source": [
    "#Convert Predicted Output \n",
    "#_______ gives the best accuracy. So lets implement it on last time to get the final output.\n",
    "y_pred1=[]\n",
    "for i in range(len(y_pred)):\n",
    "    y_pred1.append(cuisine_map[str(y_pred[i])])\n",
    "print(y_test2)"
   ]
  },
  {
   "cell_type": "code",
   "execution_count": 156,
   "metadata": {},
   "outputs": [
    {
     "name": "stdout",
     "output_type": "stream",
     "text": [
      "78.8812067882\n",
      "     Actual Cuisine Predicted Cuisine\n",
      "0           mexican           mexican\n",
      "1       southern_us       southern_us\n",
      "2           italian           italian\n",
      "3           mexican           mexican\n",
      "4          japanese          japanese\n",
      "5           mexican           mexican\n",
      "6           italian           italian\n",
      "7            indian            indian\n",
      "8           italian           italian\n",
      "9          moroccan          moroccan\n",
      "10           french            french\n",
      "11          mexican           mexican\n",
      "12         japanese          japanese\n",
      "13      southern_us       southern_us\n",
      "14          italian           italian\n",
      "15          mexican           mexican\n",
      "16          italian           italian\n",
      "17         japanese          japanese\n",
      "18           indian            indian\n",
      "19         japanese          japanese\n",
      "20          mexican           mexican\n",
      "21          chinese           chinese\n",
      "22          mexican           mexican\n",
      "23          spanish           spanish\n",
      "24          italian           italian\n",
      "25            greek             greek\n",
      "26       vietnamese        vietnamese\n",
      "27          italian           italian\n",
      "28             thai              thai\n",
      "29         jamaican          jamaican\n",
      "...             ...               ...\n",
      "7925         indian            indian\n",
      "7926    southern_us       southern_us\n",
      "7927        mexican           mexican\n",
      "7928         french            french\n",
      "7929        italian           italian\n",
      "7930    southern_us       southern_us\n",
      "7931    southern_us       southern_us\n",
      "7932        italian           italian\n",
      "7933         indian            indian\n",
      "7934    southern_us       southern_us\n",
      "7935        italian           italian\n",
      "7936        italian           italian\n",
      "7937           thai              thai\n",
      "7938        chinese           chinese\n",
      "7939     vietnamese        vietnamese\n",
      "7940        mexican           mexican\n",
      "7941      brazilian         brazilian\n",
      "7942         indian            indian\n",
      "7943     vietnamese        vietnamese\n",
      "7944        italian           italian\n",
      "7945     vietnamese        vietnamese\n",
      "7946        mexican           mexican\n",
      "7947    southern_us       southern_us\n",
      "7948        mexican           mexican\n",
      "7949        italian           italian\n",
      "7950        italian           italian\n",
      "7951         indian            indian\n",
      "7952       jamaican          jamaican\n",
      "7953        mexican           mexican\n",
      "7954       japanese          japanese\n",
      "\n",
      "[7955 rows x 2 columns]\n"
     ]
    }
   ],
   "source": [
    "#We Choose OVA SVM as it gives the best accuracy of 78.88%\n",
    "from sklearn import svm\n",
    "lin_clf = svm.LinearSVC(C=1)\n",
    "lin_clf.fit(X_train, y_train)\n",
    "y_pred=lin_clf.predict(X_test)\n",
    "print(accuracy_score(y_test,y_pred)*100)\n",
    "result=pd.DataFrame({'Actual Cuisine':y_test2, 'Predicted Cuisine':y_test2})\n",
    "print(result)"
   ]
  },
  {
   "cell_type": "markdown",
   "metadata": {},
   "source": [
    "# Conclusion\n",
    "The OVA SVM Algorithm gives the best accuracy of 78.88% for the given dataset.\n",
    "\n",
    "|       Algorithm       |           Parameters           | Accuracy |\n",
    "|:----------------------|:------------------------------:|:--------:|\n",
    "|          KNN          |              K=25              |  74.81%  |\n",
    "|        OVA SVM        |              C=1               |  78.88%  |\n",
    "|      Crammer SVM      |C=1, multi_class=crammer_singer |  78.84%  |\n",
    "|    OVA Naive Bayes    |               -                |  66.71%  |\n",
    "|OVA Logistic Regression|               -                |  77.72%  |\n"
   ]
  },
  {
   "cell_type": "code",
   "execution_count": null,
   "metadata": {
    "collapsed": true
   },
   "outputs": [],
   "source": []
  }
 ],
 "metadata": {
  "kernelspec": {
   "display_name": "Python 3",
   "language": "python",
   "name": "python3"
  },
  "language_info": {
   "codemirror_mode": {
    "name": "ipython",
    "version": 3
   },
   "file_extension": ".py",
   "mimetype": "text/x-python",
   "name": "python",
   "nbconvert_exporter": "python",
   "pygments_lexer": "ipython3",
   "version": "3.6.3"
  }
 },
 "nbformat": 4,
 "nbformat_minor": 2
}
